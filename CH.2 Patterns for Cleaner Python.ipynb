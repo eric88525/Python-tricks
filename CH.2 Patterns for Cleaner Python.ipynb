{
  "cells": [
    {
      "cell_type": "markdown",
      "metadata": {
        "id": "xAWLeyOegVbH"
      },
      "source": [
        "# CH.2 Patterns for Cleaner Python\n"
      ]
    },
    {
      "cell_type": "markdown",
      "metadata": {
        "id": "A46SQdhSgYlg"
      },
      "source": [
        "# 2.1 assert"
      ]
    },
    {
      "cell_type": "markdown",
      "metadata": {
        "id": "HpVJeiU5gcUp"
      },
      "source": [
        "用來確保程式 **內部** 不能有特定錯誤。\n",
        "```python\n",
        "# assert syntax\n",
        "# expression2 是錯誤訊息\n",
        "assert_stmt ::= \"assert\" expression1 [\",\" expression2]\n",
        "```\n",
        "\n",
        "python 直譯器在執行階段會轉為以下程式碼，如果加入加入 -O 或是 -OO 來最佳化編譯  \n",
        "`__debug__` 為 False，assert 就會被忽略，因此別用 assert 當作正式上線的抓 error 方法\n",
        "```python\n",
        "if __debug__:\n",
        "    if not expression1:\n",
        "        raise AssertionError(expression2)\n",
        "```\n",
        "\n",
        "以下是一些關於 assert 的陷阱\n",
        "+ Checking for admin privileges with an assert statement is dangerous. (因為編譯後會消失)\n",
        "+ Asserts That Never Fail (如果讓第一個 statement 為 tuple，那將永遠成立)"
      ]
    },
    {
      "cell_type": "code",
      "execution_count": 2,
      "metadata": {},
      "outputs": [
        {
          "name": "stderr",
          "output_type": "stream",
          "text": [
            "<>:2: SyntaxWarning: assertion is always true, perhaps remove parentheses?\n",
            "<>:2: SyntaxWarning: assertion is always true, perhaps remove parentheses?\n",
            "/tmp/ipykernel_545534/927924879.py:2: SyntaxWarning: assertion is always true, perhaps remove parentheses?\n",
            "  assert (\n"
          ]
        }
      ],
      "source": [
        "counter = 10\n",
        "assert (\n",
        "    counter == 9,\n",
        "    'It should have counted all the items'\n",
        ")"
      ]
    },
    {
      "cell_type": "markdown",
      "metadata": {},
      "source": [
        "**Key Takeaways**\n",
        "+ Python’s assert statement is a debugging aid that tests a condition as an internal self-check in your program.\n",
        "+ Asserts should only be used to help developers identify bugs.\n",
        "They’re not a mechanism for handling run-time errors.\n",
        "+ Asserts can be globally disabled with an interpreter setting"
      ]
    },
    {
      "cell_type": "markdown",
      "metadata": {},
      "source": [
        "# 2.2 Complacent Comma Placement"
      ]
    },
    {
      "cell_type": "markdown",
      "metadata": {
        "id": "W2tnSGWhgf0l"
      },
      "source": [
        "如果你有一個包含人名的 list，逗號要如以下這樣放置\n",
        "+ 在添加元素時才容易看出改了什麼\n",
        "+ 有些 source control system 是 line-based ，只改一行可能偵測不到\n",
        "+ 確保有輸入逗號\n",
        "```python\n",
        "names = [\n",
        "    'Alice',\n",
        "    'Bob',\n",
        "    'Dilbert'\n",
        "]\n",
        "```\n",
        "\n",
        "如果忘記打逗號 將會變成 `['Alice', 'BobDilbert']`"
      ]
    },
    {
      "cell_type": "code",
      "execution_count": 3,
      "metadata": {},
      "outputs": [
        {
          "name": "stdout",
          "output_type": "stream",
          "text": [
            "['Alice', 'BobDilbert']\n"
          ]
        }
      ],
      "source": [
        "names = [\n",
        "    'Alice',\n",
        "    'Bob' # <- Missing comma!\n",
        "    'Dilbert'\n",
        "]\n",
        "print(names)"
      ]
    },
    {
      "cell_type": "markdown",
      "metadata": {},
      "source": [
        "**Key Takeaways**\n",
        "+ Smart formatting and comma placement can make your list,\n",
        "dict, or set constants **easier to maintain.**\n",
        "+ Python’s string literal concatenation feature can work to your\n",
        "benefit, or introduce hard-to-catch bugs."
      ]
    },
    {
      "cell_type": "markdown",
      "metadata": {},
      "source": [
        "# 2.3 Context Managers and the with\n"
      ]
    },
    {
      "cell_type": "markdown",
      "metadata": {
        "id": "7YjCAckcguAV"
      },
      "source": [
        "with 能幫助我們寫出乾淨且可讀性更高的程式，是一種 context manager，能在特定區塊擁有資源，離開後就會銷毀  \n",
        "\\\n",
        "我們能重新改寫程式碼\n",
        "```python\n",
        "f = open('hello.txt', 'w')\n",
        "try:\n",
        "    f.write('hello, world')\n",
        "finally:\n",
        "    f.close()\n",
        "```\n",
        "現在簡潔多了\n",
        "```python\n",
        "with open('a.txt','r') as f:\n",
        "    f.write('123')\n",
        "```"
      ]
    },
    {
      "cell_type": "markdown",
      "metadata": {
        "id": "TDy94Cn8g7_q"
      },
      "source": [
        "with 也能拿來可以用來做 threading lock\n",
        "+ [about threading lock](https://ithelp.ithome.com.tw/articles/10254439)"
      ]
    },
    {
      "cell_type": "code",
      "execution_count": 4,
      "metadata": {
        "id": "Ir2a3xhSgNcU"
      },
      "outputs": [],
      "source": [
        "import threading\n",
        "some_lock = threading.Lock()\n",
        "\n",
        "# 離開後自動 lock.release()\n",
        "with some_lock:\n",
        "    # do something\n",
        "    pass"
      ]
    },
    {
      "cell_type": "markdown",
      "metadata": {
        "id": "Va2OStIxg_FA"
      },
      "source": [
        "## Supporting with in Your Own Objects\n",
        "\n",
        "如果要自己實作和 with 互動的物件，需遵守 context managers (一種 protocol or interface)  \n",
        "實作出 `__enter__` 和 `__exit__` "
      ]
    },
    {
      "cell_type": "code",
      "execution_count": 5,
      "metadata": {
        "id": "pHfTmEkMgNfF"
      },
      "outputs": [],
      "source": [
        "class myClass:\n",
        "    def __init__(self,name):\n",
        "        self.name = name\n",
        "    \n",
        "    def __enter__(self):\n",
        "        self.file = open(self.name,'w')\n",
        "        return self.file\n",
        "    \n",
        "    # exc_type , exc_value , trackback is needed\n",
        "    def __exit__(self , exc_type , exc_value , trackback):\n",
        "        if self.file:\n",
        "            self.file.close()\n",
        "            \n",
        "with myClass('a.txt') as f:\n",
        "    # do something\n",
        "    pass"
      ]
    },
    {
      "cell_type": "markdown",
      "metadata": {
        "id": "vkWaYXMphEjh"
      },
      "source": [
        "## generator-based 的寫法 (generator 在 6.5 會介紹)\n",
        "使用 contextlib 提供的 decorator"
      ]
    },
    {
      "cell_type": "code",
      "execution_count": 6,
      "metadata": {
        "id": "jc0UwhSGgNh1"
      },
      "outputs": [],
      "source": [
        "from contextlib import contextmanager\n",
        "\n",
        "@contextmanager\n",
        "def managed_file(filename):\n",
        "    try:\n",
        "        f = open(filename,'w')\n",
        "        yield f\n",
        "    finally:\n",
        "        f.close()\n",
        "\n",
        "with managed_file('hello.txt') as f:\n",
        "    f.write('hello, world!')\n",
        "    f.write('bye now')"
      ]
    },
    {
      "cell_type": "markdown",
      "metadata": {},
      "source": [
        "## Writing Pretty APIs With Context Managers\n",
        "context manager 是很彈性的，如果善用就能定義出好用的 APIs  \n",
        "  \n",
        "以下程式碼能製造出縮排效果"
      ]
    },
    {
      "cell_type": "code",
      "execution_count": 7,
      "metadata": {},
      "outputs": [],
      "source": [
        "class Indenter:\n",
        "    def __init__(self):\n",
        "        self.level = 0\n",
        "    def __enter__(self):\n",
        "        self.level += 1\n",
        "        return self\n",
        "    def __exit__(self, exc_type, exc_val, exc_tb):\n",
        "        self.level -= 1\n",
        "    def print(self, text):\n",
        "        print('*' * self.level + text)"
      ]
    },
    {
      "cell_type": "code",
      "execution_count": 8,
      "metadata": {},
      "outputs": [
        {
          "name": "stdout",
          "output_type": "stream",
          "text": [
            "*hi!\n",
            "**hello\n",
            "***bonjour\n",
            "*hey\n"
          ]
        }
      ],
      "source": [
        "with Indenter() as indent:\n",
        "    indent.print('hi!')\n",
        "    with indent:\n",
        "        indent.print('hello')\n",
        "        with indent:\n",
        "            indent.print('bonjour')\n",
        "    indent.print('hey')"
      ]
    },
    {
      "cell_type": "markdown",
      "metadata": {},
      "source": [
        "**Key Takeaways**\n",
        "+ The with statement simplifies exception handling by encapsulating standard uses of try/finally statements in so-called\n",
        "**context managers**.\n",
        "+ Most commonly it is used to manage the **safe acquisition and\n",
        "release of system resources**. Resources are acquired by the\n",
        "with statement and released automatically when execution\n",
        "leaves the with context.\n",
        "+ Using with effectively can help you avoid resource leaks and\n",
        "make your code easier to read.\n"
      ]
    },
    {
      "cell_type": "markdown",
      "metadata": {
        "id": "UiCELGW5hGm8"
      },
      "source": [
        "# 2.4 Underscores, Dunders, and More"
      ]
    },
    {
      "cell_type": "markdown",
      "metadata": {
        "id": "jaXmM7KAhZOh"
      },
      "source": [
        "## 前單底線\n",
        "一種提示，告訴別人這是私有成員，但python沒有明確的 public/private 成員之分，還是能夠存取的到。  \n",
        "\n",
        "但如果寫一個檔案叫做 `my_module.py`\n",
        "```python\n",
        "# my_module.py\n",
        "\n",
        "def external_func():\n",
        "    return 23\n",
        "\n",
        "def _internal_func():\n",
        "    return 42\n",
        "```\n",
        "前單底線的 function 會被忽略\n",
        "```python\n",
        ">>> from my_module import * \n",
        ">>> _internal_func()\n",
        "\"name '_internal_func' is not defined\"\n",
        "```\n",
        "直接引用 my_module 還是能使用\n",
        "\n",
        "```python\n",
        ">>> import my_module\n",
        ">>> my_module._internal_func()\n",
        "42\n",
        "```"
      ]
    },
    {
      "cell_type": "markdown",
      "metadata": {
        "id": "VuDoZuPMhqxf"
      },
      "source": [
        "## 前雙底線 Double Leading Underscore: “__var”\n",
        "+ 在編譯的時候，會幫他自動改名\n",
        "+ 用來避免 private member 被 overwrite\n",
        "+ 在 class 內部的存取名稱不變，在 class 外才會受影響"
      ]
    },
    {
      "cell_type": "code",
      "execution_count": 9,
      "metadata": {
        "id": "nnLU7UG7hq3k"
      },
      "outputs": [
        {
          "name": "stdout",
          "output_type": "stream",
          "text": [
            "['__class__', '__delattr__', '__dict__', '__dir__', '__doc__', '__eq__', '__format__', '__ge__', '__getattribute__', '__gt__', '__hash__', '__init__', '__init_subclass__', '__le__', '__lt__', '__module__', '__ne__', '__new__', '__reduce__', '__reduce_ex__', '__repr__', '__setattr__', '__sizeof__', '__str__', '__subclasshook__', '__weakref__', '_a__hi']\n"
          ]
        }
      ],
      "source": [
        "# __hi 被重新命名成  _a__hi\n",
        "\n",
        "class a:\n",
        "    def __init__(self):    \n",
        "        return \n",
        "    def __hi():\n",
        "        print('hi')\n",
        "\n",
        "i = a()\n",
        "print(dir(i))"
      ]
    },
    {
      "cell_type": "code",
      "execution_count": 11,
      "metadata": {},
      "outputs": [
        {
          "name": "stdout",
          "output_type": "stream",
          "text": [
            "overridden\n"
          ]
        }
      ],
      "source": [
        "class Test:\n",
        "    def __init__(self):\n",
        "        self.foo = 11\n",
        "        self._bar = 23\n",
        "        self.__baz = 23\n",
        "\n",
        "class ExtendedTest(Test):\n",
        "    def __init__(self):\n",
        "        super().__init__()\n",
        "        self.foo = 'overridden'\n",
        "        self._bar = 'overridden'\n",
        "        self.__baz = 'overridden'\n",
        "\n",
        "e = ExtendedTest()\n",
        "\n",
        "print(e._ExtendedTest__baz) "
      ]
    },
    {
      "cell_type": "markdown",
      "metadata": {},
      "source": [
        "這樣將會出錯，因為 __baz 被改名為 _ExtendedTest__baz\n",
        "```python\n",
        ">>> print(e.__baz) \n",
        ">>> AttributeError: 'ExtendedTest' object has no attribute '__baz'\n",
        "```"
      ]
    },
    {
      "cell_type": "markdown",
      "metadata": {},
      "source": [
        "底下是一個很神奇的情況，`__mangled` 被 python 直譯器更改命名，竟然跟全域變數相連了"
      ]
    },
    {
      "cell_type": "code",
      "execution_count": 13,
      "metadata": {},
      "outputs": [
        {
          "data": {
            "text/plain": [
              "23"
            ]
          },
          "execution_count": 13,
          "metadata": {},
          "output_type": "execute_result"
        }
      ],
      "source": [
        "_MangledGlobal__mangled = 23\n",
        "\n",
        "class MangledGlobal:\n",
        "    def test(self):\n",
        "        return __mangled\n",
        "\n",
        "MangledGlobal().test()"
      ]
    },
    {
      "cell_type": "markdown",
      "metadata": {
        "id": "IzNcI0DciF5B"
      },
      "source": [
        "## 後單底線  Single Trailing Underscore: “var_”\n",
        "用來躲保留字\n",
        "```python\n",
        "class_ = 10 \n",
        "```"
      ]
    },
    {
      "cell_type": "markdown",
      "metadata": {},
      "source": [
        "## 前後雙底線 Double Leading and Trailing Underscore:“__var__”\n",
        "+ 又叫做 `dunders`，是 `double underscore` 的縮寫，所以 `__init__` 會被叫做 `dunders init`\n",
        "+ 通常都是作為 python 核心 function，不建議這樣命名，因為未來可能跟 python 更新有衝突"
      ]
    },
    {
      "cell_type": "markdown",
      "metadata": {},
      "source": [
        "## 單底線 Single Underscore: “_”\n",
        "用來當作小廢物變數"
      ]
    },
    {
      "cell_type": "markdown",
      "metadata": {},
      "source": [
        "**Key Takeaways**\n",
        "+ Single Leading Underscore “_var”: Naming convention indicating a name is meant for internal use. Generally not enforced by the Python interpreter (except in wildcard imports)\n",
        "and meant as a hint to the programmer only.\n",
        "+ Single Trailing Underscore “var_”: Used by convention to\n",
        "avoid naming conflicts with Python keywords.\n",
        "+ Double Leading Underscore “__var”: Triggers name mangling when used in a class context. Enforced by the Python interpreter.\n",
        "+ Double Leading and Trailing Underscore “__var__”: Indicates special methods defined by the Python language. Avoid\n",
        "this naming scheme for your own attributes.\n",
        "+ Single Underscore “_”: Sometimes used as a name for temporary or insignificant variables (“don’t care”). Also, it represents the result of the last expression in a Python REPL session."
      ]
    },
    {
      "cell_type": "markdown",
      "metadata": {
        "id": "d0tfF7KViNc7"
      },
      "source": [
        "# 2.5 A Shocking Truth About String Formatting\n",
        "以下將介紹 4 種格式化字串的方法\n",
        "\n",
        "## #1 – “Old Style” String Formatting\n",
        "跟 c 語言很相似"
      ]
    },
    {
      "cell_type": "code",
      "execution_count": null,
      "metadata": {},
      "outputs": [],
      "source": [
        "name = 'bob'\n",
        "print('Hello, %s' % name)\n",
        "\n",
        "errno = 500\n",
        "print('%x' % errno)\n",
        "\n",
        "print('Hey %(name)s, there is a 0x%(errno)x error!' % {\"name\": name, \"errno\": errno })"
      ]
    },
    {
      "cell_type": "markdown",
      "metadata": {},
      "source": [
        "## #2 – “New Style” String Formatting"
      ]
    },
    {
      "cell_type": "code",
      "execution_count": null,
      "metadata": {},
      "outputs": [],
      "source": [
        "name = 'bob'\n",
        "print('Hello, {}'.format(name))\n",
        "\n",
        "errno = 500\n",
        "print('Hey {name}, there is a 0x{errno:x} error!'.format(name=name, errno=errno))"
      ]
    },
    {
      "cell_type": "markdown",
      "metadata": {},
      "source": [
        "## #3 – Literal String Interpolation (Python 3.6+)\n"
      ]
    },
    {
      "cell_type": "markdown",
      "metadata": {},
      "source": [
        "我們寫了 greet function，用來回傳 f-string\n",
        "```python\n",
        "def greet(name, question):\n",
        "    return f\"Hello, {name}! How's it {question}?\"\n",
        "```\n",
        "greet 經過 disassemble 後，會發現被轉成類似底下這種格式\n",
        "```python\n",
        "def greet(name, question):\n",
        "    return (\"Hello, \" + name + \"! How's it \" + question + \"?\")\n",
        "```\n",
        "但實際上 f-string 會更快，因為使用到了 `BUILD_STRING` 來做最佳化"
      ]
    },
    {
      "cell_type": "code",
      "execution_count": null,
      "metadata": {},
      "outputs": [],
      "source": [
        "import dis\n",
        "\n",
        "def greet(name, question):\n",
        "    return f\"Hello, {name}! How's it {question}?\"\n",
        "\n",
        "dis.dis(greet)"
      ]
    },
    {
      "cell_type": "markdown",
      "metadata": {
        "id": "oK-q4-21iYhr"
      },
      "source": [
        "附上 f-string formatter\n",
        "| sign | mean | \n",
        "| -------- | -------- |\n",
        "| :5     | 寬度 5    |\n",
        "| :5.5     | 寬5小數點5    |\n",
        "| : < > ^     | 左、右、置中   \n",
        "| : * #      | 不夠的用 * # replace|"
      ]
    },
    {
      "cell_type": "markdown",
      "metadata": {
        "id": "LHxnEZuhizA7"
      },
      "source": [
        "## #4 – Template Strings\n",
        "\n",
        "沒有格式化規範，當需要處裡由使用者輸入的字串時可用，因功能少複雜度低"
      ]
    },
    {
      "cell_type": "code",
      "execution_count": null,
      "metadata": {
        "id": "Kh2mOjjsgNkq"
      },
      "outputs": [],
      "source": [
        "from string import Template\n",
        "\n",
        "t = Template('hi! $name')\n",
        "my_name = 'eric'\n",
        "t.substitute(name = my_name)"
      ]
    },
    {
      "cell_type": "markdown",
      "metadata": {},
      "source": [
        "但如果有人想盜取機密資料，他能透過 #2 format string 存取到 __globals__ 內的資料"
      ]
    },
    {
      "cell_type": "code",
      "execution_count": null,
      "metadata": {},
      "outputs": [],
      "source": [
        "SECRET = 'this-is-a-secret'\n",
        "\n",
        "class Error:\n",
        "    def __init__(self):\n",
        "        pass\n",
        "\n",
        "err = Error()\n",
        "\n",
        "user_input = '{error.__init__.__globals__[SECRET]}'\n",
        "user_input.format(error=err)"
      ]
    },
    {
      "cell_type": "markdown",
      "metadata": {},
      "source": [
        "但如果用 template，就能避免此問題，template string 會去檢查輸入合不合法"
      ]
    },
    {
      "cell_type": "code",
      "execution_count": null,
      "metadata": {},
      "outputs": [],
      "source": [
        "user_input = '${error.__init__.__globals__[SECRET]}'\n",
        "\n",
        "# 可以執行看看 會出現錯誤\n",
        "# Template(user_input).substitute(error=err)"
      ]
    },
    {
      "cell_type": "markdown",
      "metadata": {},
      "source": [
        "## 我們該使用哪種 format string\n",
        "**Dan’s Python String Formatting Rule of Thumb:** \\\n",
        "\\\n",
        "If your format strings are **user-supplied**, use Template \n",
        "Strings to avoid security issues.  \\\n",
        "\\\n",
        "Otherwise, use Literal  String Interpolation if you’re on Python 3.6+, and “New \n",
        "Style” String Formatting if you’re not. \n",
        "\n",
        "**Key Takeaways**\n",
        "+ Perhaps surprisingly, there’s more than one way to handle\n",
        "string formatting in Python.\n",
        "+ Each method has its individual pros and cons. Your use case\n",
        "will influence which method you should use.\n",
        "+ If you’re having trouble deciding which string formatting\n",
        "method to use, try my String Formatting Rule of Thumb.\n"
      ]
    },
    {
      "cell_type": "markdown",
      "metadata": {
        "id": "wP8MHBHg4i5N"
      },
      "source": [
        "## 2.6 指派運算子(3.8+)\n",
        "這個酷東西能在指派的同時還有return value在指派的同時還有return value"
      ]
    },
    {
      "cell_type": "code",
      "execution_count": 1,
      "metadata": {
        "id": "LJQ5NTLw4rvA"
      },
      "outputs": [],
      "source": [
        "a = '123'\n",
        "\n",
        "# n 先指派為 len(a)\n",
        "# 回傳出 n 給 if 判斷式\n",
        "if (n := len(a)) > 10:\n",
        "    print(f\"List is too long ({n} elements, expected <= 10)\")"
      ]
    },
    {
      "cell_type": "code",
      "execution_count": 16,
      "metadata": {
        "id": "bEYNMK214t3d"
      },
      "outputs": [
        {
          "name": "stdout",
          "output_type": "stream",
          "text": [
            "1\n",
            "\n",
            "2\n",
            "\n",
            "3\n",
            "\n"
          ]
        }
      ],
      "source": [
        "with open('input.txt','w') as f:\n",
        "  f.write(f\"1\\n2\\n3\\n\")\n",
        "\n",
        "with open('input.txt','r') as f:\n",
        "  while line := f.readline():\n",
        "    print(line)"
      ]
    },
    {
      "cell_type": "markdown",
      "metadata": {
        "id": "BTta4Puo5RjO"
      },
      "source": [
        "## 2.7 “The Zen of Python” Easter Egg"
      ]
    },
    {
      "cell_type": "code",
      "execution_count": 17,
      "metadata": {
        "id": "QLW7NgmC5XR4"
      },
      "outputs": [
        {
          "name": "stdout",
          "output_type": "stream",
          "text": [
            "The Zen of Python, by Tim Peters\n",
            "\n",
            "Beautiful is better than ugly.\n",
            "Explicit is better than implicit.\n",
            "Simple is better than complex.\n",
            "Complex is better than complicated.\n",
            "Flat is better than nested.\n",
            "Sparse is better than dense.\n",
            "Readability counts.\n",
            "Special cases aren't special enough to break the rules.\n",
            "Although practicality beats purity.\n",
            "Errors should never pass silently.\n",
            "Unless explicitly silenced.\n",
            "In the face of ambiguity, refuse the temptation to guess.\n",
            "There should be one-- and preferably only one --obvious way to do it.\n",
            "Although that way may not be obvious at first unless you're Dutch.\n",
            "Now is better than never.\n",
            "Although never is often better than *right* now.\n",
            "If the implementation is hard to explain, it's a bad idea.\n",
            "If the implementation is easy to explain, it may be a good idea.\n",
            "Namespaces are one honking great idea -- let's do more of those!\n"
          ]
        }
      ],
      "source": [
        "import this"
      ]
    },
    {
      "cell_type": "code",
      "execution_count": 18,
      "metadata": {
        "id": "wdQddC4k5clD"
      },
      "outputs": [],
      "source": [
        "# 在 python shell 打這行會有彩蛋\n",
        "import antigravity"
      ]
    }
  ],
  "metadata": {
    "colab": {
      "collapsed_sections": [],
      "name": "python_tricks.ipynb",
      "provenance": []
    },
    "kernelspec": {
      "display_name": "Python 3.8.10 64-bit (windows store)",
      "language": "python",
      "name": "python3"
    },
    "language_info": {
      "codemirror_mode": {
        "name": "ipython",
        "version": 3
      },
      "file_extension": ".py",
      "mimetype": "text/x-python",
      "name": "python",
      "nbconvert_exporter": "python",
      "pygments_lexer": "ipython3",
      "version": "3.8.10"
    },
    "vscode": {
      "interpreter": {
        "hash": "ae784ccfb18bd71bfbb468741712411e6f47c1f5c385b973a4a22dac7f04b551"
      }
    }
  },
  "nbformat": 4,
  "nbformat_minor": 0
}
