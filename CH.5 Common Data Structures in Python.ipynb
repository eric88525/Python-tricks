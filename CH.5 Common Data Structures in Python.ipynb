{
  "cells": [
    {
      "cell_type": "markdown",
      "metadata": {
        "id": "J3hsm42ZU4Q-"
      },
      "source": [
        "# Chapter 5  \n",
        "Common Data Structures in Python\n",
        "  \n",
        "python 相比於其他語言，似乎少了些資料結構，例如 stack 或是 linked list  \n",
        "在這章節你將學到如何去實作這些資料型態"
      ]
    },
    {
      "cell_type": "markdown",
      "metadata": {
        "id": "CJn_iuZJV_yo"
      },
      "source": [
        "# 5.1 Dictionaries, Maps, and Hashtables\n",
        "Dictionaries are also often called **maps, hashmaps, lookup tables, or\n",
        "associative arrays.**  \n",
        "They allow for the efficient lookup, insertion, and\n",
        "deletion of any object associated with a given key\n"
      ]
    },
    {
      "cell_type": "markdown",
      "metadata": {
        "id": "4Gt_npefWQ5t"
      },
      "source": [
        "## dict – Your Go-To Dictionary\n",
        "python 字典的 key 可以是任何 [hashable](https://docs.python.org/3/glossary.html#term-hashable) 的資料型態  ，Immutable types 像是 strings 和 number 都是 hashable 的，甚至可用 tuple objects 來當作字典的 key  \n",
        "  \n",
        "python 的 dict 經過最佳化，執行 lookup, insert, update, and\n",
        "delete operations 都是 $O(1)$ 複雜度  \n",
        "  \n",
        "除了最基本的 dict objects，Python’s standard library 還提供更進階的 dict ，這些都是基於內建的 dictionary class 加上一些方便的特色而來\n",
        "\n",
        "> A hashable object has a hash value which never changes during\n",
        "its lifetime (see \\_\\_hash\\_\\_), and it can be compared to other objects\n",
        "(see \\_\\_eq\\_\\_).\n"
      ]
    },
    {
      "cell_type": "code",
      "execution_count": 1,
      "metadata": {
        "colab": {
          "base_uri": "https://localhost:8080/"
        },
        "id": "qonWFDuMU8Ad",
        "outputId": "e7be74b5-ecd0-4b0f-d570-d68548ee754e"
      },
      "outputs": [
        {
          "name": "stdout",
          "output_type": "stream",
          "text": [
            "3719\n",
            "{0: 0, 1: 1, 2: 4, 3: 9, 4: 16, 5: 25}\n"
          ]
        }
      ],
      "source": [
        "phonebook = {\n",
        "  'bob': 7387,\n",
        "  'alice': 3719,\n",
        "  'jack': 7052,\n",
        "}\n",
        "squares = {x: x * x for x in range(6)}\n",
        "\n",
        "print(phonebook['alice'])\n",
        "print(squares)"
      ]
    },
    {
      "cell_type": "markdown",
      "metadata": {
        "id": "2J4_XKhWYRys"
      },
      "source": [
        "## collections.OrderedDict – Remember the Insertion Order of Keys\n",
        "能記住元素新增順序的 dictionary"
      ]
    },
    {
      "cell_type": "code",
      "execution_count": 2,
      "metadata": {
        "colab": {
          "base_uri": "https://localhost:8080/"
        },
        "id": "suhHzDaFU8DS",
        "outputId": "311728d2-afda-4de7-fd7b-29fc6e77c8ac"
      },
      "outputs": [
        {
          "data": {
            "text/plain": [
              "OrderedDict([('one', 1), ('two', 2), ('three', 3)])"
            ]
          },
          "execution_count": 2,
          "metadata": {},
          "output_type": "execute_result"
        }
      ],
      "source": [
        "import collections\n",
        "d = collections.OrderedDict(one=1, two=2, three=3)\n",
        "d"
      ]
    },
    {
      "cell_type": "code",
      "execution_count": 3,
      "metadata": {
        "colab": {
          "base_uri": "https://localhost:8080/"
        },
        "id": "zHFnajzKU8Fz",
        "outputId": "364a8a61-fa75-4af2-ed84-914456a7c403"
      },
      "outputs": [
        {
          "data": {
            "text/plain": [
              "OrderedDict([('one', 1), ('two', 2), ('three', 3), ('four', 4)])"
            ]
          },
          "execution_count": 3,
          "metadata": {},
          "output_type": "execute_result"
        }
      ],
      "source": [
        "d['four'] = 4\n",
        "d"
      ]
    },
    {
      "cell_type": "code",
      "execution_count": 4,
      "metadata": {
        "colab": {
          "base_uri": "https://localhost:8080/"
        },
        "id": "qECfRKpyOWvF",
        "outputId": "60dce76d-e99d-48bb-a957-aef36c606228"
      },
      "outputs": [
        {
          "data": {
            "text/plain": [
              "odict_keys(['one', 'two', 'three', 'four'])"
            ]
          },
          "execution_count": 4,
          "metadata": {},
          "output_type": "execute_result"
        }
      ],
      "source": [
        "d.keys()"
      ]
    },
    {
      "cell_type": "markdown",
      "metadata": {
        "id": "fq9T0FDjOZ9D"
      },
      "source": [
        "## collections.defaultdict – Return Default Values for Missing Keys\n",
        "如果 key 值不存在則回傳預設值，這可以讓我們省去 key 檢查或是抓 KeyError exception "
      ]
    },
    {
      "cell_type": "code",
      "execution_count": 5,
      "metadata": {
        "id": "g5me2pDQOanR"
      },
      "outputs": [],
      "source": [
        "from collections import defaultdict\n",
        "dd = defaultdict(list)\n",
        "# dd = defaultdict(int)"
      ]
    },
    {
      "cell_type": "code",
      "execution_count": 6,
      "metadata": {
        "colab": {
          "base_uri": "https://localhost:8080/"
        },
        "id": "JUsOEQVtOaqo",
        "outputId": "a49968c1-bbbb-42a2-8785-498d073bbe1b"
      },
      "outputs": [
        {
          "data": {
            "text/plain": [
              "['Rufus', 'Kathrin', 'Mr Sniffles']"
            ]
          },
          "execution_count": 6,
          "metadata": {},
          "output_type": "execute_result"
        }
      ],
      "source": [
        "# Accessing a missing key creates it and\n",
        "# initializes it using the default factory,\n",
        "# i.e. list() in this example:\n",
        "dd['dogs'].append('Rufus')\n",
        "dd['dogs'].append('Kathrin')\n",
        "dd['dogs'].append('Mr Sniffles')\n",
        "\n",
        "dd['dogs']"
      ]
    },
    {
      "cell_type": "markdown",
      "metadata": {
        "id": "uDEZ07kIPrxp"
      },
      "source": [
        "## collections.ChainMap – Search Multiple Dictionaries as a Single Mapping\n",
        "\n",
        "ChainMap 將多個 dict 整合為一個 dict，從左到右依序搜索"
      ]
    },
    {
      "cell_type": "code",
      "execution_count": 7,
      "metadata": {
        "colab": {
          "base_uri": "https://localhost:8080/"
        },
        "id": "UnOY2qx7PseV",
        "outputId": "84a50cae-deb1-43e5-84b0-5e0aa100e3db"
      },
      "outputs": [
        {
          "data": {
            "text/plain": [
              "ChainMap({'one': 1, 'two': 2}, {'three': 3, 'four': 4})"
            ]
          },
          "execution_count": 7,
          "metadata": {},
          "output_type": "execute_result"
        }
      ],
      "source": [
        "from collections import ChainMap\n",
        "\n",
        "dict1 = {'one': 1, 'two':2}\n",
        "dict2 = {'three': 3, 'four': 4}\n",
        "chain = ChainMap(dict1, dict2)\n",
        "\n",
        "chain"
      ]
    },
    {
      "cell_type": "code",
      "execution_count": 8,
      "metadata": {
        "colab": {
          "base_uri": "https://localhost:8080/"
        },
        "id": "jGVY2lWoPshI",
        "outputId": "4cceb04b-8e1f-449d-9dcc-57275c960073"
      },
      "outputs": [
        {
          "data": {
            "text/plain": [
              "3"
            ]
          },
          "execution_count": 8,
          "metadata": {},
          "output_type": "execute_result"
        }
      ],
      "source": [
        "# ChainMap searches each collection in the chain\n",
        "# from left to right until it finds the key (or fails):\n",
        "\n",
        "chain['three']"
      ]
    },
    {
      "cell_type": "markdown",
      "metadata": {
        "id": "JmlijSKOQSVn"
      },
      "source": [
        "## types.MappingProxyType – A Wrapper for Making Read-Only Dictionaries\n",
        "\n",
        "MappingProxyType 是一種 wrapper，能將一般的 dict 包裝成 Read-only 形式  \n",
        "這適用於不想被更改內容，又不想完整複製出另一個 dict 的情況"
      ]
    },
    {
      "cell_type": "code",
      "execution_count": 9,
      "metadata": {
        "id": "13G7rKX0QUPq"
      },
      "outputs": [],
      "source": [
        "from types import MappingProxyType\n",
        "\n",
        "writable = {'one': 1, 'two': 2}\n",
        "read_only = MappingProxyType(writable)"
      ]
    },
    {
      "cell_type": "code",
      "execution_count": 10,
      "metadata": {
        "colab": {
          "base_uri": "https://localhost:8080/"
        },
        "id": "ch-vYkruQUWG",
        "outputId": "465b544d-5b7d-43d9-b353-bca14fc2345f"
      },
      "outputs": [
        {
          "name": "stdout",
          "output_type": "stream",
          "text": [
            "1\n"
          ]
        }
      ],
      "source": [
        "print(read_only['one'])\n",
        "\n",
        "# TypeError: 'mappingproxy' object does not support item assignment\n",
        "# read_only['one'] = 10"
      ]
    },
    {
      "cell_type": "markdown",
      "metadata": {
        "id": "XptzbSxmRRCm"
      },
      "source": [
        "# Dictionaries in Python: Conclusion\n",
        "除非有**特殊需求**，還是建議用最基本的dict，因為他們都有被效能最佳化"
      ]
    },
    {
      "cell_type": "markdown",
      "metadata": {
        "id": "t08RQde_RtnA"
      },
      "source": [
        "**Key Takeaways**\n",
        "+ Dictionaries are the central data structure in Python.\n",
        "+ The built-in dict type will be “good enough” most of the time.\n",
        "+ Specialized implementations, like read-only or ordered dicts,\n",
        "are available in the Python standard library.\n"
      ]
    },
    {
      "cell_type": "markdown",
      "metadata": {
        "id": "CI_r6BnjRwcc"
      },
      "source": [
        "## 5.2 Array Data Structures\n",
        "array 的組成為固定數量的資料，並允許透過 index 存取，其中裡面的元素都是相鄰的，他們在記憶體上連續(contiguous)，因此存取複雜度為 $O(1)$。 \n",
        "   \n",
        "可以把 array 想像成是一個停車場，裡面有許多個停車格，但有些特殊的停車場會限制能停的車種，我們稱之為 typed array"
      ]
    },
    {
      "cell_type": "markdown",
      "metadata": {
        "id": "8AysFdryTKj4"
      },
      "source": [
        "## list – Mutable Dynamic Arrays\n",
        "list 是 python 的核心功能\n",
        "+ 具有動態的大小可以新增和刪除元素，且會自動分配記憶體來儲存這些資料。\n",
        "+ 裡面的元素可以放任意的 object\n",
        "\n",
        "```python\n",
        ">>> arr = ['one', 'two', 'three']\n",
        ">>> arr[0]\n",
        "'one'\n",
        "\n",
        "# Lists have a nice repr:\n",
        ">>> arr\n",
        "['one', 'two', 'three']\n",
        "\n",
        "# Lists are mutable:\n",
        ">>> arr[1] = 'hello'\n",
        ">>> arr\n",
        "['one', 'hello', 'three']\n",
        ">>> del arr[1]\n",
        ">>> arr\n",
        "['one', 'three']\n",
        "\n",
        "# Lists can hold arbitrary data types:\n",
        ">>> arr.append(23)\n",
        ">>> arr\n",
        "['one', 'three', 23]\n",
        "```"
      ]
    },
    {
      "cell_type": "markdown",
      "metadata": {
        "id": "2x671er-UInR"
      },
      "source": [
        "## tuple – Immutable Containers\n",
        "跟 list 不同點在於不可更改(immutable)，新增元素則會建立一個 copy"
      ]
    },
    {
      "cell_type": "code",
      "execution_count": 11,
      "metadata": {
        "id": "l-V5DR4bUJky"
      },
      "outputs": [],
      "source": [
        "arr = ('one', 'two', 'three')"
      ]
    },
    {
      "cell_type": "code",
      "execution_count": 12,
      "metadata": {
        "id": "BR_BiAVcUJv5"
      },
      "outputs": [],
      "source": [
        "# TypeError: 'tuple' object doesn't support item deletion\n",
        "# del arr[1]"
      ]
    },
    {
      "cell_type": "code",
      "execution_count": 13,
      "metadata": {
        "colab": {
          "base_uri": "https://localhost:8080/"
        },
        "id": "xdmnnJ6JUdMN",
        "outputId": "e1d02b35-8b60-4b20-9577-d7b00ebe3640"
      },
      "outputs": [
        {
          "data": {
            "text/plain": [
              "('one', 'two', 'three', 23)"
            ]
          },
          "execution_count": 13,
          "metadata": {},
          "output_type": "execute_result"
        }
      ],
      "source": [
        "# Tuples can hold arbitrary data types:\n",
        "# (Adding elements creates a copy of the tuple)\n",
        "arr + (23,)"
      ]
    },
    {
      "cell_type": "markdown",
      "metadata": {
        "id": "noVLaUAvUn-n"
      },
      "source": [
        "## array.array – Basic Typed Arrays\n",
        "Python’s array module provides **space-efficient** storage of basic Cstyle data types like bytes, 32-bit integers, floating point numbers, and\n",
        "so on\n",
        "\n",
        "可更動，大致上跟 list 相同，差別在於它是 **type array**，相比於 list 和 tuple 更加有效率\n",
        "  \n",
        "如何去建立陣列，可查閱[官方文檔](https://docs.python.org/zh-tw/3/library/array.html)\n",
        "\n"
      ]
    },
    {
      "cell_type": "code",
      "execution_count": 14,
      "metadata": {
        "colab": {
          "base_uri": "https://localhost:8080/"
        },
        "id": "pp-iKTI8UpD5",
        "outputId": "b47b9d97-9029-4569-a73c-a1eaa96ec7c4"
      },
      "outputs": [
        {
          "data": {
            "text/plain": [
              "array('f', [1.0, 1.5, 2.0, 2.5])"
            ]
          },
          "execution_count": 14,
          "metadata": {},
          "output_type": "execute_result"
        }
      ],
      "source": [
        "import array\n",
        "arr = array.array('f', (1.0, 1.5, 2.0, 2.5))\n",
        "\n",
        "arr"
      ]
    },
    {
      "cell_type": "code",
      "execution_count": 15,
      "metadata": {
        "colab": {
          "base_uri": "https://localhost:8080/"
        },
        "id": "Dq2SpmVRViz_",
        "outputId": "d5389f73-360a-4a70-ce50-3a196e49fce8"
      },
      "outputs": [
        {
          "data": {
            "text/plain": [
              "array('f', [1.0, 1.5, 2.0, 2.5, 42.0])"
            ]
          },
          "execution_count": 15,
          "metadata": {},
          "output_type": "execute_result"
        }
      ],
      "source": [
        "arr.append(42.0)\n",
        "arr"
      ]
    },
    {
      "cell_type": "code",
      "execution_count": 16,
      "metadata": {
        "id": "pZW3eKFtVpM8"
      },
      "outputs": [],
      "source": [
        "# TypeError: \"must be real number, not str\"\n",
        "# arr[1] = 'hello'"
      ]
    },
    {
      "cell_type": "markdown",
      "metadata": {
        "id": "Ld65UvBPVy4H"
      },
      "source": [
        "## str – Immutable Arrays of Unicode Characters\n",
        "Python 3.x uses str objects to store textual data as immutable sequences of Unicode characters\n",
        "+ 不可更動(immutable)\n",
        "+ 儲存相同 data type，因此是 space-efficient"
      ]
    },
    {
      "cell_type": "code",
      "execution_count": 17,
      "metadata": {
        "id": "lKPu8E2xVz6I"
      },
      "outputs": [],
      "source": [
        "arr = 'abcd'"
      ]
    },
    {
      "cell_type": "code",
      "execution_count": 18,
      "metadata": {
        "id": "4vC-SkDAV0CP"
      },
      "outputs": [],
      "source": [
        "# TypeError: 'str' object does not support item assignment\"\n",
        "# arr[1] = 'e'"
      ]
    },
    {
      "cell_type": "code",
      "execution_count": 19,
      "metadata": {
        "id": "iS4cZlegV0GW"
      },
      "outputs": [],
      "source": [
        "# TypeError: 'str' object doesn't support item deletion\n",
        "# del arr[1]"
      ]
    },
    {
      "cell_type": "code",
      "execution_count": 20,
      "metadata": {
        "colab": {
          "base_uri": "https://localhost:8080/"
        },
        "id": "jtJFXqpIWmKo",
        "outputId": "f00ab48c-3fa8-4ddf-c807-1113d22afca9"
      },
      "outputs": [
        {
          "data": {
            "text/plain": [
              "['a', 'b', 'c', 'd']"
            ]
          },
          "execution_count": 20,
          "metadata": {},
          "output_type": "execute_result"
        }
      ],
      "source": [
        "# Strings can be unpacked into a list to\n",
        "# get a mutable representation:\n",
        "list('abcd')"
      ]
    },
    {
      "cell_type": "code",
      "execution_count": 21,
      "metadata": {
        "colab": {
          "base_uri": "https://localhost:8080/",
          "height": 35
        },
        "id": "jLe-NrnlWoYm",
        "outputId": "f154d13d-8095-4b95-80a6-88c4fd75f1e9"
      },
      "outputs": [
        {
          "data": {
            "application/vnd.google.colaboratory.intrinsic+json": {
              "type": "string"
            },
            "text/plain": [
              "'abcd'"
            ]
          },
          "execution_count": 21,
          "metadata": {},
          "output_type": "execute_result"
        }
      ],
      "source": [
        "''.join(list('abcd'))"
      ]
    },
    {
      "cell_type": "markdown",
      "metadata": {
        "id": "qK8UHPV0Ww0A"
      },
      "source": [
        "## bytes – Immutable Arrays of Single Bytes\n",
        "The bytearray type is a **mutable** sequence of integers in the range\n",
        "0 <= x <= 255"
      ]
    },
    {
      "cell_type": "code",
      "execution_count": 22,
      "metadata": {
        "colab": {
          "base_uri": "https://localhost:8080/"
        },
        "id": "Jnts1TkkWxq1",
        "outputId": "15d6cf6b-2df1-4f6d-8684-3bf5333ae145"
      },
      "outputs": [
        {
          "data": {
            "text/plain": [
              "bytearray(b'\\x00\\x01\\x02\\x03')"
            ]
          },
          "execution_count": 22,
          "metadata": {},
          "output_type": "execute_result"
        }
      ],
      "source": [
        "arr = bytearray((0, 1, 2, 3))\n",
        "\n",
        "# The bytearray repr:\n",
        "arr"
      ]
    },
    {
      "cell_type": "code",
      "execution_count": 23,
      "metadata": {
        "colab": {
          "base_uri": "https://localhost:8080/"
        },
        "id": "Ph_ylmjoX2o4",
        "outputId": "4ca66d45-a5dc-42cd-c7fc-9f535cd24164"
      },
      "outputs": [
        {
          "data": {
            "text/plain": [
              "bytearray(b'\\x00\\x01\\x02\\x03*')"
            ]
          },
          "execution_count": 23,
          "metadata": {},
          "output_type": "execute_result"
        }
      ],
      "source": [
        "arr.append(42)\n",
        "arr"
      ]
    },
    {
      "cell_type": "code",
      "execution_count": 24,
      "metadata": {
        "id": "EtGzAQjAWxtX"
      },
      "outputs": [],
      "source": [
        "# ValueError: \"byte must be in range(0, 256)\"\n",
        "# arr[1] = 300"
      ]
    },
    {
      "cell_type": "code",
      "execution_count": 25,
      "metadata": {
        "colab": {
          "base_uri": "https://localhost:8080/"
        },
        "id": "83Iwf2xXWxv2",
        "outputId": "d498efbb-cebc-463f-f596-38c01be6878a"
      },
      "outputs": [
        {
          "data": {
            "text/plain": [
              "b'\\x00\\x01\\x02\\x03*'"
            ]
          },
          "execution_count": 25,
          "metadata": {},
          "output_type": "execute_result"
        }
      ],
      "source": [
        "# Bytearrays can be converted back into bytes objects:\n",
        "# (This will copy the data)\n",
        "bytes(arr)"
      ]
    },
    {
      "cell_type": "markdown",
      "metadata": {
        "id": "Z6UAY7oAYS_U"
      },
      "source": [
        "**Key Takeaways**\n",
        "+ If you’re willing to go beyond the Python standard library, third-party\n",
        "packages like NumPy14 offer a wide range of fast array implementations for scientific computing and data science.\n",
        "  \n",
        "**You need to store arbitrary objects, potentially with mixed\n",
        "data types?** \n",
        "+ Use a list or a tuple, depending on whether you want\n",
        "an immutable data structure or not.\n",
        "\n",
        "**You have numeric (integer or floating point) data and tight\n",
        "packing and performance is important?**\n",
        "+ Try out array.array\n",
        "and see if it does everything you need. Also, consider going beyond\n",
        "the standard library and try out packages like NumPy or Pandas.\n",
        "  \n",
        "**You have textual data represented as Unicode characters?**\n",
        "+ Use Python’s built-in str. If you need a “mutable string,” use a list\n",
        "of characters\n",
        "\n",
        "**You want to store a contiguous block of bytes?**\n",
        "+ Use the immutable bytes type, or bytearray if you need a mutable data structure.\n"
      ]
    },
    {
      "cell_type": "markdown",
      "metadata": {
        "id": "XurH8p4IY1E2"
      },
      "source": [
        "# 5.3 Records, Structs, and Data Transfer\n",
        "Compared to arrays, record data structures provide a **fixed** number of\n",
        "fields, where each field can have a **name** and may also have a **different\n",
        "type.**  \n",
        "+ python 沒有內建 record type，但我們能用其他內建的資料型態來實作出 record type"
      ]
    },
    {
      "cell_type": "markdown",
      "metadata": {
        "id": "lz02RiHaY3i5"
      },
      "source": [
        "## dict – Simple Data Objects\n",
        "python dictionary 能儲存任意數量的資料，每筆資料都有 key 對應  ，dictionary 又稱作 maps 或是 associative arrays，用於高效率的查找和新增刪除，把 dictionary 作為 record type 是可行的，但缺少了對錯誤欄位的檢查"
      ]
    },
    {
      "cell_type": "code",
      "execution_count": 26,
      "metadata": {
        "colab": {
          "base_uri": "https://localhost:8080/"
        },
        "id": "S4cDiyFfYIiJ",
        "outputId": "2b7dc270-e772-4468-91e4-5536f4d88830"
      },
      "outputs": [
        {
          "name": "stdout",
          "output_type": "stream",
          "text": [
            "{'color': 'blue', 'mileage': 40231, 'automatic': False}\n",
            "40231\n"
          ]
        }
      ],
      "source": [
        "car1 = {\n",
        "  'color': 'red',\n",
        "  'mileage': 3812.4,\n",
        "  'automatic': True,\n",
        "}\n",
        "car2 = {\n",
        "  'color': 'blue',\n",
        "  'mileage': 40231,\n",
        "  'automatic': False,\n",
        "  }\n",
        "\n",
        "# Dicts have a nice repr:\n",
        "print(car2)\n",
        "\n",
        "# Get mileage:\n",
        "print(car2['mileage'])\n",
        "\n",
        "# Dicts are mutable:\n",
        "car2['mileage'] = 12\n",
        "\n",
        "# No protection against wrong field names,\n",
        "# or missing/extra fields:\n",
        "car3 = {\n",
        "  'colr': 'green',\n",
        "  'automatic': False,\n",
        "  'windshield': 'broken',\n",
        "}"
      ]
    },
    {
      "cell_type": "markdown",
      "metadata": {
        "id": "vK5_7vCOaigy"
      },
      "source": [
        "## tuple – Immutable Groups of Objects\n",
        "從被建立以後 tuple 就不能被更改，效能上比 list 還要好，從以下的 bytecode disassembly 就能看出 tuple 只執行一次的 `LOAD_CONST`，但也不用特地把所有 list 換成 tuple，他們實際的效能提升並沒有這麼巨大。tuple 也有缺點，像是  \n",
        "+ 只能用 int index 讀取\n",
        "+ 沒有欄位檢查"
      ]
    },
    {
      "cell_type": "code",
      "execution_count": 27,
      "metadata": {
        "colab": {
          "base_uri": "https://localhost:8080/"
        },
        "id": "QnvOCNtHajb1",
        "outputId": "c1a4ec72-151f-44b3-9197-7cbbc3c36507"
      },
      "outputs": [
        {
          "name": "stdout",
          "output_type": "stream",
          "text": [
            "  1           0 LOAD_CONST               0 ((23, 'a', 'b', 'c'))\n",
            "              2 RETURN_VALUE\n"
          ]
        }
      ],
      "source": [
        "import dis\n",
        "\n",
        "dis.dis(compile(\"(23, 'a', 'b', 'c')\", '', 'eval'))"
      ]
    },
    {
      "cell_type": "code",
      "execution_count": 28,
      "metadata": {
        "colab": {
          "base_uri": "https://localhost:8080/"
        },
        "id": "yaeVqt2bZzTA",
        "outputId": "ce3e494b-7d23-4267-94b3-b8951c0512b5"
      },
      "outputs": [
        {
          "name": "stdout",
          "output_type": "stream",
          "text": [
            "  1           0 LOAD_CONST               0 (23)\n",
            "              2 LOAD_CONST               1 ('a')\n",
            "              4 LOAD_CONST               2 ('b')\n",
            "              6 LOAD_CONST               3 ('c')\n",
            "              8 BUILD_LIST               4\n",
            "             10 RETURN_VALUE\n"
          ]
        }
      ],
      "source": [
        "dis.dis(compile(\"[23, 'a', 'b', 'c']\", '', 'eval'))"
      ]
    },
    {
      "cell_type": "markdown",
      "metadata": {
        "id": "2BVlFHjzcCBy"
      },
      "source": [
        "## Writing a Custom Class – More Work, More Control\n",
        "自訂義 class 來當作 record data types 是可行的，但也需要付出更多努力\n",
        "+ 在 \\_\\_init\\_\\_ 新增欄位很花時間\n",
        "+ 預設的 class 字串表示不好用，需自行加上 \\_\\_repr\\_\\_\n",
        "+ 欄位可以新增，需要用 @property decorator 來限制"
      ]
    },
    {
      "cell_type": "code",
      "execution_count": 29,
      "metadata": {
        "id": "9x_oJFRQcCt0"
      },
      "outputs": [],
      "source": [
        "class Car:\n",
        "  def __init__(self, color, mileage, automatic):\n",
        "    self.color = color\n",
        "    self.mileage = mileage\n",
        "    self.automatic = automatic\n",
        "\n",
        "car1 = Car('red', 3812.4, True)\n",
        "car2 = Car('blue', 40231.0, False)"
      ]
    },
    {
      "cell_type": "code",
      "execution_count": 30,
      "metadata": {
        "colab": {
          "base_uri": "https://localhost:8080/"
        },
        "id": "6kao-HdOdbVC",
        "outputId": "dceaaa1c-e15b-4407-a64f-d5c1d4455fa4"
      },
      "outputs": [
        {
          "data": {
            "text/plain": [
              "<__main__.Car at 0x7fb4d3cdae90>"
            ]
          },
          "execution_count": 30,
          "metadata": {},
          "output_type": "execute_result"
        }
      ],
      "source": [
        "# String representation is not very useful\n",
        "# (must add a manually written __repr__ method):\n",
        "car1"
      ]
    },
    {
      "cell_type": "markdown",
      "metadata": {
        "id": "gFH8bicSdj7e"
      },
      "source": [
        "## collections.namedtuple – Convenient Data Objects\n",
        "nametuple 在 4.6有提過，遵守 write once, read many 原則，不能修改內容\n",
        "，可透過 unique (human-readable) identifier 來存取元素"
      ]
    },
    {
      "cell_type": "code",
      "execution_count": 31,
      "metadata": {
        "colab": {
          "base_uri": "https://localhost:8080/"
        },
        "id": "md1MplFWdlah",
        "outputId": "b763ba59-fed0-40f1-dcd3-c74daf70b244"
      },
      "outputs": [
        {
          "data": {
            "text/plain": [
              "Car(color='red', mileage=3800, automatic=True)"
            ]
          },
          "execution_count": 31,
          "metadata": {},
          "output_type": "execute_result"
        }
      ],
      "source": [
        "from collections import namedtuple\n",
        "\n",
        "Car = namedtuple('Car', 'color mileage automatic')\n",
        "car1 = Car('red', 3800, True)\n",
        "\n",
        "# Instance have nice repr\n",
        "car1"
      ]
    },
    {
      "cell_type": "code",
      "execution_count": 32,
      "metadata": {
        "colab": {
          "base_uri": "https://localhost:8080/"
        },
        "id": "xRadqfhxdlhx",
        "outputId": "75a9a5b2-f5e6-4f25-f58f-2b6348e9e634"
      },
      "outputs": [
        {
          "data": {
            "text/plain": [
              "3800"
            ]
          },
          "execution_count": 32,
          "metadata": {},
          "output_type": "execute_result"
        }
      ],
      "source": [
        "# Accessing fields:\n",
        "car1.mileage"
      ]
    },
    {
      "cell_type": "code",
      "execution_count": 33,
      "metadata": {
        "id": "Pg1EdQwn472I"
      },
      "outputs": [],
      "source": [
        "# AttributeError: \"'Car' object has no attribute 'windshield'\"\n",
        "# car1.windshield = 'broken'"
      ]
    },
    {
      "cell_type": "markdown",
      "metadata": {
        "id": "Sjtugmah5A4c"
      },
      "source": [
        "# typing.NamedTuple – Improved Namedtuples\n",
        "在 python 3.6新增，跟 namedtuple 很相似，差別在於增加了 type hint 和更改建構方式  \n",
        "注意 typehint 並不能強制規定型態，他只是個提示"
      ]
    },
    {
      "cell_type": "code",
      "execution_count": 34,
      "metadata": {
        "id": "d4Rt2i8H5BfZ"
      },
      "outputs": [],
      "source": [
        "from typing import NamedTuple\n",
        "\n",
        "class Car(NamedTuple):\n",
        "  color: str\n",
        "  mileage: float\n",
        "  automatic: bool\n",
        "\n",
        "car1 = Car('red', 3812.4, True)"
      ]
    },
    {
      "cell_type": "code",
      "execution_count": 35,
      "metadata": {
        "colab": {
          "base_uri": "https://localhost:8080/"
        },
        "id": "kLkgIwD556Bu",
        "outputId": "0374523e-81b3-4776-b92d-becc9ba9485c"
      },
      "outputs": [
        {
          "data": {
            "text/plain": [
              "Car(color='red', mileage=3812.4, automatic=True)"
            ]
          },
          "execution_count": 35,
          "metadata": {},
          "output_type": "execute_result"
        }
      ],
      "source": [
        "# Instances have a nice repr:\n",
        "car1"
      ]
    },
    {
      "cell_type": "code",
      "execution_count": 36,
      "metadata": {
        "colab": {
          "base_uri": "https://localhost:8080/"
        },
        "id": "RnYEy2cR56EO",
        "outputId": "9bef95f4-0458-4548-86a8-dfa67ee4a977"
      },
      "outputs": [
        {
          "data": {
            "text/plain": [
              "3812.4"
            ]
          },
          "execution_count": 36,
          "metadata": {},
          "output_type": "execute_result"
        }
      ],
      "source": [
        "# Accessing fields:\n",
        "car1.mileage"
      ]
    },
    {
      "cell_type": "code",
      "execution_count": 37,
      "metadata": {
        "colab": {
          "base_uri": "https://localhost:8080/"
        },
        "id": "FHSYwac-5_3P",
        "outputId": "fe46b12b-b47f-46d4-b917-08f0b2db25c4"
      },
      "outputs": [
        {
          "data": {
            "text/plain": [
              "Car(color='red', mileage='NOT_A_FLOAT', automatic=99)"
            ]
          },
          "execution_count": 37,
          "metadata": {},
          "output_type": "execute_result"
        }
      ],
      "source": [
        "# Type annotations are not enforced without\n",
        "# a separate type checking tool like mypy:\n",
        "Car('red', 'NOT_A_FLOAT', 99)"
      ]
    },
    {
      "cell_type": "markdown",
      "metadata": {
        "id": "V8sh3UE-6YV4"
      },
      "source": [
        "## struct.Struct – Serialized C Structs\n",
        "This module performs conversions between Python values and C structs represented as Python bytes objects. This can be used in handling binary data stored in files or from network connections, among other sources. It uses **Format Strings** as compact descriptions of the layout of the C structs and the intended conversion to/from Python values.  \n",
        "+ Serialized struct 很少在程式碼內直接用於儲存資料，更多的是當作資料交換格式使用\n",
        "+ Format string 代號參考[官方文檔](https://docs.python.org/3/library/struct.html#struct.Struct)\n",
        "\n"
      ]
    },
    {
      "cell_type": "code",
      "execution_count": 38,
      "metadata": {
        "id": "N-ZTq-um7-Wn"
      },
      "outputs": [],
      "source": [
        "from struct import Struct\n",
        "\n",
        "MyStruct = Struct('i?f') # int + bool + float\n",
        "data = MyStruct.pack(23, False, 42.0)"
      ]
    },
    {
      "cell_type": "code",
      "execution_count": 39,
      "metadata": {
        "colab": {
          "base_uri": "https://localhost:8080/"
        },
        "id": "aXwXlXWX8L_5",
        "outputId": "45963d8f-2b04-4a0a-8352-5b015f15efc8"
      },
      "outputs": [
        {
          "data": {
            "text/plain": [
              "b'\\x17\\x00\\x00\\x00\\x00\\x00\\x00\\x00\\x00\\x00(B'"
            ]
          },
          "execution_count": 39,
          "metadata": {},
          "output_type": "execute_result"
        }
      ],
      "source": [
        "# All you get is a Binary large object(Blob) of data:\n",
        "data"
      ]
    },
    {
      "cell_type": "code",
      "execution_count": 40,
      "metadata": {
        "colab": {
          "base_uri": "https://localhost:8080/"
        },
        "id": "9-wlWGNh8OxA",
        "outputId": "535858bd-ccdd-4ca9-80b1-5e0944119ba3"
      },
      "outputs": [
        {
          "data": {
            "text/plain": [
              "(23, False, 42.0)"
            ]
          },
          "execution_count": 40,
          "metadata": {},
          "output_type": "execute_result"
        }
      ],
      "source": [
        "MyStruct.unpack(data)"
      ]
    },
    {
      "cell_type": "markdown",
      "metadata": {
        "id": "TR7AR1ER8mnL"
      },
      "source": [
        "## types.SimpleNamespace – Fancy Attribute Access\n",
        "SimpleNamespace 可以使用 `.{attribute}` 來存取 attribute，預設也有好用的 `__repr__`，而且很簡單使用"
      ]
    },
    {
      "cell_type": "code",
      "execution_count": 41,
      "metadata": {
        "colab": {
          "base_uri": "https://localhost:8080/"
        },
        "id": "FNQ5G96x8nSb",
        "outputId": "16aefe4f-cd1d-416e-e397-e4e9e8ee202e"
      },
      "outputs": [
        {
          "data": {
            "text/plain": [
              "namespace(automatic=True, color='red', mileage=3000)"
            ]
          },
          "execution_count": 41,
          "metadata": {},
          "output_type": "execute_result"
        }
      ],
      "source": [
        "from types import SimpleNamespace\n",
        "\n",
        "car1 = SimpleNamespace(color='red',\n",
        "            mileage=3000,\n",
        "            automatic=True)\n",
        "# The default repr:\n",
        "car1"
      ]
    },
    {
      "cell_type": "code",
      "execution_count": 42,
      "metadata": {
        "colab": {
          "base_uri": "https://localhost:8080/"
        },
        "id": "ebLy1sYGCDnK",
        "outputId": "f527f682-ac15-4a25-927d-4ba068166d44"
      },
      "outputs": [
        {
          "data": {
            "text/plain": [
              "3000"
            ]
          },
          "execution_count": 42,
          "metadata": {},
          "output_type": "execute_result"
        }
      ],
      "source": [
        "car1.mileage"
      ]
    },
    {
      "cell_type": "code",
      "execution_count": 43,
      "metadata": {
        "colab": {
          "base_uri": "https://localhost:8080/"
        },
        "id": "oSmbFmOXCGJf",
        "outputId": "20db6e95-3afc-405b-d83c-7f69693df375"
      },
      "outputs": [
        {
          "data": {
            "text/plain": [
              "namespace(automatic=True, color='red', mileage=3000, windshield='broken')"
            ]
          },
          "execution_count": 43,
          "metadata": {},
          "output_type": "execute_result"
        }
      ],
      "source": [
        "# Instances support attribute access and are mutable:\n",
        "car1.windshield = 'broken'\n",
        "car1"
      ]
    },
    {
      "cell_type": "markdown",
      "metadata": {
        "id": "lMxzV4vlCNON"
      },
      "source": [
        "**Key Takeaways**  \n",
        "作者建議在 python 2.x 使用 collections.namedtuple 作為 record 的預設選項，python 3.x 則是 typing.NamedTuple  \n",
        "    \n",
        "**You only have a few (2-3) fields:**\n",
        "+ Using a plain tuple object may\n",
        "be okay if the field order is easy to remember or field names are superfluous. For example, think of an (x, y, z) point in 3D space.\n",
        "\n",
        "**You need immutable fields:**\n",
        "+ In this case, plain tuples,\n",
        "collections.namedtuple, and typing.NamedTuple would all\n",
        "make good options for implementing this type of data object.\n",
        "\n",
        "**You want to keep things simple**: \n",
        "+ A plain dictionary object might\n",
        "be a good choice due to the convenient syntax that closely resembles\n",
        "JSON.\n",
        "  \n",
        "**You need full control over your data structure:**\n",
        "+ It’s time to\n",
        "write a custom class with @property setters and getters.\n",
        "  \n",
        "**You need to add behavior (methods) to the object:** \n",
        "+ You\n",
        "should write a custom class, either from scratch or by extending\n",
        "collections.namedtuple or typing.NamedTuple.\n",
        "  \n",
        "**You need to pack data tightly to serialize it to disk or to send\n",
        "it over the network:**\n",
        "+ Time to read up on struct.Struct because\n"
      ]
    },
    {
      "cell_type": "markdown",
      "metadata": {
        "id": "glcoHoaDCNUY"
      },
      "source": [
        "# 5.4 Sets and Multisets\n",
        "In this chapter you’ll see how to implement mutable and immutable\n",
        "set and multiset (bag) data structures in Python, using built-in data\n",
        "types and classes from the standard library\n",
        "\n",
        "先來複習一下 set\n",
        "+ 不允許有重複的內容\n",
        "+ 用來快速檢查數值是否存在於 set 內\n",
        "+ 計算兩個 set 的交集或聯集\n",
        "\n",
        "set 跟 dictionaries 一樣都有特殊的建構方式"
      ]
    },
    {
      "cell_type": "code",
      "execution_count": 44,
      "metadata": {
        "colab": {
          "base_uri": "https://localhost:8080/"
        },
        "id": "3OBs71k3DvZ6",
        "outputId": "0e7db944-1302-482a-e460-f9808384b864"
      },
      "outputs": [
        {
          "data": {
            "text/plain": [
              "set"
            ]
          },
          "execution_count": 44,
          "metadata": {},
          "output_type": "execute_result"
        }
      ],
      "source": [
        "vowels = {'a', 'e', 'i', 'o', 'u'}\n",
        "squares = {x * x for x in range(10)}\n",
        "empty_set = set()\n",
        "\n",
        "type(vowels)"
      ]
    },
    {
      "cell_type": "markdown",
      "metadata": {
        "id": "FhnxI6RSBLEW"
      },
      "source": [
        "## set – Your Go-To Set\n",
        "The set type is mutable and allows for dynamic insertion and deletion of elements"
      ]
    },
    {
      "cell_type": "code",
      "execution_count": 45,
      "metadata": {
        "colab": {
          "base_uri": "https://localhost:8080/"
        },
        "id": "bjFdgIokBL35",
        "outputId": "d8b85878-2401-4342-ab69-51cf35973204"
      },
      "outputs": [
        {
          "data": {
            "text/plain": [
              "True"
            ]
          },
          "execution_count": 45,
          "metadata": {},
          "output_type": "execute_result"
        }
      ],
      "source": [
        "vowels = {'a', 'e', 'i', 'o', 'u'}\n",
        "\n",
        "'e' in vowels"
      ]
    },
    {
      "cell_type": "code",
      "execution_count": 46,
      "metadata": {
        "colab": {
          "base_uri": "https://localhost:8080/"
        },
        "id": "-mdGHV9dBL65",
        "outputId": "6beb6c28-1caf-475c-b368-ee6a5be163aa"
      },
      "outputs": [
        {
          "data": {
            "text/plain": [
              "{'a', 'e', 'i'}"
            ]
          },
          "execution_count": 46,
          "metadata": {},
          "output_type": "execute_result"
        }
      ],
      "source": [
        "letters = set('alice')\n",
        "letters.intersection(vowels) # 交集"
      ]
    },
    {
      "cell_type": "code",
      "execution_count": 47,
      "metadata": {
        "colab": {
          "base_uri": "https://localhost:8080/"
        },
        "id": "FFSpU6vyCtpF",
        "outputId": "e599e69b-db62-4bd9-e4ea-2ba6b5620bab"
      },
      "outputs": [
        {
          "data": {
            "text/plain": [
              "{'a', 'e', 'i', 'o', 'u', 'x'}"
            ]
          },
          "execution_count": 47,
          "metadata": {},
          "output_type": "execute_result"
        }
      ],
      "source": [
        "vowels.add('x')\n",
        "vowels"
      ]
    },
    {
      "cell_type": "code",
      "execution_count": 48,
      "metadata": {
        "colab": {
          "base_uri": "https://localhost:8080/"
        },
        "id": "-NqiSMcfCxlG",
        "outputId": "97bf1408-c7cf-4646-fb91-41ded5bb88cd"
      },
      "outputs": [
        {
          "data": {
            "text/plain": [
              "6"
            ]
          },
          "execution_count": 48,
          "metadata": {},
          "output_type": "execute_result"
        }
      ],
      "source": [
        "len(vowels)"
      ]
    },
    {
      "cell_type": "markdown",
      "metadata": {
        "id": "sLJdVjPCC0gd"
      },
      "source": [
        "## frozenset – Immutable Sets\n",
        "\n",
        "frozenset 是不可更改版本的 set，並只允許 query operations  \n",
        "有 static 且 hashable 的特性，因此能作為字典的 key (原生set不行)\n"
      ]
    },
    {
      "cell_type": "code",
      "execution_count": 49,
      "metadata": {
        "id": "3K0RJCIGY4zl"
      },
      "outputs": [],
      "source": [
        "vowels = frozenset({'a', 'e', 'i', 'o', 'u'})\n",
        "\n",
        "# vowels.add('p')\n",
        "# AttributeError: \"'frozenset' object has no attribute 'add'\""
      ]
    },
    {
      "cell_type": "code",
      "execution_count": 50,
      "metadata": {
        "colab": {
          "base_uri": "https://localhost:8080/",
          "height": 35
        },
        "id": "p54TLyrAZbNI",
        "outputId": "f7b1846d-072e-42e6-b053-d01474188cf8"
      },
      "outputs": [
        {
          "data": {
            "application/vnd.google.colaboratory.intrinsic+json": {
              "type": "string"
            },
            "text/plain": [
              "'hello'"
            ]
          },
          "execution_count": 50,
          "metadata": {},
          "output_type": "execute_result"
        }
      ],
      "source": [
        "# Frozensets are hashable and can\n",
        "# be used as dictionary keys:\n",
        "d = {frozenset({1, 2, 3}): 'hello'}\n",
        "d[frozenset({1, 2, 3})]"
      ]
    },
    {
      "cell_type": "markdown",
      "metadata": {
        "id": "QfHbBaYpZwcw"
      },
      "source": [
        "## collections.Counter – Multisets\n",
        "用於計算 set 內的元素出現多少次"
      ]
    },
    {
      "cell_type": "code",
      "execution_count": 51,
      "metadata": {
        "id": "Ja1TpJ9VZxGy"
      },
      "outputs": [],
      "source": [
        "from collections import Counter\n",
        "inventory = Counter()"
      ]
    },
    {
      "cell_type": "code",
      "execution_count": 52,
      "metadata": {
        "colab": {
          "base_uri": "https://localhost:8080/"
        },
        "id": "CZ8Xo4ilZxJd",
        "outputId": "ab58cbf1-9948-4707-be3b-71f10301f277"
      },
      "outputs": [
        {
          "data": {
            "text/plain": [
              "Counter({'bread': 3, 'sword': 1})"
            ]
          },
          "execution_count": 52,
          "metadata": {},
          "output_type": "execute_result"
        }
      ],
      "source": [
        "loot = {'sword': 1, 'bread': 3}\n",
        "inventory.update(loot)\n",
        "inventory"
      ]
    },
    {
      "cell_type": "code",
      "execution_count": 53,
      "metadata": {
        "colab": {
          "base_uri": "https://localhost:8080/"
        },
        "id": "KPU2SOMwaM1w",
        "outputId": "190cd248-fed1-401a-e9f0-2bb3e29b08b6"
      },
      "outputs": [
        {
          "data": {
            "text/plain": [
              "Counter({'apple': 1, 'bread': 3, 'sword': 2})"
            ]
          },
          "execution_count": 53,
          "metadata": {},
          "output_type": "execute_result"
        }
      ],
      "source": [
        "more_loot = {'sword': 1, 'apple': 1}\n",
        "inventory.update(more_loot)\n",
        "inventory"
      ]
    },
    {
      "cell_type": "markdown",
      "metadata": {
        "id": "WJfKwMACV6c4"
      },
      "source": [
        "**Key Takeaways**\n",
        "+ Sets are another useful and commonly used data structure included with Python and its standard library.\n",
        "+ Use the built-in set type when looking for a mutable set.\n",
        "+ frozenset objects are hashable and can be used as dictionary\n",
        "or set keys.\n",
        "+ collections.Counter implements multiset or “bag” data\n",
        "structures."
      ]
    },
    {
      "cell_type": "markdown",
      "metadata": {
        "id": "NLPD5I8lWmxX"
      },
      "source": [
        "# 5.5 Stacks (LIFOs)\n",
        "A stack is a collection of objects that supports fast last-in, first-out\n",
        "(LIFO) semantics for inserts and deletes.  \n",
        "+ 不支援隨機位置存取，insert 和 delete 都是對於最後一個 object，對應到的方法為 push 和 pop  \n",
        "+ 概念像是疊盤子，每次只從最上面拿和放盤子 (last-in, first-out)\n",
        "+ queue 從最前面拿，從最後面放 (first-in, first-out)\n",
        "+ stack insert 和 delete 複雜度 $O(1)$\n",
        "+ 在 depth-first search 會用到 stack\n",
        "\n"
      ]
    },
    {
      "cell_type": "markdown",
      "metadata": {
        "id": "2kwt5ZKyYBzW"
      },
      "source": [
        "# list – Simple, Built-In Stacks\n",
        "list 在操作後都需要 resize，但由於 list 會預先規劃一塊空間來等待擴充，因此不是每次操作都需要 resize，所以能得到接近 $O(1)$ 的複雜度  \n",
        "缺點是不如基於 linked list 實作的資料結構(如 collections.deque) 穩定"
      ]
    },
    {
      "cell_type": "code",
      "execution_count": 54,
      "metadata": {
        "colab": {
          "base_uri": "https://localhost:8080/",
          "height": 35
        },
        "id": "Xk8vaIFMWndQ",
        "outputId": "4996ec21-73fa-422c-ffc7-5d1114af8d53"
      },
      "outputs": [
        {
          "data": {
            "application/vnd.google.colaboratory.intrinsic+json": {
              "type": "string"
            },
            "text/plain": [
              "'food'"
            ]
          },
          "execution_count": 54,
          "metadata": {},
          "output_type": "execute_result"
        }
      ],
      "source": [
        "s = []\n",
        "\n",
        "s.append('eat') # push\n",
        "s.append('food') # push\n",
        "s.pop() # pop"
      ]
    },
    {
      "cell_type": "markdown",
      "metadata": {
        "id": "yxl8fijqZiKp"
      },
      "source": [
        "## collections.deque – Fast & Robust Stacks\n",
        "The deque class implements a **double-ended queue** that supports\n",
        "adding and removing elements from either end in $O(1)$ time (nonamortized).\n",
        "\n",
        "+ 實作基於 doubly-linked list\n",
        "+ 缺點是隨機存取元素，複雜度為 $O(n)$"
      ]
    },
    {
      "cell_type": "code",
      "execution_count": 55,
      "metadata": {
        "colab": {
          "base_uri": "https://localhost:8080/",
          "height": 35
        },
        "id": "TaS_cbsXWniG",
        "outputId": "4b2ea213-240c-4636-cc29-93598b43b026"
      },
      "outputs": [
        {
          "data": {
            "application/vnd.google.colaboratory.intrinsic+json": {
              "type": "string"
            },
            "text/plain": [
              "'apple'"
            ]
          },
          "execution_count": 55,
          "metadata": {},
          "output_type": "execute_result"
        }
      ],
      "source": [
        "from collections import deque\n",
        "\n",
        "s = deque()\n",
        "s.append('eat') # push\n",
        "s.append('sleep') # push\n",
        "s.append('apple') # push\n",
        "\n",
        "s.pop() # pop"
      ]
    },
    {
      "cell_type": "markdown",
      "metadata": {
        "id": "HcN8PRaUbkLK"
      },
      "source": [
        "## queue.LifoQueue – Locking Semantics for Parallel Computing\n",
        "This stack implementation in the Python standard library is **synchronized** and provides locking semantics to support multiple concurrent producers and consumers.  \n",
        "  \n",
        "s.get 會持續等待直到有資源能存取\n"
      ]
    },
    {
      "cell_type": "code",
      "execution_count": 56,
      "metadata": {
        "id": "E8JmCOS_bkzS"
      },
      "outputs": [],
      "source": [
        "from queue import LifoQueue\n",
        "\n",
        "s = LifoQueue(maxsize=0)\n",
        "s.put('eat')\n",
        "s.put('sleep')\n",
        "s.put('ecode')"
      ]
    },
    {
      "cell_type": "code",
      "execution_count": 57,
      "metadata": {
        "colab": {
          "base_uri": "https://localhost:8080/",
          "height": 35
        },
        "id": "vj07ATtObfCS",
        "outputId": "d97b509d-caaa-45e3-a049-daa228c8ca93"
      },
      "outputs": [
        {
          "data": {
            "application/vnd.google.colaboratory.intrinsic+json": {
              "type": "string"
            },
            "text/plain": [
              "'eat'"
            ]
          },
          "execution_count": 57,
          "metadata": {},
          "output_type": "execute_result"
        }
      ],
      "source": [
        "s.get()\n",
        "s.get()\n",
        "s.get()"
      ]
    },
    {
      "cell_type": "code",
      "execution_count": 58,
      "metadata": {
        "id": "7l72zyy3b-Hk"
      },
      "outputs": [],
      "source": [
        "# Empty\n",
        "# s.get_nowait()\n",
        "\n",
        "# Blocks / waits forever...\n",
        "# s.get()"
      ]
    },
    {
      "cell_type": "markdown",
      "metadata": {
        "id": "3kp1rd-fcQXv"
      },
      "source": [
        "## Comparing Stack Implementations in Python\n",
        "python 提供了很多好用的資料型態來實作 stack  \n",
        "如果沒平行化需求，請使用 list 或是 collections.deque\n",
        "\n",
        "**list**\n",
        "+ 支援隨機存取，刪除或是插入元素後需重新 resize\n",
        "+ 有 over-allocates 機制避免每次都 resize\n",
        "+ 需注意使用 `append` 和 `pop` 來 insert/delete 最後的元素，不然複雜度將會是 $O(n)$  \n",
        "   \n",
        "**collections.deque**\n",
        "+ doubly-linked list\n",
        "+ 在頭尾 insert/delete 複雜度 $O(1)$\n",
        "+ 效能穩定，不用擔心從錯誤的 end 移除\n"
      ]
    },
    {
      "cell_type": "markdown",
      "metadata": {
        "id": "5ixXdc9biM6r"
      },
      "source": [
        "**Key Takeaways**  \n",
        "+ Python ships with several stack implementations that have\n",
        "slightly different performance and usage characteristics.\n",
        "+ collections.deque provides a **safe and fast general-purpose**\n",
        "stack implementation.\n",
        "+ The built-in list type can be used as a stack, but be careful\n",
        "to only append and remove items with **append() and pop()** in\n",
        "order to avoid slow performance.\n"
      ]
    },
    {
      "cell_type": "markdown",
      "metadata": {
        "id": "jL7BQfHWiTs-"
      },
      "source": [
        "# 5.6 Queues (FIFOs)\n",
        "In this chapter you’ll see how to implement a FIFO queue data structure using only built-in data types and classes from the Python standard library.  \n",
        "+ 特性為 first-in, first out\n",
        "+ 如果是正確的實作， insert(enqueue), delete(dequeue) 複雜度 $O(1)$\n",
        "+ 在 BFS 被使用到\n",
        "+ Scheduling algorithms often use **priority queues** , Instead of retrieving the next element by insertion\n",
        "time, a priority queue retrieves the **highest-priority element**"
      ]
    },
    {
      "cell_type": "markdown",
      "metadata": {
        "id": "_3_uzUN5lOKX"
      },
      "source": [
        "## list — Terribly Sloooow Queues\n",
        "前面章節提過，LIST 從起點 insert 和 delete 複雜度為 $O(n)$，糟透了不推薦 \n"
      ]
    },
    {
      "cell_type": "code",
      "execution_count": 59,
      "metadata": {
        "colab": {
          "base_uri": "https://localhost:8080/"
        },
        "id": "2mAY7LcUlNZ6",
        "outputId": "a887c0c0-7dd1-4296-b9a3-9eb68a5bfd30"
      },
      "outputs": [
        {
          "data": {
            "text/plain": [
              "1"
            ]
          },
          "execution_count": 59,
          "metadata": {},
          "output_type": "execute_result"
        }
      ],
      "source": [
        "q = []\n",
        "q.append(1)\n",
        "q.append(2)\n",
        "q.append(3)\n",
        "\n",
        "# Careful: This is slow!\n",
        "q.pop(0)"
      ]
    },
    {
      "cell_type": "markdown",
      "metadata": {
        "id": "mgkKsob5sIVz"
      },
      "source": [
        "## collections.deque – Fast & Robust Queues\n",
        "優點上一個章節提過，doubly-linked list 的實作方式讓他在存取頭尾複雜度都是 $O(1)$"
      ]
    },
    {
      "cell_type": "code",
      "execution_count": 60,
      "metadata": {
        "colab": {
          "base_uri": "https://localhost:8080/"
        },
        "id": "_lKWOwiUhbnC",
        "outputId": "bda5ef21-f889-4d6f-e852-ae61f855ac0d"
      },
      "outputs": [
        {
          "data": {
            "text/plain": [
              "deque([0, 1])"
            ]
          },
          "execution_count": 60,
          "metadata": {},
          "output_type": "execute_result"
        }
      ],
      "source": [
        "from collections import deque\n",
        "\n",
        "q = deque()\n",
        "\n",
        "q.append(0) # enqueue\n",
        "q.append(1)\n",
        "q"
      ]
    },
    {
      "cell_type": "code",
      "execution_count": 61,
      "metadata": {
        "colab": {
          "base_uri": "https://localhost:8080/"
        },
        "id": "zjNnrPSRsiJN",
        "outputId": "12177232-5124-4fc1-965c-1386ea099f5a"
      },
      "outputs": [
        {
          "data": {
            "text/plain": [
              "0"
            ]
          },
          "execution_count": 61,
          "metadata": {},
          "output_type": "execute_result"
        }
      ],
      "source": [
        "q.popleft() # dequeue"
      ]
    },
    {
      "cell_type": "markdown",
      "metadata": {
        "id": "PYXr_U4Fsrfg"
      },
      "source": [
        "## queue.Queue – Locking Semantics for Parallel Computing\n",
        "This queue implementation in the Python standard library is synchronized and provides locking semantics to support multiple concurrent\n",
        "producers and consumers."
      ]
    },
    {
      "cell_type": "code",
      "execution_count": 62,
      "metadata": {
        "colab": {
          "base_uri": "https://localhost:8080/"
        },
        "id": "s1Ggw-mMs9xG",
        "outputId": "ced47fdf-51f7-4c69-a235-27f8aa029c9d"
      },
      "outputs": [
        {
          "data": {
            "text/plain": [
              "<queue.Queue at 0x7fb4d3ca5cd0>"
            ]
          },
          "execution_count": 62,
          "metadata": {},
          "output_type": "execute_result"
        }
      ],
      "source": [
        "from queue import Queue\n",
        "\n",
        "q = Queue(maxsize=0)\n",
        "q.put(0)\n",
        "q.put(1)\n",
        "q.put(2)\n",
        "q"
      ]
    },
    {
      "cell_type": "code",
      "execution_count": 63,
      "metadata": {
        "colab": {
          "base_uri": "https://localhost:8080/"
        },
        "id": "Uk5EgC4DtGj_",
        "outputId": "dafe28c2-029a-473f-c7f7-a3ddda5b83eb"
      },
      "outputs": [
        {
          "data": {
            "text/plain": [
              "1"
            ]
          },
          "execution_count": 63,
          "metadata": {},
          "output_type": "execute_result"
        }
      ],
      "source": [
        "q.get() # dequeue, wait until avaliable\n",
        "q.get_nowait() # dequeue, no wait"
      ]
    },
    {
      "cell_type": "markdown",
      "metadata": {
        "id": "49b_2ophuMwA"
      },
      "source": [
        "## multiprocessing.Queue – Shared Job Queues\n",
        "This is a shared job queue implementation that allows queued items\n",
        "to be processed in parallel by multiple concurrent workers. Processbased parallelization is popular in CPython due to the global interpreter lock (GIL) that prevents some forms of parallel execution on a\n",
        "single interpreter process."
      ]
    },
    {
      "cell_type": "code",
      "execution_count": 64,
      "metadata": {
        "colab": {
          "base_uri": "https://localhost:8080/"
        },
        "id": "cAZTIqzmuOOQ",
        "outputId": "7bce15d9-9a85-44bf-a01c-36a13ea835fc"
      },
      "outputs": [
        {
          "data": {
            "text/plain": [
              "0"
            ]
          },
          "execution_count": 64,
          "metadata": {},
          "output_type": "execute_result"
        }
      ],
      "source": [
        "from multiprocessing import Queue\n",
        "q = Queue()\n",
        "q.put(0)\n",
        "q.put(1)\n",
        "\n",
        "q.get() # get resource or  Blocks / waits forever..."
      ]
    },
    {
      "cell_type": "markdown",
      "metadata": {
        "id": "XbsTG-NsuzbW"
      },
      "source": [
        "**Key Takeaways**\n",
        "+ Python includes several queue implementations as part of the\n",
        "core language and its standard library.\n",
        "+ list objects can be used as queues, but this is generally not\n",
        "recommended due to slow performance.\n",
        "+ If you’re not looking for parallel processing support, the implementation offered by collections.deque is an excellent default choice for implementing a FIFO queue data structure in\n",
        "Python. It provides the performance characteristics you’d expect from a good queue implementation and can also be used\n",
        "as a stack (LIFO Queue)."
      ]
    },
    {
      "cell_type": "markdown",
      "metadata": {
        "id": "G6tMsc6-vrrY"
      },
      "source": [
        "# 5.7 Priority Queues\n",
        "A priority queue is a container data structure that manages a set of\n",
        "records with totally-ordered keys (for example, a numeric weight\n",
        "value) to provide quick access to the record with the smallest or largest\n",
        "key in the set.  \n",
        "跟 queue 不同點在於不取出最前面的元素，而是取出優先順序最高的\n",
        "\n"
      ]
    },
    {
      "cell_type": "markdown",
      "metadata": {
        "id": "CHqg-uZ5wDyZ"
      },
      "source": [
        "## list – Maintaining a Manually Sorted Queue\n",
        "用 list 來實作是可行的，在存取前都先排序過一次\n"
      ]
    },
    {
      "cell_type": "code",
      "execution_count": 65,
      "metadata": {
        "colab": {
          "base_uri": "https://localhost:8080/"
        },
        "id": "Gu7PyXlGvsT4",
        "outputId": "a82954ae-88c4-4737-e0c8-ff049cf692b7"
      },
      "outputs": [
        {
          "name": "stdout",
          "output_type": "stream",
          "text": [
            "(1, 'eat')\n",
            "(2, 'code')\n",
            "(3, 'sleep')\n"
          ]
        }
      ],
      "source": [
        "q = []\n",
        "\n",
        "q.append((2, 'code'))\n",
        "q.append((1, 'eat'))\n",
        "q.append((3, 'sleep'))\n",
        "\n",
        "# NOTE: Remember to re-sort every time\n",
        "# a new element is inserted, or use\n",
        "# bisect.insort().\n",
        "q.sort(reverse=True)\n",
        "\n",
        "while q:\n",
        "  next_item = q.pop()\n",
        "  print(next_item)"
      ]
    },
    {
      "cell_type": "markdown",
      "metadata": {
        "id": "Up6aXHpBwcOk"
      },
      "source": [
        "## heapq – List-Based Binary Heaps\n",
        "基於 list 的  binary heap 實作，複雜度為 $O(log \\ n)$，但只提供 min-heap\n"
      ]
    },
    {
      "cell_type": "code",
      "execution_count": 66,
      "metadata": {
        "colab": {
          "base_uri": "https://localhost:8080/"
        },
        "id": "J8XYwQOjw5LS",
        "outputId": "caa6fb53-c3f5-44bd-f9b2-5bd5ecae355d"
      },
      "outputs": [
        {
          "name": "stdout",
          "output_type": "stream",
          "text": [
            "(1, 'eat')\n",
            "(2, 'code')\n",
            "(3, 'sleep')\n"
          ]
        }
      ],
      "source": [
        "import heapq\n",
        "\n",
        "q = []\n",
        "\n",
        "heapq.heappush(q, (2, 'code'))\n",
        "heapq.heappush(q, (1, 'eat'))\n",
        "heapq.heappush(q, (3, 'sleep'))\n",
        "\n",
        "while q:\n",
        "  next_item = heapq.heappop(q)\n",
        "  print(next_item)\n",
        "\n",
        "# Result:\n",
        "# (1, 'eat')\n",
        "# (2, 'code')\n",
        "# (3, 'sleep')"
      ]
    },
    {
      "cell_type": "markdown",
      "metadata": {
        "id": "vytjF3bPxJdl"
      },
      "source": [
        "## queue.PriorityQueue – Beautiful Priority Queues\n",
        "內部是 heapq 的更進一步實作，有同樣的時間空間複雜度，但更好用  \n",
        "[官方文檔](https://docs.python.org/3/library/queue.html#queue.PriorityQueue)"
      ]
    },
    {
      "cell_type": "code",
      "execution_count": 67,
      "metadata": {
        "colab": {
          "base_uri": "https://localhost:8080/"
        },
        "id": "3G1oNhFXzq06",
        "outputId": "d69929d1-4f80-43c4-df0b-3631c7881398"
      },
      "outputs": [
        {
          "name": "stdout",
          "output_type": "stream",
          "text": [
            "(1, 'eat')\n",
            "(2, 'code')\n",
            "(3, 'sleep')\n"
          ]
        }
      ],
      "source": [
        "from queue import PriorityQueue\n",
        "\n",
        "q = PriorityQueue(maxsize=0)\n",
        "\n",
        "q.put((2, 'code'))\n",
        "q.put((1, 'eat'))\n",
        "q.put((3, 'sleep'))\n",
        "\n",
        "while not q.empty():\n",
        "  next_item = q.get()\n",
        "  print(next_item)\n",
        "\n",
        "# Result:\n",
        "# (1, 'eat')\n",
        "# (2, 'code')\n",
        "# (3, 'sleep')"
      ]
    },
    {
      "cell_type": "markdown",
      "metadata": {
        "id": "1a29U95m0CNN"
      },
      "source": [
        "**Key Takeaways**\n",
        "+ Python includes several priority queue implementations for\n",
        "you to use.\n",
        "+ queue.PriorityQueue stands out from the pack with a nice\n",
        "object-oriented interface and a name that clearly states its intent. It should be your preferred choice.\n",
        "+ If you’d like to avoid the locking overhead of queue.PriorityQueue,\n",
        "using the heapq module directly is also a good option.\n",
        "+ queue 和 quque 的延伸類別，如果有設置 maxsize (>0)，在有空間存放以前程式都會被阻擋直到能存入"
      ]
    }
  ],
  "metadata": {
    "colab": {
      "collapsed_sections": [],
      "name": "CH.5 Common Data Structures in Python.ipynb",
      "provenance": []
    },
    "kernelspec": {
      "display_name": "Python 3.8.10 64-bit (windows store)",
      "language": "python",
      "name": "python3"
    },
    "language_info": {
      "name": "python",
      "version": "3.8.10"
    },
    "vscode": {
      "interpreter": {
        "hash": "ae784ccfb18bd71bfbb468741712411e6f47c1f5c385b973a4a22dac7f04b551"
      }
    }
  },
  "nbformat": 4,
  "nbformat_minor": 0
}
