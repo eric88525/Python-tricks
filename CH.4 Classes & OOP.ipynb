{
  "cells": [
    {
      "cell_type": "markdown",
      "metadata": {
        "id": "ucolgZDx8qF7"
      },
      "source": [
        "# CH.4 Classes & OOP"
      ]
    },
    {
      "cell_type": "markdown",
      "metadata": {
        "id": "-NXSjwIO8ycS"
      },
      "source": [
        "# Object Comparisons: “is” vs “==”\n",
        "\n",
        "`==` 用於判斷內容有沒有一樣  \n",
        "`is` 用來判斷兩個變數是否指向相同的 object (改一個，令一個也會跟著變動)"
      ]
    },
    {
      "cell_type": "code",
      "execution_count": 1,
      "metadata": {
        "colab": {
          "base_uri": "https://localhost:8080/"
        },
        "id": "7ExLiQzA8074",
        "outputId": "dcff1992-5e5a-4500-ddbc-a82677a1ef95"
      },
      "outputs": [
        {
          "name": "stdout",
          "output_type": "stream",
          "text": [
            "True\n",
            "True\n"
          ]
        }
      ],
      "source": [
        "a = [1, 2, 3]\n",
        "b = a\n",
        "\n",
        "print(a == b)\n",
        "print(a is b)"
      ]
    },
    {
      "cell_type": "code",
      "execution_count": 2,
      "metadata": {
        "colab": {
          "base_uri": "https://localhost:8080/"
        },
        "id": "4CyBrc-n-h1r",
        "outputId": "e37bdc75-c774-4e8a-b6b1-bdb018fd783c"
      },
      "outputs": [
        {
          "name": "stdout",
          "output_type": "stream",
          "text": [
            "[123, 2, 3]\n"
          ]
        }
      ],
      "source": [
        "b[0] = 123\n",
        "print(a)"
      ]
    },
    {
      "cell_type": "markdown",
      "metadata": {
        "id": "QedhYcE09-6r"
      },
      "source": [
        "如果建立令一個變數 c 為 a 的拷貝，他們不會指向相同 object"
      ]
    },
    {
      "cell_type": "code",
      "execution_count": 3,
      "metadata": {
        "colab": {
          "base_uri": "https://localhost:8080/"
        },
        "id": "6q3vbmjg81Gi",
        "outputId": "606b0009-2ee9-4cab-9680-11f15202a114"
      },
      "outputs": [
        {
          "name": "stdout",
          "output_type": "stream",
          "text": [
            "True\n",
            "False\n"
          ]
        }
      ],
      "source": [
        "c = list(a)\n",
        "\n",
        "print(a == c)\n",
        "print(a is c)"
      ]
    },
    {
      "cell_type": "markdown",
      "metadata": {
        "id": "hQrSJBpM-oYq"
      },
      "source": [
        "# String Conversion (Every Class Needs a `__repr__` )\n",
        "如果正常的把 class 給印出來(轉成字串或是在 interpreter session)  \n",
        "只會看到他的名稱和記憶體位置"
      ]
    },
    {
      "cell_type": "code",
      "execution_count": 4,
      "metadata": {
        "id": "6plyGpki-psL"
      },
      "outputs": [],
      "source": [
        "class Car:\n",
        "  def __init__(self, color, mileage):\n",
        "    self.color = color\n",
        "    self.mileage = mileage"
      ]
    },
    {
      "cell_type": "code",
      "execution_count": 5,
      "metadata": {
        "colab": {
          "base_uri": "https://localhost:8080/"
        },
        "id": "zHM1vQAzBCvQ",
        "outputId": "f251d988-3103-450f-8bb7-8fdcc9c1f0fe"
      },
      "outputs": [
        {
          "name": "stdout",
          "output_type": "stream",
          "text": [
            "<__main__.Car object at 0x7fe2d3c48590>\n"
          ]
        },
        {
          "data": {
            "text/plain": [
              "<__main__.Car at 0x7fe2d3c48590>"
            ]
          },
          "execution_count": 5,
          "metadata": {},
          "output_type": "execute_result"
        }
      ],
      "source": [
        "myCar = Car('red', 123)\n",
        "\n",
        "print(myCar) #　轉成字串\n",
        "\n",
        "myCar # interpreter session"
      ]
    },
    {
      "cell_type": "markdown",
      "metadata": {
        "id": "_X58dSMRBLYP"
      },
      "source": [
        "但如果加上 `__str__` method 後，就能改變 print 出來的資訊  \n",
        "`__str__` 是一種 python 的 dunder(doublke-underscore) methods  \n",
        "他在 object 準備被轉成 str 時呼叫"
      ]
    },
    {
      "cell_type": "code",
      "execution_count": 6,
      "metadata": {
        "id": "Tpd-uWShA9ao"
      },
      "outputs": [],
      "source": [
        "class Car:\n",
        "  def __init__(self, color, mileage):\n",
        "    self.color = color\n",
        "    self.mileage = mileage\n",
        "  def __str__(self):\n",
        "    return f'a {self.color} car'"
      ]
    },
    {
      "cell_type": "code",
      "execution_count": 7,
      "metadata": {
        "colab": {
          "base_uri": "https://localhost:8080/"
        },
        "id": "Y8DoxGkZ-p2C",
        "outputId": "370b1c14-66dd-4559-dc50-c8d9ba3b5f53"
      },
      "outputs": [
        {
          "name": "stdout",
          "output_type": "stream",
          "text": [
            "a red car\n"
          ]
        },
        {
          "data": {
            "text/plain": [
              "<__main__.Car at 0x7fe2d76bca10>"
            ]
          },
          "execution_count": 7,
          "metadata": {},
          "output_type": "execute_result"
        }
      ],
      "source": [
        "myCar = Car('red', 123)\n",
        "\n",
        "print(myCar)\n",
        "\n",
        "myCar # 注意這個輸出"
      ]
    },
    {
      "cell_type": "markdown",
      "metadata": {
        "id": "xDtuJHxXBth_"
      },
      "source": [
        "## \\_\\_str\\_\\_ vs \\_\\_repr\\_\\_\n",
        "在上一個範例，在 interpreter session 檢查 myCar 時，依舊會輸出記憶體位置和名稱  \n",
        "這是因為他們使用了兩種不同的 dunder `__str__` 和 `__repr__`\n",
        "\n"
      ]
    },
    {
      "cell_type": "code",
      "execution_count": 8,
      "metadata": {
        "id": "uWUIpRKm-p4y"
      },
      "outputs": [],
      "source": [
        "class Car:\n",
        "  def __init__(self, color, mileage):\n",
        "    self.color = color\n",
        "    self.mileage = mileage\n",
        "  \n",
        "  def __repr__(self):\n",
        "    return '__repr__ for Car'\n",
        "  \n",
        "  def __str__(self):\n",
        "    return '__str__ for Car'"
      ]
    },
    {
      "cell_type": "code",
      "execution_count": 9,
      "metadata": {
        "colab": {
          "base_uri": "https://localhost:8080/"
        },
        "id": "bDmXgegMCkBX",
        "outputId": "18d62654-0601-45b7-a84f-aacb18edb0c6"
      },
      "outputs": [
        {
          "name": "stdout",
          "output_type": "stream",
          "text": [
            "__str__ for Car\n"
          ]
        },
        {
          "data": {
            "text/plain": [
              "__repr__ for Car"
            ]
          },
          "execution_count": 9,
          "metadata": {},
          "output_type": "execute_result"
        }
      ],
      "source": [
        "my_car = Car('red', 37281)\n",
        "\n",
        "print(my_car)\n",
        "my_car"
      ]
    },
    {
      "cell_type": "markdown",
      "metadata": {
        "id": "oUG8F3KmE-NX"
      },
      "source": [
        "為了避免搞混，在需要檢查 str 或是 repr 時建議用對應的 function"
      ]
    },
    {
      "cell_type": "code",
      "execution_count": 10,
      "metadata": {
        "colab": {
          "base_uri": "https://localhost:8080/"
        },
        "id": "AD2-2u1CFywN",
        "outputId": "71b9f625-9468-4399-ed72-974563d2da04"
      },
      "outputs": [
        {
          "name": "stdout",
          "output_type": "stream",
          "text": [
            "__str__ for Car\n",
            "__repr__ for Car\n"
          ]
        }
      ],
      "source": [
        "print(str(my_car))\n",
        "print(repr(my_car))"
      ]
    },
    {
      "cell_type": "markdown",
      "metadata": {
        "id": "a5R2hpgcGIzA"
      },
      "source": [
        "一個實際的使用情況是，我們希望能直接 print 出好讀的時間表示"
      ]
    },
    {
      "cell_type": "code",
      "execution_count": 11,
      "metadata": {
        "colab": {
          "base_uri": "https://localhost:8080/",
          "height": 35
        },
        "id": "QXprIqOaGJlf",
        "outputId": "a9e9548e-b4b9-4631-8c58-738736eb82fe"
      },
      "outputs": [
        {
          "data": {
            "application/vnd.google.colaboratory.intrinsic+json": {
              "type": "string"
            },
            "text/plain": [
              "'2022-08-05'"
            ]
          },
          "execution_count": 11,
          "metadata": {},
          "output_type": "execute_result"
        }
      ],
      "source": [
        "import datetime\n",
        "today = datetime.date.today()\n",
        "\n",
        "str(today)"
      ]
    },
    {
      "cell_type": "markdown",
      "metadata": {
        "id": "B8dokJw8GW1g"
      },
      "source": [
        "**repr** 主要是在幫助我們開發或 debug，因此會有關於資料型態的資訊"
      ]
    },
    {
      "cell_type": "code",
      "execution_count": 12,
      "metadata": {
        "colab": {
          "base_uri": "https://localhost:8080/",
          "height": 35
        },
        "id": "y5fK2v7xGW9A",
        "outputId": "15b82e12-2a8f-4e78-8d65-da6215ebf64a"
      },
      "outputs": [
        {
          "data": {
            "application/vnd.google.colaboratory.intrinsic+json": {
              "type": "string"
            },
            "text/plain": [
              "'datetime.date(2022, 8, 5)'"
            ]
          },
          "execution_count": 12,
          "metadata": {},
          "output_type": "execute_result"
        }
      ],
      "source": [
        "repr(today)"
      ]
    },
    {
      "cell_type": "markdown",
      "metadata": {
        "id": "SYD7L520GvcY"
      },
      "source": [
        "## Why Every Class Needs a \\_\\_repr\\_\\_\n",
        "\n",
        "如果沒加上 `__str__` method，python 會回去找 `__repr__` method  \n",
        "因此，建議都要幫 class 加上 `__repr__` method"
      ]
    },
    {
      "cell_type": "code",
      "execution_count": 13,
      "metadata": {
        "id": "JVbGr2x6GxNQ"
      },
      "outputs": [],
      "source": [
        "class Car:\n",
        "  def __init__(self, color, mileage):\n",
        "    self.color = color\n",
        "    self.mileage = mileage\n",
        "  \n",
        "  def __repr__(self):\n",
        "    return (f'{self.__class__.__name__}('\n",
        "            f'{self.color!r}, {self.mileage!r})')"
      ]
    },
    {
      "cell_type": "code",
      "execution_count": 14,
      "metadata": {
        "colab": {
          "base_uri": "https://localhost:8080/",
          "height": 35
        },
        "id": "u-BNo4DuGxRY",
        "outputId": "9e6547e4-2365-4093-8808-5dfa801ba70b"
      },
      "outputs": [
        {
          "data": {
            "application/vnd.google.colaboratory.intrinsic+json": {
              "type": "string"
            },
            "text/plain": [
              "\"Car('blue', 123)\""
            ]
          },
          "execution_count": 14,
          "metadata": {},
          "output_type": "execute_result"
        }
      ],
      "source": [
        "my_car = Car('blue', 123)\n",
        "\n",
        "repr(my_car)"
      ]
    },
    {
      "cell_type": "code",
      "execution_count": 15,
      "metadata": {
        "colab": {
          "base_uri": "https://localhost:8080/",
          "height": 35
        },
        "id": "1YFHg9rBIf1p",
        "outputId": "d68ffaaf-dbd2-43dd-9c61-e1b3c93e1d94"
      },
      "outputs": [
        {
          "data": {
            "application/vnd.google.colaboratory.intrinsic+json": {
              "type": "string"
            },
            "text/plain": [
              "\"Car('blue', 123)\""
            ]
          },
          "execution_count": 15,
          "metadata": {},
          "output_type": "execute_result"
        }
      ],
      "source": [
        "str(my_car)"
      ]
    },
    {
      "cell_type": "markdown",
      "metadata": {
        "id": "-Xlc-tpeFi3S"
      },
      "source": [
        "**Key Takeaways**\n",
        "+ You can control to-string conversion in your own classes using\n",
        "the __str__ and __repr__ “dunder” methods.\n",
        "+ The result of __str__ should be readable. The result of\n",
        "__repr__ should be unambiguous.\n",
        "+ Always add a __repr__ to your classes. The default implementation for __str__ just calls __repr__.\n",
        "+ Use __unicode__ instead of __str__ in Python 2."
      ]
    },
    {
      "cell_type": "markdown",
      "metadata": {
        "id": "ZwJyzQOeFnvz"
      },
      "source": [
        "## 3.4 Defining Your Own Exception Classes\n",
        "使用內建的 exception 似乎很合理，但在維護上往往讓人不知道明確的錯誤點在哪\n",
        "\n",
        "```python\n",
        "def validate(name):\n",
        "  if len(name) < 10:\n",
        "    raise ValueError\n",
        "\n",
        ">>> validate('joe')\n",
        "Traceback (most recent call last):\n",
        "  File \"<input>\", line 1, in <module>\n",
        "    validate('joe')\n",
        "  File \"<input>\", line 3, in validate\n",
        "    raise ValueError\n",
        "ValueError\n",
        "```\n",
        "我們可以自訂義 exception 來讓程式更好維護"
      ]
    },
    {
      "cell_type": "code",
      "execution_count": 16,
      "metadata": {
        "id": "jYIeHFOaGKtd"
      },
      "outputs": [],
      "source": [
        "class NameTooShortError(ValueError):\n",
        "  pass\n",
        "  \n",
        "def validate(name):\n",
        "  if len(name) < 10:\n",
        "    raise NameTooShortError(name)"
      ]
    },
    {
      "cell_type": "code",
      "execution_count": 17,
      "metadata": {
        "id": "DWgZgwFWG7C6"
      },
      "outputs": [],
      "source": [
        "# 這段將會出錯\n",
        "# validate('tom') "
      ]
    },
    {
      "cell_type": "markdown",
      "metadata": {
        "id": "9L4EpSxYHe3m"
      },
      "source": [
        "理解用法後，進一步延伸建立出自己的 grouped exception  \n",
        "所有相關的 exception 都能繼承他  "
      ]
    },
    {
      "cell_type": "code",
      "execution_count": 18,
      "metadata": {
        "id": "fDVCO2kzG-vi"
      },
      "outputs": [],
      "source": [
        "# base\n",
        "class BaseValidationError(ValueError):\n",
        "  pass\n",
        "\n",
        "# 延伸\n",
        "class NameTooShortError(BaseValidationError):\n",
        "  pass\n",
        "class NameTooLongError(BaseValidationError):\n",
        "  pass\n",
        "class NameTooCuteError(BaseValidationError):\n",
        "  pass  "
      ]
    },
    {
      "cell_type": "markdown",
      "metadata": {
        "id": "XzQ-w7uVKJnN"
      },
      "source": [
        "如使用者不想明確定義是哪個 exception  \n",
        "就能使用 base exception 替代"
      ]
    },
    {
      "cell_type": "code",
      "execution_count": 19,
      "metadata": {
        "id": "780_Oz7sH3Rm"
      },
      "outputs": [],
      "source": [
        "name = 'tom'\n",
        "\n",
        "def handle_validation_error(BaseValidationError):\n",
        "  pass\n",
        "\n",
        "try:\n",
        "  validate(name)\n",
        "except BaseValidationError as err:\n",
        "  handle_validation_error(err)"
      ]
    },
    {
      "cell_type": "markdown",
      "metadata": {
        "id": "w_CEJhZ8KlLn"
      },
      "source": [
        "**Key Takeaways**\n",
        "+ Defining your own exception types will state your code’s intent\n",
        "more clearly and make it easier to debug.\n",
        "+ Derive your custom exceptions from Python’s built-in\n",
        "Exception class or from more specific exception classes\n",
        "like ValueError or KeyError.\n",
        "+ You can use inheritance to define logically grouped exception\n",
        "hierarchies."
      ]
    },
    {
      "cell_type": "markdown",
      "metadata": {
        "id": "Yo5C5-RvKwsq"
      },
      "source": [
        "# 4.4 Cloning Objects for Fun and Profit\n",
        "Assignment statements 在 python 中沒有建立 copy object，而是將變數名稱綁到 object 上(類似指標)  \n",
        "這章節將介紹如何真的的拷貝 object ，我們先來看 python 內建的拷貝方式\n",
        "\n",
        "```python\n",
        "new_list = list(original_list)\n",
        "new_dict = dict(original_dict)\n",
        "new_set = set(original_set)\n",
        "```\n",
        "可惜的是他們只是 **shallow copies** 而已  \n",
        "+ A shallow copy means constructing a new collection object and then\n",
        "populating it with references to the child objects found in the original.\n",
        "In essence, a shallow copy is only **one level deep**. The copying process\n",
        "does not recurse and therefore **won’t create copies of the child objects\n",
        "themselves.**  \n",
        "\n",
        "意思是他們只拷貝**第一層**，child object 則不拷貝\n"
      ]
    },
    {
      "cell_type": "markdown",
      "metadata": {
        "id": "-JGa8FrVMWzC"
      },
      "source": [
        "## Making Shallow Copies\n",
        "以下的例子 ys 是 xs 的 shallow copy，看起來彼此互相不影響"
      ]
    },
    {
      "cell_type": "code",
      "execution_count": 20,
      "metadata": {
        "id": "834-qJTrMV1i"
      },
      "outputs": [],
      "source": [
        "xs = [[1, 2, 3], [4, 5, 6], [7, 8, 9]]\n",
        "ys = list(xs) # Make a shallow copy"
      ]
    },
    {
      "cell_type": "code",
      "execution_count": 21,
      "metadata": {
        "colab": {
          "base_uri": "https://localhost:8080/"
        },
        "id": "tsd9lsgWKyYy",
        "outputId": "6291ff98-900e-4bad-eb7a-b8a4c6115fee"
      },
      "outputs": [
        {
          "name": "stdout",
          "output_type": "stream",
          "text": [
            "[[1, 2, 3], [4, 5, 6], [7, 8, 9], [123]]\n",
            "[[1, 2, 3], [4, 5, 6], [7, 8, 9]]\n"
          ]
        }
      ],
      "source": [
        "xs.append([123])\n",
        "\n",
        "print(xs)\n",
        "print(ys)"
      ]
    },
    {
      "cell_type": "markdown",
      "metadata": {
        "id": "ocReXy20M968"
      },
      "source": [
        "但進一步觀察 child object 時會發現，child object 還是共享的"
      ]
    },
    {
      "cell_type": "code",
      "execution_count": 22,
      "metadata": {
        "colab": {
          "base_uri": "https://localhost:8080/"
        },
        "id": "e8zRnR6rNK5Q",
        "outputId": "a7c3586f-7855-4f3f-979d-299a01b87096"
      },
      "outputs": [
        {
          "name": "stdout",
          "output_type": "stream",
          "text": [
            "[['xxx', 2, 3], [4, 5, 6], [7, 8, 9], [123]]\n",
            "[['xxx', 2, 3], [4, 5, 6], [7, 8, 9]]\n"
          ]
        }
      ],
      "source": [
        "xs[0][0] = 'xxx'\n",
        "\n",
        "print(xs)\n",
        "print(ys)"
      ]
    },
    {
      "cell_type": "markdown",
      "metadata": {
        "id": "gbbgcPgSOdpd"
      },
      "source": [
        "另一種建立 shallow copy 的用法是 copy.copy()，或是 object.copy()"
      ]
    },
    {
      "cell_type": "code",
      "execution_count": 23,
      "metadata": {
        "id": "yCvmhTU-OePU"
      },
      "outputs": [],
      "source": [
        "import copy\n",
        "\n",
        "xs = [[1, 2, 3], [4, 5, 6], [7, 8, 9]]\n",
        "ys = copy.copy(xs) # or xs.copy()"
      ]
    },
    {
      "cell_type": "code",
      "execution_count": 24,
      "metadata": {
        "colab": {
          "base_uri": "https://localhost:8080/"
        },
        "id": "x7ajw6hPOksD",
        "outputId": "1a1c5b2b-00dc-492d-90d2-f326c177af1f"
      },
      "outputs": [
        {
          "name": "stdout",
          "output_type": "stream",
          "text": [
            "[['xxx', 2, 3], [4, 5, 6], [7, 8, 9]]\n",
            "[['xxx', 2, 3], [4, 5, 6], [7, 8, 9]]\n"
          ]
        }
      ],
      "source": [
        "xs[0][0] = 'xxx'\n",
        "\n",
        "print(xs)\n",
        "print(ys)"
      ]
    },
    {
      "cell_type": "markdown",
      "metadata": {
        "id": "v-OC444VNpGb"
      },
      "source": [
        "## Making Deep Copies\n",
        "deep copy 以後彼此互不影響  "
      ]
    },
    {
      "cell_type": "code",
      "execution_count": 25,
      "metadata": {
        "id": "mn_ShOd1NLAe"
      },
      "outputs": [],
      "source": [
        "import copy\n",
        "xs = [[1, 2, 3], [4, 5, 6], [7, 8, 9]]\n",
        "zs = copy.deepcopy(xs)"
      ]
    },
    {
      "cell_type": "code",
      "execution_count": 26,
      "metadata": {
        "colab": {
          "base_uri": "https://localhost:8080/"
        },
        "id": "n-_nOYVzN8Ds",
        "outputId": "39726fb5-1415-4133-d072-2c6d721ad91c"
      },
      "outputs": [
        {
          "name": "stdout",
          "output_type": "stream",
          "text": [
            "[[1, 2, 3], [4, 5, 6], [7, 8, 9]]\n"
          ]
        }
      ],
      "source": [
        "xs[0][0] = 50\n",
        "print(zs)"
      ]
    },
    {
      "cell_type": "markdown",
      "metadata": {
        "id": "tLNbWTG_O4bt"
      },
      "source": [
        "## Copying Arbitrary Objects\n",
        "建立 class 來觀察 shallow copy 和 deep copy 的差異  \n",
        "Rectangle class 使用到了 Point class 作為成員  \n",
        "在 shallow copy 後，child member 依舊相連\n"
      ]
    },
    {
      "cell_type": "code",
      "execution_count": 27,
      "metadata": {
        "id": "0iizO8upQ8XN"
      },
      "outputs": [],
      "source": [
        "class Point:\n",
        "  def __init__(self, x, y):\n",
        "    self.x = x\n",
        "    self.y = y\n",
        "  def __repr__(self):\n",
        "    return f'Point({self.x!r}, {self.y!r})'"
      ]
    },
    {
      "cell_type": "code",
      "execution_count": 28,
      "metadata": {
        "id": "8Tz33dhbO5Km"
      },
      "outputs": [],
      "source": [
        "class Rectangle:\n",
        "  def __init__(self, topleft, bottomright):\n",
        "    self.topleft = topleft\n",
        "    self.bottomright = bottomright\n",
        "  def __repr__(self):\n",
        "    return (f'Rectangle({self.topleft!r}, '\n",
        "        f'{self.bottomright!r})')"
      ]
    },
    {
      "cell_type": "code",
      "execution_count": 29,
      "metadata": {
        "colab": {
          "base_uri": "https://localhost:8080/"
        },
        "id": "bafPsiTlO5Pb",
        "outputId": "a588ad46-52ba-4715-ca8b-46ef6ad8b0a5"
      },
      "outputs": [
        {
          "name": "stdout",
          "output_type": "stream",
          "text": [
            "Rectangle(Point(0, 0), Point(10, 10))\n",
            "Rectangle(Point(0, 0), Point(10, 10))\n"
          ]
        }
      ],
      "source": [
        "import copy\n",
        "\n",
        "a = Rectangle(Point(0, 0), Point(10, 10))\n",
        "b = copy.copy(a)\n",
        "\n",
        "print(a)\n",
        "print(b)"
      ]
    },
    {
      "cell_type": "code",
      "execution_count": 30,
      "metadata": {
        "colab": {
          "base_uri": "https://localhost:8080/"
        },
        "id": "zmqpTRosO5Vw",
        "outputId": "a95ee493-684e-45c1-c22a-1f480b072425"
      },
      "outputs": [
        {
          "name": "stdout",
          "output_type": "stream",
          "text": [
            "Rectangle(Point(200, 0), Point(10, 10))\n",
            "Rectangle(Point(200, 0), Point(10, 10))\n"
          ]
        }
      ],
      "source": [
        "a.topleft.x = 200\n",
        "\n",
        "print(a)\n",
        "# Point 底下的 x 對 Rectangle 來說是 child member \n",
        "# 他們依舊相連\n",
        "print(b) "
      ]
    },
    {
      "cell_type": "markdown",
      "metadata": {
        "id": "hQCormbA7vos"
      },
      "source": [
        "如果只更改第一層的成員(topleft 和 bottomright)則不影響"
      ]
    },
    {
      "cell_type": "code",
      "execution_count": 31,
      "metadata": {
        "colab": {
          "base_uri": "https://localhost:8080/"
        },
        "id": "R7coN1BO7jqI",
        "outputId": "f0fa2912-49a7-4630-a8b3-8b0e6dec25c4"
      },
      "outputs": [
        {
          "name": "stdout",
          "output_type": "stream",
          "text": [
            "Rectangle(Point(80, 80), Point(10, 10))\n",
            "Rectangle(Point(200, 0), Point(10, 10))\n"
          ]
        }
      ],
      "source": [
        "a.topleft = Point(80, 80)\n",
        "\n",
        "print(a)\n",
        "print(b)"
      ]
    },
    {
      "cell_type": "markdown",
      "metadata": {
        "id": "f9F9oaqCR9ua"
      },
      "source": [
        "補充:  \n",
        "在 python 官方文檔 [Shallow and deep copy operations](https://docs.python.org/3/library/copy.html) 有更詳細的說明，包含如何透過 ` __copy__()`, `__deepcopy__()` 定義 copy 行為"
      ]
    },
    {
      "cell_type": "markdown",
      "metadata": {
        "id": "pnniJyExRqZ-"
      },
      "source": [
        "**Key Takeaways**\n",
        "+ Making a shallow copy of an object won’t clone child objects.\n",
        "Therefore, the copy is not fully independent of the original.\n",
        "+ A deep copy of an object will recursively clone child objects. The\n",
        "clone is fully independent of the original, but creating a deep\n",
        "copy is slower.\n",
        "+ You can copy arbitrary objects (including custom classes) with\n",
        "the copy module."
      ]
    },
    {
      "cell_type": "markdown",
      "metadata": {
        "id": "6S4MTDjm8L1A"
      },
      "source": [
        "# 4.5 Abstract Base Classes Keep Inheritance in Check\n",
        "Abstract Base Classes (ABCs) 確保繼承他的 class 需要實作特定的 methods  \n",
        "這章節將講述如何透過 python 內建的 abc module 來定義他們  \n",
        "  \n",
        "ABCs 應有以下特性:\n",
        "+ 他們不能被實體化 (instantiating)\n",
        "+ sub-class 忘了實做某些 method 會出現警告\n"
      ]
    },
    {
      "cell_type": "code",
      "execution_count": 32,
      "metadata": {
        "id": "EO_SHIua8SSe"
      },
      "outputs": [],
      "source": [
        "class Base:\n",
        "  def foo(self):\n",
        "    raise NotImplementedError()\n",
        "  def bar(self):\n",
        "    raise NotImplementedError()\n",
        "\n",
        "class Concrete(Base):\n",
        "  def foo(self):\n",
        "    return 'foo() called'\n",
        "# Oh no, we forgot to override bar()...\n",
        "# def bar(self):\n",
        "# return \"bar() called\""
      ]
    },
    {
      "cell_type": "markdown",
      "metadata": {
        "id": "pOD9dvLW-UvS"
      },
      "source": [
        "建立 base class 物件不會出現錯誤，但在使用 method 時就會"
      ]
    },
    {
      "cell_type": "code",
      "execution_count": 33,
      "metadata": {
        "id": "SE_wQf1g9zd0"
      },
      "outputs": [],
      "source": [
        "b = Base()\n",
        "# NotImplementedError:\n",
        "# b.foo() "
      ]
    },
    {
      "cell_type": "markdown",
      "metadata": {
        "id": "ZrFzv8tc-cP8"
      },
      "source": [
        "有方法沒實作，一呼叫就會出現錯誤"
      ]
    },
    {
      "cell_type": "code",
      "execution_count": 34,
      "metadata": {
        "id": "IwZ5SaOH98ZD"
      },
      "outputs": [],
      "source": [
        "c = Concrete()\n",
        "# NotImplementedError\n",
        "# c.bar()"
      ]
    },
    {
      "cell_type": "markdown",
      "metadata": {
        "id": "PiMLHtjy-lRu"
      },
      "source": [
        "這跟最前面提到的似乎有些不同(還是能實體化)  \n",
        "但我們能使用 abc module 來完善他們"
      ]
    },
    {
      "cell_type": "code",
      "execution_count": 35,
      "metadata": {
        "id": "RRZqbZZf-0J_"
      },
      "outputs": [],
      "source": [
        "from abc import ABCMeta, abstractmethod\n",
        "\n",
        "class Base(metaclass=ABCMeta):\n",
        "  \n",
        "  @abstractmethod\n",
        "  def foo(self):\n",
        "    pass\n",
        "  @abstractmethod\n",
        "  def bar(self):\n",
        "    pass\n",
        "\n",
        "class Concrete(Base):\n",
        "  def foo(self):\n",
        "    pass\n",
        "\n",
        "# We forget to declare bar() again..."
      ]
    },
    {
      "cell_type": "markdown",
      "metadata": {
        "id": "kgG02OZgG8Gn"
      },
      "source": [
        "指定 metaclass=ABCMeta 後，想要實例化 baseclass 會出現錯誤 (不信你試試)  \n",
        "subclass 如果少實作 method 也不行\n"
      ]
    },
    {
      "cell_type": "code",
      "execution_count": 36,
      "metadata": {
        "id": "ieLqX2MpFri8"
      },
      "outputs": [],
      "source": [
        "# c = Base()\n",
        "# >>> TypeError: Can't instantiate abstract class Base with abstract methods bar, foo"
      ]
    },
    {
      "cell_type": "code",
      "execution_count": 37,
      "metadata": {
        "id": "gwD4aXGvIWLC"
      },
      "outputs": [],
      "source": [
        "# c = Concrete()\n",
        "# TypeError: Can't instantiate abstract class Concrete with abstract methods bar"
      ]
    },
    {
      "cell_type": "code",
      "execution_count": 38,
      "metadata": {
        "id": "tgXt8KKMIIt_"
      },
      "outputs": [],
      "source": [
        "# Concreate 仍然是 subclass\n",
        "assert issubclass(Concrete, Base)"
      ]
    },
    {
      "cell_type": "markdown",
      "metadata": {
        "id": "yptFM0Zesrbj"
      },
      "source": [
        "**Key Takeaways**\n",
        "+ Abstract Base Classes (ABCs) ensure that derived classes implement particular methods from the base class at instantiation\n",
        "time.\n",
        "+ Using ABCs can help avoid bugs and make class hierarchies easier to maintain."
      ]
    },
    {
      "cell_type": "markdown",
      "metadata": {
        "id": "BDDcpjtos5Fb"
      },
      "source": [
        "# 4.6 What Namedtuples Are Good For\n",
        "namedtuple 在 python 內是一個很特別的資料結構，可以作為 class 的替代方案  \n",
        "在理解他以前先來看看內建的 tuple 型態，跟 list 很相似，但具有 immutable (不可更動特性)，一被建立就無法更動\n",
        "  \n",
        "還有兩個缺點:\n",
        "+ 只能透過 int index 存取，這會影響可讀性\n",
        "+ tuple 是 ad-hoc structure (臨時使用的資料結構)，很難保證兩個 tuple 間有相同數量的欄位和資料型態\n",
        "\n",
        "```python\n",
        "tup = ('hello', object(), 42)\n",
        ">>> a = tup[0]\n",
        ">>> tup[0] = 20\n",
        "TypeError:\n",
        "\"'tuple' object does not support item assignment\"\n",
        "```\n",
        "關於 [ad-hoc](https://stackoverflow.com/questions/1786735/what-does-ad-hoc-mean-in-programming) 在程式的意義  \n",
        "some quick and dirty code without the intention of reuse"
      ]
    },
    {
      "cell_type": "markdown",
      "metadata": {
        "id": "Pyw0sR4K2eI7"
      },
      "source": [
        "## Namedtuples to the Rescue\n",
        "就是為了解決以上問題而但誕生的 \n",
        "+ Namedtuples 遵守 write once, read many 原則，不能修改內容  \n",
        "+ 可透過 unique (human-readable)\n",
        "identifier 來存取元素  \n",
        "  \n",
        "Nametuple 使用範例:  \n",
        "+ 第一個參數 SuperCar 是 typename，在 `__repr__` 呼叫時會顯示  \n",
        "+ 第二個參數可為空白or逗號分隔的字串或是 list，代表這個 namedtuple 的欄位"
      ]
    },
    {
      "cell_type": "code",
      "execution_count": 39,
      "metadata": {
        "id": "eSiPqcDbs-X9"
      },
      "outputs": [],
      "source": [
        "from collections import namedtuple\n",
        "Car = namedtuple('SuperCar' , 'color mileage')\n",
        "# Car = namedtuple('SuperCar' , ['color', 'mileage'])"
      ]
    },
    {
      "cell_type": "markdown",
      "metadata": {
        "id": "T_9d1rpv7WOi"
      },
      "source": [
        "現在 nametuple Car 有兩個元素了，可透過名稱或是 index 來存取"
      ]
    },
    {
      "cell_type": "code",
      "execution_count": 40,
      "metadata": {
        "colab": {
          "base_uri": "https://localhost:8080/"
        },
        "id": "HBEqqavwAVid",
        "outputId": "44614e82-7b2e-410c-c30d-bbeba85eed1f"
      },
      "outputs": [
        {
          "data": {
            "text/plain": [
              "Car('blue', 123)"
            ]
          },
          "execution_count": 40,
          "metadata": {},
          "output_type": "execute_result"
        }
      ],
      "source": [
        "# SuperCar will show when calling __repr__ method\n",
        "my_car"
      ]
    },
    {
      "cell_type": "code",
      "execution_count": 41,
      "metadata": {
        "colab": {
          "base_uri": "https://localhost:8080/"
        },
        "id": "zJGmbZrg7EMc",
        "outputId": "3b137ca4-4b45-4bf4-d14f-30e54711faa2"
      },
      "outputs": [
        {
          "name": "stdout",
          "output_type": "stream",
          "text": [
            "red\n",
            "300\n",
            "red\n",
            "300\n"
          ]
        }
      ],
      "source": [
        "my_car = Car('red', 300)\n",
        "\n",
        "print(my_car.color)\n",
        "print(my_car.mileage)\n",
        "\n",
        "print(my_car[0])\n",
        "print(my_car[1])"
      ]
    },
    {
      "cell_type": "markdown",
      "metadata": {
        "id": "b0tqpsKR7uAx"
      },
      "source": [
        "tuple unpacking 也是可行的"
      ]
    },
    {
      "cell_type": "code",
      "execution_count": 42,
      "metadata": {
        "colab": {
          "base_uri": "https://localhost:8080/"
        },
        "id": "L8-vgfBm7RG4",
        "outputId": "8eb48eba-a92f-48dc-c218-c720d2ad666e"
      },
      "outputs": [
        {
          "name": "stdout",
          "output_type": "stream",
          "text": [
            "red 300\n"
          ]
        }
      ],
      "source": [
        "print(*my_car)"
      ]
    },
    {
      "cell_type": "markdown",
      "metadata": {
        "id": "MRIam9-E74hu"
      },
      "source": [
        "## Subclassing Namedtuples\n",
        "你也可延伸 nametuple 的功能，幫其加上 method"
      ]
    },
    {
      "cell_type": "code",
      "execution_count": 43,
      "metadata": {
        "id": "7dhsP4eR8c6x"
      },
      "outputs": [],
      "source": [
        "from collections import namedtuple\n",
        "Car = namedtuple('Car', ['color', 'mileage'])"
      ]
    },
    {
      "cell_type": "code",
      "execution_count": 44,
      "metadata": {
        "id": "bQUA2F6H-Wrd"
      },
      "outputs": [],
      "source": [
        "class MyCarWithMethods(Car):\n",
        "  def hexcolor(self):\n",
        "    if self.color == 'red':\n",
        "      return \"#ff0000\"\n",
        "    else:\n",
        "      return '#000000'"
      ]
    },
    {
      "cell_type": "code",
      "execution_count": 45,
      "metadata": {
        "colab": {
          "base_uri": "https://localhost:8080/",
          "height": 35
        },
        "id": "rODwhlhi-ifl",
        "outputId": "8efd5ac6-645c-40c6-dfb0-56d7520a5789"
      },
      "outputs": [
        {
          "data": {
            "application/vnd.google.colaboratory.intrinsic+json": {
              "type": "string"
            },
            "text/plain": [
              "'#ff0000'"
            ]
          },
          "execution_count": 45,
          "metadata": {},
          "output_type": "execute_result"
        }
      ],
      "source": [
        "c = MyCarWithMethods('red', 1324)\n",
        "c.hexcolor()"
      ]
    },
    {
      "cell_type": "markdown",
      "metadata": {
        "id": "Y-dJ06Da_KPr"
      },
      "source": [
        "幫 nametuple 加上新的欄位是很麻煩，因為它不可更改  \n",
        "更好的方式為創建一個新的 nametuple，並沿用舊的 nametuple 欄位  \n",
        "`._fields` 可以取得欄位名稱 (複習一下，前單底線代表私有成員)"
      ]
    },
    {
      "cell_type": "code",
      "execution_count": 46,
      "metadata": {
        "id": "onXO00SL_KYP"
      },
      "outputs": [],
      "source": [
        "Car = namedtuple('Car', 'color mileage')\n",
        "ElectricCar = namedtuple('ElectricCar', Car._fields + ('charge',))"
      ]
    },
    {
      "cell_type": "code",
      "execution_count": 47,
      "metadata": {
        "colab": {
          "base_uri": "https://localhost:8080/"
        },
        "id": "9V80r2s0__Lb",
        "outputId": "8388ae7a-c1bf-42be-d122-502180ac278a"
      },
      "outputs": [
        {
          "data": {
            "text/plain": [
              "ElectricCar(color='red', mileage=1234, charge=45.0)"
            ]
          },
          "execution_count": 47,
          "metadata": {},
          "output_type": "execute_result"
        }
      ],
      "source": [
        "ElectricCar('red', 1234, 45.0)"
      ]
    },
    {
      "cell_type": "markdown",
      "metadata": {
        "id": "Y2XRMZ1sAXsj"
      },
      "source": [
        "## Built-in Helper Methods\n",
        "除了 `_fields` attribute，以下將介紹其他好用的 helper **methods**，他們都是前單底線開頭(私有成員)\n",
        "  \n",
        "`_asdict()` 回傳 nametuple 的內容為 dictionary\n",
        "\n"
      ]
    },
    {
      "cell_type": "code",
      "execution_count": 48,
      "metadata": {
        "colab": {
          "base_uri": "https://localhost:8080/"
        },
        "id": "b7jS6hsQAYVd",
        "outputId": "1e2f787a-ce09-46b3-d9fd-4c6efd63828c"
      },
      "outputs": [
        {
          "data": {
            "text/plain": [
              "OrderedDict([('color', 'red'), ('mileage', 300)])"
            ]
          },
          "execution_count": 48,
          "metadata": {},
          "output_type": "execute_result"
        }
      ],
      "source": [
        "my_car._asdict()"
      ]
    },
    {
      "cell_type": "code",
      "execution_count": 49,
      "metadata": {
        "colab": {
          "base_uri": "https://localhost:8080/",
          "height": 35
        },
        "id": "JUCO8efaAYX3",
        "outputId": "82eda45f-05e2-4800-83f1-419962e0a8ca"
      },
      "outputs": [
        {
          "data": {
            "application/vnd.google.colaboratory.intrinsic+json": {
              "type": "string"
            },
            "text/plain": [
              "'{\"color\": \"red\", \"mileage\": 300}'"
            ]
          },
          "execution_count": 49,
          "metadata": {},
          "output_type": "execute_result"
        }
      ],
      "source": [
        "import json\n",
        "json.dumps(my_car._asdict())"
      ]
    },
    {
      "cell_type": "markdown",
      "metadata": {
        "id": "H4XlWKtbBUES"
      },
      "source": [
        "另一個好用的 help 是 `_replace()`，建立了一個 shallow copy，並能更改欄位內的內容"
      ]
    },
    {
      "cell_type": "code",
      "execution_count": 50,
      "metadata": {
        "colab": {
          "base_uri": "https://localhost:8080/"
        },
        "id": "VXbjVaKoCcQz",
        "outputId": "51e38a21-b7da-437d-9547-49e4f260a1a4"
      },
      "outputs": [
        {
          "data": {
            "text/plain": [
              "SuperCar(color='red', mileage=300)"
            ]
          },
          "execution_count": 50,
          "metadata": {},
          "output_type": "execute_result"
        }
      ],
      "source": [
        "my_car"
      ]
    },
    {
      "cell_type": "code",
      "execution_count": 51,
      "metadata": {
        "colab": {
          "base_uri": "https://localhost:8080/"
        },
        "id": "7AoYQJwpCgrz",
        "outputId": "81d24960-c2ad-4d83-943b-f1d4a85ce04b"
      },
      "outputs": [
        {
          "data": {
            "text/plain": [
              "SuperCar(color='blue', mileage=300)"
            ]
          },
          "execution_count": 51,
          "metadata": {},
          "output_type": "execute_result"
        }
      ],
      "source": [
        "my_car._replace(color='blue')"
      ]
    },
    {
      "cell_type": "markdown",
      "metadata": {
        "id": "iRi1tkKdC-rP"
      },
      "source": [
        "## When to Use Namedtuples\n",
        "nametuple 能增加程式碼的可讀性，那有什麼方能使用呢?  \n",
        "在不希望資料更改(immutable)，又想有 dictionary 那樣的可讀性時候就能使用\n"
      ]
    },
    {
      "cell_type": "markdown",
      "metadata": {
        "id": "mvqARpOpDqxN"
      },
      "source": [
        "**Key Takeaways**\n",
        "+ collection.namedtuple is a **memory-efficient** shortcut to\n",
        "manually define an **immutable** class in Python.\n",
        "+ Namedtuples can help clean up your code by enforcing an\n",
        "easier-to-understand structure on your data\n",
        "+  Namedtuples provide a few **useful helper methods** that all start with a single underscore, but are part of the public interface.It’s okay to use them"
      ]
    },
    {
      "cell_type": "markdown",
      "metadata": {
        "id": "67Puc4P5EtAT"
      },
      "source": [
        "# 4.7 Class vs Instance Variable Pitfalls\n",
        "python 內有兩種 data attribute:\n",
        "+ class variable\n",
        "+ instances variable\n",
        "\n",
        "**Class variables** 在 class 內定義及儲存在 class 內，不屬於任何一個 instance，被所有的 instance 共享。\n",
        "+ 從 class 層面去更改會影響所有 instance\n",
        "+ 從 instance 層面去更改則會建立一個同名的 instance variable，呼叫變數時就不會去存取原本的 class variable \n",
        "  \n",
        "**Instance variables** 永遠跟特定的 object instance 綁定，不同 instance 不共享變數\n",
        "\n"
      ]
    },
    {
      "cell_type": "code",
      "execution_count": 52,
      "metadata": {
        "id": "cOmUaqYdNR5w"
      },
      "outputs": [],
      "source": [
        "class Dog:\n",
        "  num_legs = 4 # <- Class variable\n",
        "  def __init__(self, name):\n",
        "    self.name = name # <- Instance variable"
      ]
    },
    {
      "cell_type": "code",
      "execution_count": 53,
      "metadata": {
        "colab": {
          "base_uri": "https://localhost:8080/"
        },
        "id": "AO85eW9jNVRV",
        "outputId": "69f988f5-86f0-4d03-d07b-5e98a1b9c74a"
      },
      "outputs": [
        {
          "data": {
            "text/plain": [
              "('jack', 'time')"
            ]
          },
          "execution_count": 53,
          "metadata": {},
          "output_type": "execute_result"
        }
      ],
      "source": [
        "jack = Dog('jack')\n",
        "tom = Dog('time')\n",
        "\n",
        "jack.name, tom.name"
      ]
    },
    {
      "cell_type": "markdown",
      "metadata": {
        "id": "Jozjg4lbNlT1"
      },
      "source": [
        "如果要存取 class variable，除了從 instance 存取之外，也可以直接從 class 存取"
      ]
    },
    {
      "cell_type": "code",
      "execution_count": 54,
      "metadata": {
        "colab": {
          "base_uri": "https://localhost:8080/"
        },
        "id": "H-N08ijXNctO",
        "outputId": "91dac9da-7caa-4f09-82a5-1d6ab7c619cf"
      },
      "outputs": [
        {
          "data": {
            "text/plain": [
              "4"
            ]
          },
          "execution_count": 54,
          "metadata": {},
          "output_type": "execute_result"
        }
      ],
      "source": [
        "Dog.num_legs"
      ]
    },
    {
      "cell_type": "markdown",
      "metadata": {
        "id": "PN76eYTKNywL"
      },
      "source": [
        "但如果透過 class 存取 **instance variable**，那將會出錯\n",
        "\n",
        "```python\n",
        ">>> Dog.name\n",
        "AttributeError:\n",
        "\"type object 'Dog' has no attribute 'name'\"\n",
        "```"
      ]
    },
    {
      "cell_type": "markdown",
      "metadata": {
        "id": "28r0q_0pOJAS"
      },
      "source": [
        "前面提到 class variable 是共享的  \n",
        "從 class 層面更改 class variable 將會**影響到所有 instance**"
      ]
    },
    {
      "cell_type": "code",
      "execution_count": 55,
      "metadata": {
        "colab": {
          "base_uri": "https://localhost:8080/"
        },
        "id": "JmxixaJFNsKK",
        "outputId": "6caa175f-50ba-4a62-9c92-8b8c8e726b27"
      },
      "outputs": [
        {
          "data": {
            "text/plain": [
              "(100, 100)"
            ]
          },
          "execution_count": 55,
          "metadata": {},
          "output_type": "execute_result"
        }
      ],
      "source": [
        "Dog.num_legs = 100\n",
        "\n",
        "jack.num_legs, tom.num_legs"
      ]
    },
    {
      "cell_type": "markdown",
      "metadata": {
        "id": "pwj6IRnKPIqg"
      },
      "source": [
        "但如果只想改動一隻狗的 num_legs 數量呢? 修改 instance 的 class variable 就好"
      ]
    },
    {
      "cell_type": "code",
      "execution_count": 56,
      "metadata": {
        "colab": {
          "base_uri": "https://localhost:8080/"
        },
        "id": "6ei_R27FPIw6",
        "outputId": "f81c03de-3178-442d-dc26-8e4bf4519053"
      },
      "outputs": [
        {
          "data": {
            "text/plain": [
              "(4, 5)"
            ]
          },
          "execution_count": 56,
          "metadata": {},
          "output_type": "execute_result"
        }
      ],
      "source": [
        "jack.num_legs = 4\n",
        "tom.num_legs = 5\n",
        "\n",
        "jack.num_legs, tom.num_legs"
      ]
    },
    {
      "cell_type": "markdown",
      "metadata": {
        "id": "bbte6zvQPXyu"
      },
      "source": [
        "上面的做法建立了一個 instance variable (由 class variable shallow copy 而來)，並且名稱與 class variable 是相同的  \n",
        "以後在呼叫這個變數時，改為存取 instance variable  \n",
        "+ 此行為**不會**影響到所有 instance 的 class variable"
      ]
    },
    {
      "cell_type": "code",
      "execution_count": 57,
      "metadata": {
        "colab": {
          "base_uri": "https://localhost:8080/"
        },
        "id": "7ORTiksdPX52",
        "outputId": "491f5a98-fc35-4e4c-d435-79e7b0d0136f"
      },
      "outputs": [
        {
          "data": {
            "text/plain": [
              "(4, 100)"
            ]
          },
          "execution_count": 57,
          "metadata": {},
          "output_type": "execute_result"
        }
      ],
      "source": [
        "jack.num_legs, jack.__class__.num_legs"
      ]
    },
    {
      "cell_type": "code",
      "execution_count": 58,
      "metadata": {
        "colab": {
          "base_uri": "https://localhost:8080/"
        },
        "id": "uCnlT9cBRVGZ",
        "outputId": "2c8df7fb-31cf-4ae9-ca3e-6acf5ab69b0a"
      },
      "outputs": [
        {
          "data": {
            "text/plain": [
              "100"
            ]
          },
          "execution_count": 58,
          "metadata": {},
          "output_type": "execute_result"
        }
      ],
      "source": [
        "Dog.num_legs"
      ]
    },
    {
      "cell_type": "markdown",
      "metadata": {
        "id": "WVaYDzf9Rj4Z"
      },
      "source": [
        "## A Dog-free Example\n",
        "以下內容我們不去傷害狗狗了，改為介紹在現實有用的例子  \n",
        "    \n",
        "每當建立新的 CountedObject instance，num_instances 變數就會+1"
      ]
    },
    {
      "cell_type": "code",
      "execution_count": 59,
      "metadata": {
        "id": "m7BuAqgwRk1z"
      },
      "outputs": [],
      "source": [
        "class CountedObject:\n",
        "  num_instances = 0\n",
        "  def __init__(self):\n",
        "    self.__class__.num_instances += 1"
      ]
    },
    {
      "cell_type": "code",
      "execution_count": 60,
      "metadata": {
        "colab": {
          "base_uri": "https://localhost:8080/"
        },
        "id": "4ESWJiqxVtc_",
        "outputId": "b8e025e9-509b-48fb-9dec-7eafaeceebcc"
      },
      "outputs": [
        {
          "data": {
            "text/plain": [
              "0"
            ]
          },
          "execution_count": 60,
          "metadata": {},
          "output_type": "execute_result"
        }
      ],
      "source": [
        "CountedObject.num_instances"
      ]
    },
    {
      "cell_type": "code",
      "execution_count": 61,
      "metadata": {
        "colab": {
          "base_uri": "https://localhost:8080/"
        },
        "id": "FRL-M56oVuMk",
        "outputId": "8a4a45a7-e1d5-4767-f18c-50b92d9beb45"
      },
      "outputs": [
        {
          "data": {
            "text/plain": [
              "1"
            ]
          },
          "execution_count": 61,
          "metadata": {},
          "output_type": "execute_result"
        }
      ],
      "source": [
        "CountedObject().num_instances"
      ]
    },
    {
      "cell_type": "code",
      "execution_count": 62,
      "metadata": {
        "colab": {
          "base_uri": "https://localhost:8080/"
        },
        "id": "TpPWkco4VwCt",
        "outputId": "d1f2a6dd-b930-40d6-bd19-96d93b93cdeb"
      },
      "outputs": [
        {
          "data": {
            "text/plain": [
              "2"
            ]
          },
          "execution_count": 62,
          "metadata": {},
          "output_type": "execute_result"
        }
      ],
      "source": [
        "CountedObject().num_instances"
      ]
    },
    {
      "cell_type": "markdown",
      "metadata": {
        "id": "QVcI7NlyWnyb"
      },
      "source": [
        "以下的範例是錯誤的例子，每建立一次實體， `self.num_instances` 就+1，  \n",
        "改動到的只是 instance 所建立的 shallow copy 而已"
      ]
    },
    {
      "cell_type": "code",
      "execution_count": 63,
      "metadata": {
        "id": "JQOtj6owV6yO"
      },
      "outputs": [],
      "source": [
        "# WARNING: This implementation contains a bug\n",
        "class BuggyCountedObject:\n",
        "  num_instances = 0\n",
        "  def __init__(self):\n",
        "    self.num_instances += 1 # without __class__"
      ]
    },
    {
      "cell_type": "code",
      "execution_count": 64,
      "metadata": {
        "colab": {
          "base_uri": "https://localhost:8080/"
        },
        "id": "8k31Mx3oWCdw",
        "outputId": "b3d4605c-bc18-4981-b4b8-ddc428e5cc0d"
      },
      "outputs": [
        {
          "data": {
            "text/plain": [
              "0"
            ]
          },
          "execution_count": 64,
          "metadata": {},
          "output_type": "execute_result"
        }
      ],
      "source": [
        "BuggyCountedObject.num_instances"
      ]
    },
    {
      "cell_type": "code",
      "execution_count": 65,
      "metadata": {
        "colab": {
          "base_uri": "https://localhost:8080/"
        },
        "id": "3KlvSLTYWDfN",
        "outputId": "b9bc38a6-3a40-4881-af1a-3bbeb0ae2025"
      },
      "outputs": [
        {
          "data": {
            "text/plain": [
              "1"
            ]
          },
          "execution_count": 65,
          "metadata": {},
          "output_type": "execute_result"
        }
      ],
      "source": [
        "BuggyCountedObject().num_instances"
      ]
    },
    {
      "cell_type": "code",
      "execution_count": 66,
      "metadata": {
        "colab": {
          "base_uri": "https://localhost:8080/"
        },
        "id": "rN9qtpXyWEEE",
        "outputId": "69a7091e-50f3-4b32-eb16-768e0e8ab532"
      },
      "outputs": [
        {
          "data": {
            "text/plain": [
              "1"
            ]
          },
          "execution_count": 66,
          "metadata": {},
          "output_type": "execute_result"
        }
      ],
      "source": [
        "BuggyCountedObject().num_instances"
      ]
    },
    {
      "cell_type": "markdown",
      "metadata": {
        "id": "Zlvelyr3XDbs"
      },
      "source": [
        "**Key Takeaways**\n",
        "+ Class variables are for data shared by all instances of a class.\n",
        "They belong to a class, not a specific instance and are shared among all instances of a class.\n",
        "+ Instance variables are for data that is unique to each instance.\n",
        "They belong to individual object instances and are not shared\n",
        "among the other instances of a class. Each instance variable\n",
        "gets a unique backing store specific to the instance.\n",
        "+ Because class variables can be “shadowed” by instance variables of the same name, it’s easy to (accidentally) override\n",
        "class variables in a way that introduces bugs and odd behavior."
      ]
    },
    {
      "cell_type": "markdown",
      "metadata": {
        "id": "txylEpOaXqS3"
      },
      "source": [
        "# 4.8 Instance, Class, and Static Methods Demystified\n",
        "In this chapter you’ll see what’s behind class methods, static methods,\n",
        "and regular instance methods in Python.\n",
        "  \n",
        "**Instance Methods** \n",
        "+ 最簡單且常用，self 指向 instance，可用來存取內部成員，也能透過 `self.__class__` 來修改 class\n",
        "\n",
        "**Class Methods**\n",
        "+ cls 參數指向 class(而不是 instance)，不能用來更改 object instance ，但能更改 class attribute\n",
        "\n",
        "**Static Methods**\n",
        "+ 沒有 cls 和 self，無法存取內部成員，只能用來處理外部輸入資料\n"
      ]
    },
    {
      "cell_type": "code",
      "execution_count": 67,
      "metadata": {
        "id": "O-x97FeJW_ds"
      },
      "outputs": [],
      "source": [
        "class MyClass:\n",
        "\n",
        "  def method(self):\n",
        "    return 'instance method called', self\n",
        "\n",
        "  @classmethod\n",
        "  def classmethod(cls):\n",
        "    return 'class method called', cls\n",
        "\n",
        "  @staticmethod\n",
        "  def staticmethod():\n",
        "    return 'static method called'"
      ]
    },
    {
      "cell_type": "markdown",
      "metadata": {
        "id": "6CWrtm1NNzQo"
      },
      "source": [
        "從 instance 層面呼叫"
      ]
    },
    {
      "cell_type": "code",
      "execution_count": 68,
      "metadata": {
        "colab": {
          "base_uri": "https://localhost:8080/"
        },
        "id": "XZIuF1WhH2j8",
        "outputId": "edb8aed3-051c-4a56-fc27-f7d58bb3f609"
      },
      "outputs": [
        {
          "data": {
            "text/plain": [
              "('instance method called', <__main__.MyClass at 0x7fe2d3c79c90>)"
            ]
          },
          "execution_count": 68,
          "metadata": {},
          "output_type": "execute_result"
        }
      ],
      "source": [
        "obj = MyClass()\n",
        "# 回傳 instance 實體位址\n",
        "obj.method() "
      ]
    },
    {
      "cell_type": "code",
      "execution_count": 69,
      "metadata": {
        "colab": {
          "base_uri": "https://localhost:8080/"
        },
        "id": "n2samt1qKXfe",
        "outputId": "2b3cc4bb-fe29-4ef9-bf17-0f7bda0c233b"
      },
      "outputs": [
        {
          "data": {
            "text/plain": [
              "('instance method called', <__main__.MyClass at 0x7fe2d3c79c90>)"
            ]
          },
          "execution_count": 69,
          "metadata": {},
          "output_type": "execute_result"
        }
      ],
      "source": [
        "# 這行做的事跟上面一樣，把 instance 本身當作第一個參數\n",
        "MyClass.method(obj)"
      ]
    },
    {
      "cell_type": "code",
      "execution_count": 70,
      "metadata": {
        "colab": {
          "base_uri": "https://localhost:8080/"
        },
        "id": "7VNRDic2H2mk",
        "outputId": "1388ebde-c812-4a4f-f725-f8f490fc61b0"
      },
      "outputs": [
        {
          "data": {
            "text/plain": [
              "('class method called', __main__.MyClass)"
            ]
          },
          "execution_count": 70,
          "metadata": {},
          "output_type": "execute_result"
        }
      ],
      "source": [
        "obj.classmethod() # 回傳 class 本身(class 也是一種 object)"
      ]
    },
    {
      "cell_type": "markdown",
      "metadata": {
        "id": "l_NhJLRHN15-"
      },
      "source": [
        "從 class 層面呼叫"
      ]
    },
    {
      "cell_type": "code",
      "execution_count": 71,
      "metadata": {
        "colab": {
          "base_uri": "https://localhost:8080/"
        },
        "id": "B7Y2fOA7Nv0Y",
        "outputId": "c6a7669c-b887-4124-f428-d30ae5c4ef95"
      },
      "outputs": [
        {
          "data": {
            "text/plain": [
              "('class method called', __main__.MyClass)"
            ]
          },
          "execution_count": 71,
          "metadata": {},
          "output_type": "execute_result"
        }
      ],
      "source": [
        "MyClass.classmethod()"
      ]
    },
    {
      "cell_type": "code",
      "execution_count": 72,
      "metadata": {
        "colab": {
          "base_uri": "https://localhost:8080/",
          "height": 35
        },
        "id": "-9X3KDcBN6kl",
        "outputId": "baa90724-0385-437d-81e8-0dee00446b84"
      },
      "outputs": [
        {
          "data": {
            "application/vnd.google.colaboratory.intrinsic+json": {
              "type": "string"
            },
            "text/plain": [
              "'static method called'"
            ]
          },
          "execution_count": 72,
          "metadata": {},
          "output_type": "execute_result"
        }
      ],
      "source": [
        "MyClass.staticmethod()"
      ]
    },
    {
      "cell_type": "code",
      "execution_count": 73,
      "metadata": {
        "id": "7BtT2Z3KKEwf"
      },
      "outputs": [],
      "source": [
        "# 第一個參數需要是 instance，因此不能執行\n",
        "# MyClass.method() "
      ]
    },
    {
      "cell_type": "markdown",
      "metadata": {
        "id": "pxV0ieeHORRi"
      },
      "source": [
        "## Delicious Pizza Factories With @classmethod\n",
        "以下將介紹更實用的情況，讓大家了解如何選擇 method 種類"
      ]
    },
    {
      "cell_type": "code",
      "execution_count": 74,
      "metadata": {
        "colab": {
          "base_uri": "https://localhost:8080/"
        },
        "id": "FpP0tv8uNg23",
        "outputId": "0513cbf6-cddd-4968-be8c-8ae6880eeb42"
      },
      "outputs": [
        {
          "data": {
            "text/plain": [
              "Pizza(['cheese', 'tomatoes'])"
            ]
          },
          "execution_count": 74,
          "metadata": {},
          "output_type": "execute_result"
        }
      ],
      "source": [
        "class Pizza:\n",
        "  def __init__(self, ingredients):\n",
        "    self.ingredients = ingredients\n",
        "  def __repr__(self):\n",
        "    return f'Pizza({self.ingredients!r})'\n",
        "\n",
        "Pizza(['cheese', 'tomatoes'])"
      ]
    },
    {
      "cell_type": "markdown",
      "metadata": {
        "id": "rsZ8jIaqOxG_"
      },
      "source": [
        "我們都知道隨著pizza配料不同，就會變成不同pizza  \n",
        "如果想要快速創建出不同口味的 pizza 呢?\n",
        "可以用 classmethod 作為 **factory\n",
        "functions** 來快速創建出不同口味的實體\n",
        "\n",
        "> from [wiki](https://en.wikipedia.org/wiki/Factory_(object-oriented_programming)):  \n",
        "In object-oriented programming (OOP), a factory is an object for creating other objects "
      ]
    },
    {
      "cell_type": "code",
      "execution_count": 75,
      "metadata": {
        "id": "p0JIG4cUOhAf"
      },
      "outputs": [],
      "source": [
        "class Pizza:\n",
        "  def __init__(self, ingredients):\n",
        "    self.ingredients = ingredients\n",
        "  \n",
        "  def __repr__(self):\n",
        "    return f'Pizza({self.ingredients!r})'\n",
        "  \n",
        "  @classmethod\n",
        "  def margherita(cls):\n",
        "    return cls(['mozzarella', 'tomatoes'])\n",
        "  \n",
        "  @classmethod\n",
        "  def prosciutto(cls):\n",
        "    return cls(['mozzarella', 'tomatoes', 'ham'])"
      ]
    },
    {
      "cell_type": "code",
      "execution_count": 76,
      "metadata": {
        "colab": {
          "base_uri": "https://localhost:8080/"
        },
        "id": "4ncDI7ZKRxO8",
        "outputId": "5ab7f6d5-98bb-4e21-8f8e-38adb416b544"
      },
      "outputs": [
        {
          "data": {
            "text/plain": [
              "Pizza(['mozzarella', 'tomatoes'])"
            ]
          },
          "execution_count": 76,
          "metadata": {},
          "output_type": "execute_result"
        }
      ],
      "source": [
        "Pizza.margherita()"
      ]
    },
    {
      "cell_type": "markdown",
      "metadata": {
        "id": "mIu6no0YR2CX"
      },
      "source": [
        "## When To Use Static Methods\n",
        "在呼叫 area() 時，透過 static method circle_area 來計算  \n",
        "circle_area 不能存取 cls 或是 self\n",
        "+ 明確表示這個 method 是可獨立運作的\n",
        "+ 避免修改到內部參數\n",
        "+ 方便撰寫測試程式"
      ]
    },
    {
      "cell_type": "code",
      "execution_count": 77,
      "metadata": {
        "id": "hamw-Oi8R22x"
      },
      "outputs": [],
      "source": [
        "import math\n",
        "\n",
        "class Pizza:\n",
        "  def __init__(self, radius, ingredients):\n",
        "    self.radius = radius\n",
        "    self.ingredients = ingredients\n",
        "  \n",
        "  def __repr__(self):\n",
        "    return (f'Pizza({self.radius!r}, '\n",
        "        f'{self.ingredients!r})')\n",
        "  \n",
        "  def area(self):\n",
        "    return self.circle_area(self.radius)\n",
        "\n",
        "  @staticmethod\n",
        "  def circle_area(r):\n",
        "    return r ** 2 * math.pi"
      ]
    },
    {
      "cell_type": "markdown",
      "metadata": {
        "id": "knH5yP19TX1u"
      },
      "source": [
        "**Key Takeaways**\n",
        "+ Instance methods need a class instance and can access the instance through self.\n",
        "+ Class methods don’t need a class instance. They can’t access the\n",
        "instance (self) but they have access to the class itself via cls.\n",
        "+ Static methods don’t have access to cls or self. They work like\n",
        "regular functions but belong to the class’ namespace.\n",
        "+ Static and class methods communicate and (to a certain degree)\n",
        "enforce developer intent about class design. This can have definite maintenance benefits."
      ]
    }
  ],
  "metadata": {
    "colab": {
      "collapsed_sections": [],
      "name": "CH.4 Classes & OOP.ipynb",
      "provenance": []
    },
    "kernelspec": {
      "display_name": "Python 3.8.10 64-bit (windows store)",
      "language": "python",
      "name": "python3"
    },
    "language_info": {
      "name": "python",
      "version": "3.8.10"
    },
    "vscode": {
      "interpreter": {
        "hash": "ae784ccfb18bd71bfbb468741712411e6f47c1f5c385b973a4a22dac7f04b551"
      }
    }
  },
  "nbformat": 4,
  "nbformat_minor": 0
}
