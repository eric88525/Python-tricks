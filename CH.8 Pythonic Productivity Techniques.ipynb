{
 "cells": [
  {
   "cell_type": "markdown",
   "metadata": {},
   "source": [
    "# Chapter 8 Pythonic Productivity Techniques"
   ]
  },
  {
   "cell_type": "markdown",
   "metadata": {},
   "source": [
    "# 8.1 Exploring Python Modules and Objects\n",
    "In this chapter you’ll learn two simple techniques you can use to explore Python classes and methods interactively from the interpreter."
   ]
  },
  {
   "cell_type": "markdown",
   "metadata": {},
   "source": [
    "想像一下你正在使用 datetime module，但又不知道有哪些功能可使用  \n",
    "你可以查詢官方文檔或是使用`dir()` 來查看"
   ]
  },
  {
   "cell_type": "code",
   "execution_count": 13,
   "metadata": {},
   "outputs": [
    {
     "data": {
      "text/plain": [
       "['MAXYEAR',\n",
       " 'MINYEAR',\n",
       " '__builtins__',\n",
       " '__cached__',\n",
       " '__doc__',\n",
       " '__file__',\n",
       " '__loader__',\n",
       " '__name__',\n",
       " '__package__',\n",
       " '__spec__',\n",
       " 'date',\n",
       " 'datetime',\n",
       " 'datetime_CAPI',\n",
       " 'sys',\n",
       " 'time',\n",
       " 'timedelta',\n",
       " 'timezone',\n",
       " 'tzinfo']"
      ]
     },
     "execution_count": 13,
     "metadata": {},
     "output_type": "execute_result"
    }
   ],
   "source": [
    "import datetime\n",
    "\n",
    "# dir() gives you a quick overview of what’s available\n",
    "# on a module or class.\n",
    "dir(datetime)"
   ]
  },
  {
   "cell_type": "markdown",
   "metadata": {},
   "source": [
    "但有時不需要看到這麼多資訊，能用以下方法篩選"
   ]
  },
  {
   "cell_type": "code",
   "execution_count": 14,
   "metadata": {},
   "outputs": [
    {
     "data": {
      "text/plain": [
       "['date', 'datetime', 'datetime_CAPI']"
      ]
     },
     "execution_count": 14,
     "metadata": {},
     "output_type": "execute_result"
    }
   ],
   "source": [
    "[_ for _ in dir(datetime) if 'date' in _.lower()]"
   ]
  },
  {
   "cell_type": "markdown",
   "metadata": {},
   "source": [
    "呼叫 `help()` 能看到詳細的說明文件"
   ]
  },
  {
   "cell_type": "code",
   "execution_count": 15,
   "metadata": {},
   "outputs": [],
   "source": [
    "# help(datetime)"
   ]
  },
  {
   "cell_type": "markdown",
   "metadata": {},
   "source": [
    "**Key Takeaways**\n",
    "+ Use the built-in dir() function to interactively explore Python\n",
    "modules and classes from an interpreter session.\n",
    "+ The help() built-in lets you browse through the documentation right from your interpreter (hit q to exit.)"
   ]
  },
  {
   "cell_type": "markdown",
   "metadata": {},
   "source": [
    "# 8.2 Isolating Project Dependencies With Virtualenv\n",
    "使用 pip 來安裝套件，預設安裝在 global 環境，如果套件多了起來那將會相當麻煩\n"
   ]
  },
  {
   "cell_type": "markdown",
   "metadata": {},
   "source": [
    "## Virtual Environments to the Rescue\n",
    "問題的解法將會是使用 virtual environments，這讓你能獨立出一個環境來安裝套件  \n",
    "  \n",
    "virtual environments 環境內的套件未必有實體檔案，多數時候是指向 global 的套件實體"
   ]
  },
  {
   "cell_type": "markdown",
   "metadata": {},
   "source": [
    "先來檢查 global 環境  \n",
    "  \n",
    "```\n",
    "$ which pip3\n",
    "/usr/local/bin/pip3\n",
    "```\n",
    "  \n",
    "建立 python virtual environment  \n",
    "  \n",
    "```\n",
    "$ python3 -m venv ./venv\n",
    "bin include lib pyvenv.cfg\n",
    "```\n",
    "  \n",
    "venv 底下的內容\n",
    "```\n",
    "$ ls venv/\n",
    "\n",
    "```\n",
    "  \n",
    "如果這時候檢查 pip3 在哪，仍然是在 global 環境，所以我們要啟動虛擬環境  \n",
    "進入虛擬環境後，pip3 位置就會變成當前資料夾，當前環境是沒有任何套件的\n",
    "```\n",
    "$ source ./venv/bin/activate\n",
    "$ which pip3\n",
    "/Users/dan/my-project/venv/bin/pip3\n",
    "$ which python\n",
    "/Users/dan/my-project/venv/bin/python\n",
    "```\n",
    "離開環境的指令  \n",
    "```\n",
    "$ deactivate\n",
    "```\n"
   ]
  },
  {
   "cell_type": "markdown",
   "metadata": {},
   "source": [
    "**Key Takeaways**\n",
    "+ Virtual environments keep your project dependencies separated. They help you avoid version conflicts between packages\n",
    "and different versions of the Python runtime.\n",
    "+ As a best practice, all of your Python projects should use virtual\n",
    "environments to store their dependencies. This will help avoid\n",
    "headaches."
   ]
  },
  {
   "cell_type": "markdown",
   "metadata": {},
   "source": [
    "# 8.3 Peeking Behind the Bytecode Curtain\n",
    "CPython interpreter 在執行程式時，會先把程式碼轉為 bytecode   \n",
    "  \n",
    "這種方式比起直接執行程式更有效率，原因是可以把一些複雜的 bytecode 快取起來，存放到 .pyc 和 .pyo 檔案，下此取用就會更快  \n",
    "  \n",
    "稍微了解一下 CPython 的運作機制能幫助寫出更有效率的程式碼"
   ]
  },
  {
   "cell_type": "code",
   "execution_count": 16,
   "metadata": {},
   "outputs": [],
   "source": [
    "def greet(name):\n",
    "    return 'Hello, ' + name + '!'"
   ]
  },
  {
   "cell_type": "markdown",
   "metadata": {},
   "source": [
    "可以用 `__code__` attribute 來觀看轉成 bytecode 的樣子\n",
    "+ co_code 是 function 本身\n",
    "+ 變數和常數則放在 co_consts 和 co_varnames"
   ]
  },
  {
   "cell_type": "code",
   "execution_count": 17,
   "metadata": {},
   "outputs": [
    {
     "data": {
      "text/plain": [
       "b'd\\x01|\\x00\\x17\\x00d\\x02\\x17\\x00S\\x00'"
      ]
     },
     "execution_count": 17,
     "metadata": {},
     "output_type": "execute_result"
    }
   ],
   "source": [
    "greet.__code__.co_code"
   ]
  },
  {
   "cell_type": "code",
   "execution_count": 18,
   "metadata": {},
   "outputs": [
    {
     "data": {
      "text/plain": [
       "(None, 'Hello, ', '!')"
      ]
     },
     "execution_count": 18,
     "metadata": {},
     "output_type": "execute_result"
    }
   ],
   "source": [
    "greet.__code__.co_consts"
   ]
  },
  {
   "cell_type": "code",
   "execution_count": 19,
   "metadata": {},
   "outputs": [
    {
     "data": {
      "text/plain": [
       "('name',)"
      ]
     },
     "execution_count": 19,
     "metadata": {},
     "output_type": "execute_result"
    }
   ],
   "source": [
    "greet.__code__.co_varnames"
   ]
  },
  {
   "cell_type": "markdown",
   "metadata": {},
   "source": [
    "但 co_code 不是給人類讀的，需要用 disassembler 來查看實際執行的 opcode  \n",
    "\n",
    "CPython’s virtual machine is an implementation of such a stack machine  \n",
    "1. 取得 co_consts[1] = 'Hello, ' 放入 stack  \n",
    "2. 接著取出 name 一樣放入 stack  \n",
    "3. 執行 BINARY_ADD 把 stack 最上面兩個元素相加後放回 stack"
   ]
  },
  {
   "cell_type": "code",
   "execution_count": 20,
   "metadata": {},
   "outputs": [
    {
     "name": "stdout",
     "output_type": "stream",
     "text": [
      "  2           0 LOAD_CONST               1 ('Hello, ')\n",
      "              2 LOAD_FAST                0 (name)\n",
      "              4 BINARY_ADD\n",
      "              6 LOAD_CONST               2 ('!')\n",
      "              8 BINARY_ADD\n",
      "             10 RETURN_VALUE\n"
     ]
    }
   ],
   "source": [
    "import dis\n",
    "dis.dis(greet)"
   ]
  },
  {
   "cell_type": "markdown",
   "metadata": {},
   "source": [
    "**Key Takeaways**\n",
    "+ CPython executes programs by first translating them into an intermediate bytecode and then running the bytecode on a stackbased virtual machine.\n",
    "+ You can use the built-in dis module to peek behind the scenes\n",
    "and inspect the bytecode.\n",
    "+ Study up on virtual machines—it’s worth it."
   ]
  }
 ],
 "metadata": {
  "kernelspec": {
   "display_name": "Python 3.8.10 64-bit",
   "language": "python",
   "name": "python3"
  },
  "language_info": {
   "codemirror_mode": {
    "name": "ipython",
    "version": 3
   },
   "file_extension": ".py",
   "mimetype": "text/x-python",
   "name": "python",
   "nbconvert_exporter": "python",
   "pygments_lexer": "ipython3",
   "version": "3.8.10"
  },
  "orig_nbformat": 4,
  "vscode": {
   "interpreter": {
    "hash": "916dbcbb3f70747c44a77c7bcd40155683ae19c65e1c03b4aa3499c5328201f1"
   }
  }
 },
 "nbformat": 4,
 "nbformat_minor": 2
}
