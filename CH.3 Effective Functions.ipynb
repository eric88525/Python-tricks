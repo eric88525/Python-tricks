{
  "cells": [
    {
      "cell_type": "markdown",
      "metadata": {
        "id": "JSKaCP2in4h9"
      },
      "source": [
        "# CH.3 Effective Functions\n"
      ]
    },
    {
      "cell_type": "markdown",
      "metadata": {
        "id": "eL_ZXeCiSSPc"
      },
      "source": [
        "\n",
        "# 3.1 Python function ares are fist class \n",
        "function 是一種 first-class (一級物件)，它可被指派給變數、用資料結構儲存、或是當作 argument 傳遞、甚至當作回傳值。"
      ]
    },
    {
      "cell_type": "code",
      "execution_count": 3,
      "metadata": {
        "id": "pAzm5o8YSSPe"
      },
      "outputs": [],
      "source": [
        "# This is just a toy function\n",
        "# add !!!!! after the input string\n",
        "def yell(text):\n",
        "  return text + '!!!!!'\n",
        "\n",
        "x = yell"
      ]
    },
    {
      "cell_type": "markdown",
      "metadata": {
        "id": "9L_gkbb0SSPf"
      },
      "source": [
        "## Functions Are Objects"
      ]
    },
    {
      "cell_type": "code",
      "execution_count": 4,
      "metadata": {
        "colab": {
          "base_uri": "https://localhost:8080/",
          "height": 35
        },
        "id": "SU8n_szRSSPf",
        "outputId": "a5a90bbd-784b-4ff6-e754-331b295a7c8d"
      },
      "outputs": [
        {
          "data": {
            "application/vnd.google.colaboratory.intrinsic+json": {
              "type": "string"
            },
            "text/plain": [
              "'woof!!!!!'"
            ]
          },
          "execution_count": 4,
          "metadata": {},
          "output_type": "execute_result"
        }
      ],
      "source": [
        "bark = yell\n",
        "bark('woof')"
      ]
    },
    {
      "cell_type": "markdown",
      "metadata": {
        "id": "bCL6SGTOSSPg"
      },
      "source": [
        "如果刪除原本的 yell，yell 不能再使用\n",
        "```python\n",
        ">>> del yell \n",
        "\n",
        ">>> yell('hi')\n",
        "NameError: \"name 'yell' is not defined\"\n",
        "```\n",
        "但 bark 仍舊指向 underlying function，還是能使用"
      ]
    },
    {
      "cell_type": "code",
      "execution_count": 5,
      "metadata": {
        "colab": {
          "base_uri": "https://localhost:8080/",
          "height": 35
        },
        "id": "2Zjo5Q3ZSSPg",
        "outputId": "f31a7de5-7cec-4d96-f25d-0b7dfd02f364"
      },
      "outputs": [
        {
          "data": {
            "application/vnd.google.colaboratory.intrinsic+json": {
              "type": "string"
            },
            "text/plain": [
              "'hi!!!!!'"
            ]
          },
          "execution_count": 5,
          "metadata": {},
          "output_type": "execute_result"
        }
      ],
      "source": [
        "del yell\n",
        "bark('hi')"
      ]
    },
    {
      "cell_type": "markdown",
      "metadata": {
        "id": "9l2PKN8uSSPg"
      },
      "source": [
        "可透過 `__name__` 來取得 python 給每個 function 的 string identifier\n",
        "+ function 本體跟指向他的變數 (yell 和 bark) 完全是兩回事"
      ]
    },
    {
      "cell_type": "code",
      "execution_count": 6,
      "metadata": {
        "colab": {
          "base_uri": "https://localhost:8080/",
          "height": 35
        },
        "id": "PrUSiv1fSSPh",
        "outputId": "010f03ab-444a-429e-81c4-de679c3c2f21"
      },
      "outputs": [
        {
          "data": {
            "application/vnd.google.colaboratory.intrinsic+json": {
              "type": "string"
            },
            "text/plain": [
              "'yell'"
            ]
          },
          "execution_count": 6,
          "metadata": {},
          "output_type": "execute_result"
        }
      ],
      "source": [
        "bark.__name__"
      ]
    },
    {
      "cell_type": "markdown",
      "metadata": {
        "id": "cW-MLPd2SSPh"
      },
      "source": [
        "## Functions Can Be Stored in Data Structures"
      ]
    },
    {
      "cell_type": "code",
      "execution_count": 7,
      "metadata": {
        "colab": {
          "base_uri": "https://localhost:8080/"
        },
        "id": "GmGiA1UJSSPi",
        "outputId": "e1ab989d-f213-42e0-8319-48502c566654"
      },
      "outputs": [
        {
          "data": {
            "text/plain": [
              "[<function __main__.yell>,\n",
              " <method 'lower' of 'str' objects>,\n",
              " <method 'capitalize' of 'str' objects>]"
            ]
          },
          "execution_count": 7,
          "metadata": {},
          "output_type": "execute_result"
        }
      ],
      "source": [
        "funcs = [bark, str.lower, str.capitalize]\n",
        "funcs"
      ]
    },
    {
      "cell_type": "markdown",
      "metadata": {
        "id": "pnmlcRGsSSPi"
      },
      "source": [
        "## Functions Can Be Passed to Other Functions\n",
        "可以接收其他 function 作為輸入的 function 叫做 `higher-order functions`"
      ]
    },
    {
      "cell_type": "code",
      "execution_count": 8,
      "metadata": {
        "id": "ZfqWa7foSSPi"
      },
      "outputs": [],
      "source": [
        "def greet(func):\n",
        "    greeting = func('Hi, I am a Python program')\n",
        "    print(greeting)"
      ]
    },
    {
      "cell_type": "code",
      "execution_count": 9,
      "metadata": {
        "colab": {
          "base_uri": "https://localhost:8080/"
        },
        "id": "WdAECt6QSSPi",
        "outputId": "836986ab-2031-4b30-b300-a7e42c55c004"
      },
      "outputs": [
        {
          "name": "stdout",
          "output_type": "stream",
          "text": [
            "Hi, I am a Python program!!!!!\n"
          ]
        }
      ],
      "source": [
        "greet(bark)"
      ]
    },
    {
      "cell_type": "markdown",
      "metadata": {
        "id": "8i6CB7vySSPj"
      },
      "source": [
        "最經典的例子，是 python 內建的 map\n",
        "+ It takes a function object and an iterable, and then\n",
        "calls the function on each element in the iterable, yielding the results\n",
        "as it goes along"
      ]
    },
    {
      "cell_type": "code",
      "execution_count": 10,
      "metadata": {
        "colab": {
          "base_uri": "https://localhost:8080/"
        },
        "id": "3zKaZCbuSSPj",
        "outputId": "380d717b-1179-41f6-f830-c05fa569d2c6"
      },
      "outputs": [
        {
          "data": {
            "text/plain": [
              "['hello!!!!!', 'hey!!!!!', 'hi!!!!!']"
            ]
          },
          "execution_count": 10,
          "metadata": {},
          "output_type": "execute_result"
        }
      ],
      "source": [
        "list(map(bark, ['hello', 'hey', 'hi']))"
      ]
    },
    {
      "cell_type": "markdown",
      "metadata": {
        "id": "GYmgYzcuSSPj"
      },
      "source": [
        "## Functions Can Be Nested (巢狀)\n",
        "以下的範例，在 speak 底下定義了 whisper function，並立即使用"
      ]
    },
    {
      "cell_type": "code",
      "execution_count": 11,
      "metadata": {
        "colab": {
          "base_uri": "https://localhost:8080/",
          "height": 35
        },
        "id": "nRqjx8eQSSPj",
        "outputId": "d08fd444-b25a-4f40-9ac3-75c93a220634"
      },
      "outputs": [
        {
          "data": {
            "application/vnd.google.colaboratory.intrinsic+json": {
              "type": "string"
            },
            "text/plain": [
              "'hello world...'"
            ]
          },
          "execution_count": 11,
          "metadata": {},
          "output_type": "execute_result"
        }
      ],
      "source": [
        "def speak(text):\n",
        "    def whisper(t):\n",
        "        return t.lower() + '...'\n",
        "    return whisper(text)\n",
        "\n",
        "speak('hello world')"
      ]
    },
    {
      "cell_type": "markdown",
      "metadata": {
        "id": "IpKCFcw9SSPj"
      },
      "source": [
        "但如果的很想要裡面的子 function，也可以把它給回傳出來 (因為 function 是一種 object)"
      ]
    },
    {
      "cell_type": "code",
      "execution_count": 12,
      "metadata": {
        "id": "zE9c9uf-SSPk"
      },
      "outputs": [],
      "source": [
        "def get_speak_func(volume):\n",
        "    def whisper(text):\n",
        "        return text.lower() + '...'\n",
        "    def yell(text):\n",
        "        return text.upper() + '!'\n",
        "    if volume > 0.5:\n",
        "        return yell\n",
        "    else:\n",
        "        return whisper"
      ]
    },
    {
      "cell_type": "markdown",
      "metadata": {
        "id": "4-0Sm2lySSPk"
      },
      "source": [
        "## Functions Can Capture Local State\n",
        "此時的 whisper() 和 yell() 沒有傳入引數了，但還是能抓到 text, volumn 變數  \n",
        "這是因為 lexical closures (closures) 特性，這兩個 function 會記住區域內的變數"
      ]
    },
    {
      "cell_type": "code",
      "execution_count": 13,
      "metadata": {
        "id": "N7EjrScPSSPk"
      },
      "outputs": [],
      "source": [
        "def get_speak_func(text, volume):\n",
        "    def whisper():\n",
        "        return text.lower() + '...'\n",
        "    def yell():\n",
        "        return text.upper() + '!'\n",
        "    if volume > 0.5:\n",
        "        return yell\n",
        "    else:\n",
        "        return whisper"
      ]
    },
    {
      "cell_type": "code",
      "execution_count": 14,
      "metadata": {
        "colab": {
          "base_uri": "https://localhost:8080/",
          "height": 35
        },
        "id": "3eu-eTrkSSPk",
        "outputId": "2ac3f3f5-6c01-454e-dbb1-162cebf5fe9c"
      },
      "outputs": [
        {
          "data": {
            "application/vnd.google.colaboratory.intrinsic+json": {
              "type": "string"
            },
            "text/plain": [
              "'HELLO, WORLD!'"
            ]
          },
          "execution_count": 14,
          "metadata": {},
          "output_type": "execute_result"
        }
      ],
      "source": [
        "get_speak_func('Hello, World', 0.7)()"
      ]
    },
    {
      "cell_type": "markdown",
      "metadata": {
        "id": "TPYNFMyWSSPk"
      },
      "source": [
        "## Objects Can Behave Like Functions\n",
        "如果想讓 oject 像是 function 一樣可以呼叫，請實作 `__call__()`"
      ]
    },
    {
      "cell_type": "code",
      "execution_count": 15,
      "metadata": {
        "colab": {
          "base_uri": "https://localhost:8080/"
        },
        "id": "rMI7QtTlSSPk",
        "outputId": "3cdf150b-8284-4790-b358-cdf117731cbe"
      },
      "outputs": [
        {
          "data": {
            "text/plain": [
              "7"
            ]
          },
          "execution_count": 15,
          "metadata": {},
          "output_type": "execute_result"
        }
      ],
      "source": [
        "class Adder:\n",
        "    def __init__(self, n):\n",
        "        self.n = n\n",
        "    def __call__(self, x):\n",
        "        return self.n + x\n",
        "\n",
        "plus_3 = Adder(3)\n",
        "plus_3(4)"
      ]
    },
    {
      "cell_type": "markdown",
      "metadata": {
        "id": "BKjqW2h8SSPl"
      },
      "source": [
        "**Key Takeaways**\n",
        "+ **Everything in Python is an object, including functions.** You can\n",
        "assign them to variables, store them in data structures, and pass\n",
        "or return them to and from other functions (first-class functions.)\n",
        "+ First-class functions allow you to abstract away and pass\n",
        "around behavior in your programs.\n",
        "+ Functions can be nested and they can capture and carry some\n",
        "of the parent function’s state with them. Functions that do this\n",
        "are called closures.\n",
        "+ Objects can be made callable. In many cases this allows you to\n",
        "treat them like functions.\n"
      ]
    },
    {
      "cell_type": "markdown",
      "metadata": {
        "id": "AQv6ES1fSSPl"
      },
      "source": [
        "# 3.2 Lambdas Are Single-Expression Functions\n",
        "\n",
        "lambda 語法在 python 中用於建立 small anonymous functions ，與 def 不同點在於\n",
        "+ 不用綁定 function name 就能使用\n",
        "+ 不能 return ，且只有一個 statement"
      ]
    },
    {
      "cell_type": "code",
      "execution_count": 16,
      "metadata": {
        "colab": {
          "base_uri": "https://localhost:8080/"
        },
        "id": "ToJF9ocoSSPl",
        "outputId": "680ee937-7d9b-49fa-fd22-1d8b4202da96"
      },
      "outputs": [
        {
          "data": {
            "text/plain": [
              "8"
            ]
          },
          "execution_count": 16,
          "metadata": {},
          "output_type": "execute_result"
        }
      ],
      "source": [
        "add = lambda x, y: x + y\n",
        "add(5, 3)"
      ]
    },
    {
      "cell_type": "markdown",
      "metadata": {
        "id": "OJysaMB6SSPl"
      },
      "source": [
        "還能這樣使用，定義了 lambda function 後傳入 (5, 3)"
      ]
    },
    {
      "cell_type": "code",
      "execution_count": 17,
      "metadata": {
        "colab": {
          "base_uri": "https://localhost:8080/"
        },
        "id": "c-Xu4PyqSSPl",
        "outputId": "d77ebbdd-0185-4776-9871-7f5e4d23eedf"
      },
      "outputs": [
        {
          "data": {
            "text/plain": [
              "8"
            ]
          },
          "execution_count": 17,
          "metadata": {},
          "output_type": "execute_result"
        }
      ],
      "source": [
        "(lambda x, y: x + y)(5, 3)"
      ]
    },
    {
      "cell_type": "markdown",
      "metadata": {
        "id": "pF2wuuT3SSPl"
      },
      "source": [
        "常見的 lambda 用法，用於回傳比較基準"
      ]
    },
    {
      "cell_type": "code",
      "execution_count": 18,
      "metadata": {
        "colab": {
          "base_uri": "https://localhost:8080/"
        },
        "id": "d4cVVlmeSSPl",
        "outputId": "49fa12b6-cdf7-4c18-e734-80f816eb467b"
      },
      "outputs": [
        {
          "data": {
            "text/plain": [
              "[(4, 'a'), (2, 'b'), (3, 'c'), (1, 'd')]"
            ]
          },
          "execution_count": 18,
          "metadata": {},
          "output_type": "execute_result"
        }
      ],
      "source": [
        "tuples = [(1, 'd'), (2, 'b'), (4, 'a'), (3, 'c')]\n",
        "sorted(tuples, key=lambda x: x[1])"
      ]
    },
    {
      "cell_type": "markdown",
      "metadata": {
        "id": "et4LLlKKSSPm"
      },
      "source": [
        "使用 lambda 要格外小心，謹慎思考後是否好維護  \n",
        "  \n",
        "以下是會讓夥伴扁你的程式碼\n",
        "```python\n",
        "# Harmful:\n",
        ">>> list(filter(lambda x: x % 2 == 0, range(16)))\n",
        "[0, 2, 4, 6, 8, 10, 12, 14]\n",
        "# Better:\n",
        ">>> [x for x in range(16) if x % 2 == 0]\n",
        "[0, 2, 4, 6, 8, 10, 12, 14]\n",
        "```\n",
        "\n",
        "```python\n",
        "# Harmful:\n",
        "class Car:\n",
        "    rev = lambda self: print('Wroom!')\n",
        "    crash = lambda self: print('Boom!')\n",
        "\n",
        ">> my_car = Car()\n",
        ">> my_car.crash()\n",
        "'Boom!'\n",
        "```\n",
        "\n",
        "**Key Takeaways**\n",
        "+ Lambda functions are single-expression functions that are not\n",
        "necessarily bound to a name (anonymous).\n",
        "+ Lambda functions can’t use regular Python statements and always include an implicit return statement.\n",
        "+ Always ask yourself: Would using a regular (named) function\n",
        "or a list comprehension offer more clarity?"
      ]
    },
    {
      "cell_type": "markdown",
      "metadata": {
        "id": "mv0ec7ZSSSPm"
      },
      "source": [
        "# 3.3 The Power of Decorators\n",
        "python decorators 可以在讓你不更改原本 object(functions, methods, and classes) 時延伸或改變其行為\n",
        "\n",
        "以下情況使用 decorator 會很方便\n",
        "+ logging\n",
        "+ enforcing access control and authentication\n",
        "+ instrumentation and timing functions\n",
        "+ rate-limiting\n",
        "+ caching, and more\n",
        "\n",
        "假如想幫 30 個 function 計時，不可能在每個 function 都加上計算時間的程式碼吧?\n",
        "+ 只要寫好 decorator，掛在 function 上面就好"
      ]
    },
    {
      "cell_type": "markdown",
      "metadata": {
        "id": "HNy6KSKeSSPm"
      },
      "source": [
        "## Python Decorator Basics\n",
        "\n",
        "decorator 的概念如下，如同在 funcion 外再包一層 function\n",
        "```python\n",
        "def null_decorator(func):\n",
        "    return func\n",
        "\n",
        "def greet():\n",
        "    return 'Hello!'\n",
        "\n",
        "greet = null_decorator(greet)\n",
        ">>> greet()\n",
        "'Hello!'\n",
        "\n",
        "# 作為 decorator 的使用方式\n",
        "@null_decorator\n",
        "def greet():\n",
        "    return 'Hello!'\n",
        "\n",
        "```"
      ]
    },
    {
      "cell_type": "markdown",
      "metadata": {
        "id": "buFUGt-YSSPm"
      },
      "source": [
        "## Decorators Can Modify Behavior\n",
        "uppercase 作為一個 decorator，將輸入 function 原本的結果轉成大寫後回傳"
      ]
    },
    {
      "cell_type": "code",
      "execution_count": 33,
      "metadata": {
        "colab": {
          "base_uri": "https://localhost:8080/",
          "height": 53
        },
        "id": "U77qt_c9SSPm",
        "outputId": "87e26cde-6ffb-46c9-9167-0cf29fb71418"
      },
      "outputs": [
        {
          "name": "stdout",
          "output_type": "stream",
          "text": [
            "wrapper at <function uppercase.<locals>.wrapper at 0x7f1ca2d5a200>\n"
          ]
        },
        {
          "data": {
            "application/vnd.google.colaboratory.intrinsic+json": {
              "type": "string"
            },
            "text/plain": [
              "'HELLO!'"
            ]
          },
          "execution_count": 33,
          "metadata": {},
          "output_type": "execute_result"
        }
      ],
      "source": [
        "# 回傳原本 function 的 decorator\n",
        "def null_decorator(func):\n",
        "    return func\n",
        "\n",
        "# 轉成大寫的 decorator\n",
        "def uppercase(func):\n",
        "    def wrapper():\n",
        "        original_result = func()\n",
        "        modified_result = original_result.upper()\n",
        "        return modified_result\n",
        "    print(f\"wrapper at {wrapper}\")\n",
        "    return wrapper\n",
        "\n",
        "@uppercase\n",
        "def greet():\n",
        "    return 'Hello!'\n",
        "\n",
        "greet()"
      ]
    },
    {
      "cell_type": "markdown",
      "metadata": {
        "id": "sr8H3y6zSuhY"
      },
      "source": [
        "**讓我們看看發生啥事情:**  \n",
        "我們的 uppercase decorator 回傳的並不是原本的 greet function  \n",
        "而是裡面的 wrapper function"
      ]
    },
    {
      "cell_type": "code",
      "execution_count": 34,
      "metadata": {
        "colab": {
          "base_uri": "https://localhost:8080/"
        },
        "id": "qgzfLaSxS1o_",
        "outputId": "dd9979ab-a882-4e99-e127-c8b265623ee7"
      },
      "outputs": [
        {
          "name": "stdout",
          "output_type": "stream",
          "text": [
            "<function uppercase.<locals>.wrapper at 0x7f1ca2d5a200>\n",
            "<function uppercase.<locals>.wrapper at 0x7f1ca2d5a200>\n",
            "wrapper at <function uppercase.<locals>.wrapper at 0x7f1ca2d5a710>\n",
            "<function uppercase.<locals>.wrapper at 0x7f1ca2d5a710>\n"
          ]
        }
      ],
      "source": [
        "print(greet)\n",
        "print(null_decorator(greet))\n",
        "\n",
        "print(uppercase(greet)) # 注意"
      ]
    },
    {
      "cell_type": "markdown",
      "metadata": {
        "id": "bnPDRgskUjyB"
      },
      "source": [
        "## Applying Multiple Decorators to a Function\n",
        "\n",
        "同時使用多個 decorator，他們的順序是 bottom to top  \n",
        "就像是你慢慢堆疊 (decorator stacking)，讓你的 function 越來越多功能"
      ]
    },
    {
      "cell_type": "code",
      "execution_count": 39,
      "metadata": {
        "id": "rgW_F-I1Un9p"
      },
      "outputs": [],
      "source": [
        "def strong(func):\n",
        "  def wrapper():\n",
        "    return '<strong>' + func() + '</strong>'\n",
        "  return wrapper\n",
        "\n",
        "def emphasis(func):\n",
        "  def wrapper():\n",
        "    return '<em>' + func() + '</em>'\n",
        "  return wrapper\n",
        "\n",
        "@strong\n",
        "@emphasis\n",
        "def greet():\n",
        "  return 'Hello!'"
      ]
    },
    {
      "cell_type": "code",
      "execution_count": 42,
      "metadata": {
        "colab": {
          "base_uri": "https://localhost:8080/",
          "height": 35
        },
        "id": "IfA7jEmgUtbJ",
        "outputId": "1f6ba0fe-0ec1-44a9-b233-a842edf8808f"
      },
      "outputs": [
        {
          "data": {
            "application/vnd.google.colaboratory.intrinsic+json": {
              "type": "string"
            },
            "text/plain": [
              "'<strong><em>Hello!</em></strong>'"
            ]
          },
          "execution_count": 42,
          "metadata": {},
          "output_type": "execute_result"
        }
      ],
      "source": [
        "# decorated_greet = strong(emphasis(greet))\n",
        "greet()"
      ]
    },
    {
      "cell_type": "markdown",
      "metadata": {
        "id": "gdQw50ogWECi"
      },
      "source": [
        "## Decorating Functions That Accept Arguments\n",
        "如果你把之前示範的 decorator ，套在有 argument 的 function 將無法執行\n",
        "```python\n",
        "@emphasis\n",
        "def apple(a, b):\n",
        "  return str(a+b)\n",
        "\n",
        ">>> apple(1,2)\n",
        ">>> TypeError: wrapper() takes 0 positional arguments but 2 were given\n",
        "```\n",
        "以下介紹能接收 arrguments 的 decorator，他的運作流程為:  \n",
        "\\* 接收 position argument 後存放在 args 變數內  \n",
        "\\** 接收 keyword argument 後存放在kwargs 變數內  \n",
        "wrapper closure 接著把這些變數傳遞到 func 上"
      ]
    },
    {
      "cell_type": "code",
      "execution_count": null,
      "metadata": {
        "id": "jBDIeNFAWDjT"
      },
      "outputs": [],
      "source": [
        "def proxy(func):\n",
        "  def wrapper(*args, **kwargs):\n",
        "    return func(*args, **kwargs)\n",
        "  return wrapper"
      ]
    },
    {
      "cell_type": "markdown",
      "metadata": {
        "id": "FpvirlVdY9mm"
      },
      "source": [
        "讓我們來看一下延伸應用，我們印出了 `func.__name__` ，並觀察原本 function 的輸出"
      ]
    },
    {
      "cell_type": "code",
      "execution_count": 60,
      "metadata": {
        "id": "6GO0cQjLY9uN"
      },
      "outputs": [],
      "source": [
        "def trace(func):\n",
        "  def wrapper(*args, **kwargs):\n",
        "    print(f'TRACE: calling {func.__name__}() '\n",
        "          f'with {args}, {kwargs}')\n",
        "    \n",
        "    original_result = func(*args, **kwargs)\n",
        "\n",
        "    print(f'TRACE: {func.__name__}() '\n",
        "          f'returned {original_result!r}') # !r 在字串左右加上 '\n",
        "    \n",
        "    return original_result\n",
        "\n",
        "  return wrapper"
      ]
    },
    {
      "cell_type": "code",
      "execution_count": 61,
      "metadata": {
        "colab": {
          "base_uri": "https://localhost:8080/",
          "height": 70
        },
        "id": "BWRf-a4efACc",
        "outputId": "f2638193-7f25-44d9-f9f6-793061c5ad7c"
      },
      "outputs": [
        {
          "name": "stdout",
          "output_type": "stream",
          "text": [
            "TRACE: calling say() with ('jame', 'bob'), {}\n",
            "TRACE: say() returned 'jame: bob'\n"
          ]
        },
        {
          "data": {
            "application/vnd.google.colaboratory.intrinsic+json": {
              "type": "string"
            },
            "text/plain": [
              "'jame: bob'"
            ]
          },
          "execution_count": 61,
          "metadata": {},
          "output_type": "execute_result"
        }
      ],
      "source": [
        "@trace\n",
        "def say(name, line):\n",
        "  return f'{name}: {line}'\n",
        "\n",
        "say('jame', 'bob')"
      ]
    },
    {
      "cell_type": "markdown",
      "metadata": {
        "id": "PQ5uzRcsgCdc"
      },
      "source": [
        "## How to Write “Debuggable” Decorators\n",
        "在一般 function，`__name__` 和 `__doc__`可以看到名稱和說明  \n",
        "但如果套上了 decorator 就只會看到 wrapper function 的名稱和說明"
      ]
    },
    {
      "cell_type": "code",
      "execution_count": 68,
      "metadata": {
        "colab": {
          "base_uri": "https://localhost:8080/"
        },
        "id": "qBuw9m4sgH8d",
        "outputId": "224f4278-a43e-4831-908c-c6f5459ebf85"
      },
      "outputs": [
        {
          "name": "stdout",
          "output_type": "stream",
          "text": [
            "wrapper at <function uppercase.<locals>.wrapper at 0x7f1c9ac90d40>\n"
          ]
        }
      ],
      "source": [
        "def greet():\n",
        "  \"\"\"Return a friendly greeting.\"\"\"\n",
        "  return 'Hello!'\n",
        "\n",
        "decorated_greet = uppercase(greet)"
      ]
    },
    {
      "cell_type": "code",
      "execution_count": 69,
      "metadata": {
        "colab": {
          "base_uri": "https://localhost:8080/"
        },
        "id": "euWvHYVagVbt",
        "outputId": "5446e8fc-f83b-4623-cd57-fe8431ee757b"
      },
      "outputs": [
        {
          "name": "stdout",
          "output_type": "stream",
          "text": [
            "greet\n",
            "Return a friendly greeting.\n",
            "wrapper\n",
            "None\n"
          ]
        }
      ],
      "source": [
        "print(greet.__name__)\n",
        "print(greet.__doc__)\n",
        "print(decorated_greet.__name__)\n",
        "print(decorated_greet.__doc__)"
      ]
    },
    {
      "cell_type": "markdown",
      "metadata": {
        "id": "PKYqNg0AmGEz"
      },
      "source": [
        "這在開發時會造成不方便，但我們能用  `functools.wraps` decorator 來解決此問題  \n",
        "因此建議在任何的 wrapper 都套上 `functools.wraps`"
      ]
    },
    {
      "cell_type": "code",
      "execution_count": 76,
      "metadata": {
        "id": "wFN-UbMVmX4D"
      },
      "outputs": [],
      "source": [
        "import functools\n",
        "\n",
        "# 將 wrapper 套上 decorator\n",
        "def uppercase(func):\n",
        "  @functools.wraps(func)\n",
        "  def wrapper():\n",
        "    return func().upper()\n",
        "  return wrapper\n",
        "\n",
        "@uppercase\n",
        "def greet():\n",
        "  \"\"\"Return a friendly greeting.\"\"\"\n",
        "  return 'Hello!'"
      ]
    },
    {
      "cell_type": "code",
      "execution_count": 77,
      "metadata": {
        "colab": {
          "base_uri": "https://localhost:8080/"
        },
        "id": "8yZUCQiZmcgD",
        "outputId": "8ab7ae6e-2b20-43f8-d3e1-eb25a008de59"
      },
      "outputs": [
        {
          "name": "stdout",
          "output_type": "stream",
          "text": [
            "greet\n",
            "Return a friendly greeting.\n"
          ]
        }
      ],
      "source": [
        "print(greet.__name__)\n",
        "print(greet.__doc__)"
      ]
    },
    {
      "cell_type": "markdown",
      "metadata": {
        "id": "-0cBhms0nQj8"
      },
      "source": [
        "**Key Takeaways**\n",
        "+ Decorators define reusable building blocks you can apply to a\n",
        "callable to modify its behavior without permanently modifying\n",
        "the callable itself.\n",
        "+ The @ syntax is just a shorthand for calling the decorator on\n",
        "an input function. Multiple decorators on a single function are\n",
        "applied bottom to top ( decorator stacking ).\n",
        "+ As a debugging best practice, use the `functools.wraps` helper\n",
        "in your own decorators to carry over metadata from the undec-\n",
        "orated callable to the decorated one.\n",
        "+ Just like any other tool in the software development toolbox,\n",
        "decorators are not a cure-all(萬靈丹) and they should not be overused.\n",
        "It’s important to balance the need to “get stuff done” with the\n",
        "goal of “not getting tangled up in a horrible, unmaintainable\n",
        "mess of a code base.”"
      ]
    },
    {
      "cell_type": "markdown",
      "metadata": {
        "id": "0LkJkINtnwsd"
      },
      "source": [
        "# 3.4 Fun With *args and **kwargs\n",
        "具有 \\*args 和 \\**kwargs 的 function 能接收 optional arguments，讓我們寫出靈活的 API  \n",
        "以下的範例至少需要一個 argument `required` ，但他同時能接收其他的 argument\n",
        "+ args 收集 position arguments\n",
        "+ kwargs 收集 keyword arguments\n",
        "\n",
        "```python\n",
        "def foo(required, *args, **kwargs):\n",
        "  print(required)\n",
        "  if args:\n",
        "    print(args)\n",
        "  if kwargs:\n",
        "    print(kwargs)\n",
        "    \n",
        ">>> foo()\n",
        "TypeError:\n",
        "\"foo() missing 1 required positional arg: 'required'\"\n",
        ">>> foo('hello')\n",
        "hello\n",
        ">>> foo('hello', 1, 2, 3)\n",
        "hello\n",
        "(1, 2, 3)\n",
        ">>> foo('hello', 1, 2, 3, key1='value', key2=999)\n",
        "hello\n",
        "(1, 2, 3)\n",
        "{'key1': 'value', 'key2': 999}\n",
        "```"
      ]
    },
    {
      "cell_type": "markdown",
      "metadata": {
        "id": "z4B5kN03p6in"
      },
      "source": [
        "## Forwarding Optional or Keyword Arguments\n",
        "\\*args 和 \\*\\*kwargs 可以傳遞或修改內容\n",
        "\n",
        "```python\n",
        "def foo(x, *args, **kwargs):\n",
        "  kwargs['name'] = 'Alice'\n",
        "  new_args = args + ('extra', )\n",
        "  bar(x, *new_args, **kwargs)\n",
        "```"
      ]
    },
    {
      "cell_type": "markdown",
      "metadata": {
        "id": "7c-qN4SWsY9x"
      },
      "source": [
        "這在建立 sub-class 時很有幫助，可以在不更改 child class constructor 下傳遞參數給 parent class  \n",
        "  \n",
        "AlwaysBlueCar 在建立時，傳遞了所有 argument 給 parent class ，並改寫 internal attribute  \n",
        "即使 parent class 改了 constructor，我們仍然能繼續使用"
      ]
    },
    {
      "cell_type": "code",
      "execution_count": 79,
      "metadata": {
        "id": "gUteJyXlsYap"
      },
      "outputs": [],
      "source": [
        "class Car:\n",
        "  def __init__(self, color, mileage):\n",
        "    self.color = color\n",
        "    self.mileage = mileage\n",
        "  \n",
        "class AlwaysBlueCar(Car):\n",
        "  def __init__(self, *args, **kwargs):\n",
        "    super().__init__(*args, **kwargs)\n",
        "    self.color = 'blue'"
      ]
    },
    {
      "cell_type": "code",
      "execution_count": 80,
      "metadata": {
        "colab": {
          "base_uri": "https://localhost:8080/",
          "height": 35
        },
        "id": "qXGVJNMcsiDa",
        "outputId": "71bbf5aa-171f-4811-e6fa-bfdbadfefc35"
      },
      "outputs": [
        {
          "data": {
            "application/vnd.google.colaboratory.intrinsic+json": {
              "type": "string"
            },
            "text/plain": [
              "'blue'"
            ]
          },
          "execution_count": 80,
          "metadata": {},
          "output_type": "execute_result"
        }
      ],
      "source": [
        "AlwaysBlueCar('green', 48392).color"
      ]
    },
    {
      "cell_type": "markdown",
      "metadata": {
        "id": "vYr3i8Ujwl0m"
      },
      "source": [
        "這也能幫助我們寫出更靈活的 decorator "
      ]
    },
    {
      "cell_type": "code",
      "execution_count": 82,
      "metadata": {
        "colab": {
          "base_uri": "https://localhost:8080/"
        },
        "id": "DMViu-L8wdIG",
        "outputId": "f13bd59b-41e9-4e2d-b1f9-ba0689f35152"
      },
      "outputs": [
        {
          "name": "stdout",
          "output_type": "stream",
          "text": [
            "<function greet at 0x7f1c9acc2b00> ('Hello', 'Bob') {}\n",
            "Hello, Bob!\n"
          ]
        }
      ],
      "source": [
        "def trace(f):\n",
        "  @functools.wraps(f)\n",
        "  def decorated_function(*args, **kwargs):\n",
        "    print(f, args, kwargs)\n",
        "    result = f(*args, **kwargs)\n",
        "    print(result)\n",
        "  return decorated_function\n",
        "\n",
        "@trace\n",
        "def greet(greeting, name):\n",
        "  return '{}, {}!'.format(greeting, name)\n",
        "  \n",
        "greet('Hello', 'Bob')"
      ]
    },
    {
      "cell_type": "markdown",
      "metadata": {
        "id": "Cd3hFA-sv2h2"
      },
      "source": [
        "**Key Takeaways**\n",
        "+ \\*args and \\*\\*kwargs let you write functions with a variable\n",
        "number of arguments in Python.\n",
        "+ \\*args collects extra positional arguments as a tuple. \\*\\*kwargs\n",
        "collects the extra keyword arguments as a dictionary.\n",
        "+ The actual syntax is \\* and \\*\\* . Calling them args and kwargs is\n",
        "just a convention (and one you should stick to)."
      ]
    },
    {
      "cell_type": "markdown",
      "metadata": {
        "id": "H23zd2sP0wOb"
      },
      "source": [
        "# 3.5 Function Argument Unpacking\n",
        "可以透過 \\* 和 \\** 符號來 unpack function argument "
      ]
    },
    {
      "cell_type": "code",
      "execution_count": 84,
      "metadata": {
        "colab": {
          "base_uri": "https://localhost:8080/"
        },
        "id": "_nNd5syR1SF7",
        "outputId": "2ee20e3d-c7d3-480f-8c3c-c94da578e3a5"
      },
      "outputs": [
        {
          "name": "stdout",
          "output_type": "stream",
          "text": [
            "<0, 1, 0>\n"
          ]
        }
      ],
      "source": [
        "def print_vector(x, y, z):\n",
        "  print('<%s, %s, %s>' % (x, y, z))\n",
        "\n",
        "print_vector(0, 1, 0)"
      ]
    },
    {
      "cell_type": "markdown",
      "metadata": {
        "id": "E71pNYss2nfN"
      },
      "source": [
        "但如果改變了輸入的格式，這樣使用會很不彈性"
      ]
    },
    {
      "cell_type": "code",
      "execution_count": 86,
      "metadata": {
        "colab": {
          "base_uri": "https://localhost:8080/"
        },
        "id": "dlofbREk1SIz",
        "outputId": "e03aa9dc-aeff-4d24-d89e-b62151ac347f"
      },
      "outputs": [
        {
          "name": "stdout",
          "output_type": "stream",
          "text": [
            "<1, 0, 1>\n"
          ]
        }
      ],
      "source": [
        "tuple_vec = (1, 0, 1)\n",
        "list_vec = [1, 0, 1]\n",
        "\n",
        "print_vector(tuple_vec[0], tuple_vec[1], tuple_vec[2])"
      ]
    },
    {
      "cell_type": "markdown",
      "metadata": {
        "id": "YQi-xaKc24Es"
      },
      "source": [
        "此時能透過 *Function Argument Unpacking* 來解決  \n",
        "把 \\* 符號放在 iterable 變數前面，就能作為 positional argument 傳遞  \n",
        "如果要 unpacking 字典類型則要用 \\*\\* 符號"
      ]
    },
    {
      "cell_type": "code",
      "execution_count": 87,
      "metadata": {
        "colab": {
          "base_uri": "https://localhost:8080/"
        },
        "id": "8rL3FFy71SLr",
        "outputId": "6fbe2b8a-ac49-4145-acf4-f5556e283726"
      },
      "outputs": [
        {
          "name": "stdout",
          "output_type": "stream",
          "text": [
            "<1, 0, 1>\n"
          ]
        }
      ],
      "source": [
        "print_vector(*tuple_vec)"
      ]
    },
    {
      "cell_type": "code",
      "execution_count": 88,
      "metadata": {
        "colab": {
          "base_uri": "https://localhost:8080/"
        },
        "id": "J5WvyT0d3wzD",
        "outputId": "7fa90f1e-149c-4364-ce58-32c9024fb258"
      },
      "outputs": [
        {
          "name": "stdout",
          "output_type": "stream",
          "text": [
            "<1, 0, 1>\n"
          ]
        }
      ],
      "source": [
        "dict_vec = {'y': 0, 'z': 1, 'x': 1}\n",
        "print_vector(**dict_vec)"
      ]
    },
    {
      "cell_type": "markdown",
      "metadata": {
        "id": "kvtTS7il321C"
      },
      "source": [
        "**Key Takeaways**\n",
        "+ The * and ** operators can be used to “unpack” function argu-\n",
        "ments from sequences and dictionaries.\n",
        "+ Using argument unpacking effectively can help you write more\n",
        "flexible interfaces for your modules and functions."
      ]
    },
    {
      "cell_type": "markdown",
      "metadata": {
        "id": "Qi8WuxMT39IK"
      },
      "source": [
        "# 3.6 Nothing to Return Here\n",
        "如果 function 沒指定 return 什麼東西，預設就是 None  \n",
        "作者建議如果沒 return value，那就把 return 給省略"
      ]
    },
    {
      "cell_type": "code",
      "execution_count": 89,
      "metadata": {
        "id": "cHU3LfI-3-u6"
      },
      "outputs": [],
      "source": [
        "def foo1(value):\n",
        "  if value:\n",
        "    return value\n",
        "  else:\n",
        "    return None\n",
        "\n",
        "\n",
        "def foo2(value):\n",
        "  \"\"\"Bare return statement implies `return None`\"\"\"\n",
        "  if value:\n",
        "    return value\n",
        "  else:\n",
        "    return\n",
        "\n",
        "def foo3(value):\n",
        "  \"\"\"Missing return statement implies `return None`\"\"\"\n",
        "  if value:\n",
        "    return value"
      ]
    },
    {
      "cell_type": "markdown",
      "metadata": {
        "id": "p6ameyIC6Cm6"
      },
      "source": [
        "**Key Takeaways**\n",
        "+ If a function doesn’t specify a return value, it returns None .\n",
        "Whether to explicitly return None is a stylistic decision.\n",
        "+ This is a core Python feature but your code might communicate\n",
        "its intent more clearly with an explicit return None statement."
      ]
    }
  ],
  "metadata": {
    "colab": {
      "collapsed_sections": [
        "eL_ZXeCiSSPc",
        "AQv6ES1fSSPl",
        "mv0ec7ZSSSPm"
      ],
      "name": "「CH.3 Effective Functions.ipynb」的副本",
      "provenance": []
    },
    "kernelspec": {
      "display_name": "Python 3.8.10 64-bit (windows store)",
      "language": "python",
      "name": "python3"
    },
    "language_info": {
      "codemirror_mode": {
        "name": "ipython",
        "version": 3
      },
      "file_extension": ".py",
      "mimetype": "text/x-python",
      "name": "python",
      "nbconvert_exporter": "python",
      "pygments_lexer": "ipython3",
      "version": "3.8.10"
    },
    "orig_nbformat": 4,
    "vscode": {
      "interpreter": {
        "hash": "ae784ccfb18bd71bfbb468741712411e6f47c1f5c385b973a4a22dac7f04b551"
      }
    }
  },
  "nbformat": 4,
  "nbformat_minor": 0
}
