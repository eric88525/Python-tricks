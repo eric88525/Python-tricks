{
  "nbformat": 4,
  "nbformat_minor": 0,
  "metadata": {
    "colab": {
      "name": "CH. 6 Looping & Iteration.ipynb",
      "provenance": [],
      "collapsed_sections": [],
      "authorship_tag": "ABX9TyMYHqm/egp+QiRCdZukv37N"
    },
    "kernelspec": {
      "name": "python3",
      "display_name": "Python 3"
    },
    "language_info": {
      "name": "python"
    }
  },
  "cells": [
    {
      "cell_type": "markdown",
      "source": [
        "# Chapter 6 Looping & Iteration"
      ],
      "metadata": {
        "id": "M5Z2kFh6YO2e"
      }
    },
    {
      "cell_type": "markdown",
      "source": [
        "# 6.1 Writing Pythonic Loops\n",
        "python 的迴圈和 c 語言寫法不同，這章節將講述如何寫出避免寫出 C-style loops  ，讓你的迴圈更 pythonic\n",
        "  \n",
        "以下範例就是經典的 C-style loops，用 i 當 index 及 len 來判斷該 iterate 幾次"
      ],
      "metadata": {
        "id": "lv4Zs9HHYLy4"
      }
    },
    {
      "cell_type": "code",
      "source": [
        "my_items = ['a', 'b', 'c']\n",
        "i = 0\n",
        "while i < len(my_items):\n",
        "  print(my_items[i])\n",
        "  i += 1"
      ],
      "metadata": {
        "colab": {
          "base_uri": "https://localhost:8080/"
        },
        "id": "KGUt_nX4YXdV",
        "outputId": "eca870f8-93d1-458e-f194-b5e1b871ebc4"
      },
      "execution_count": 1,
      "outputs": [
        {
          "output_type": "stream",
          "name": "stdout",
          "text": [
            "a\n",
            "b\n",
            "c\n"
          ]
        }
      ]
    },
    {
      "cell_type": "markdown",
      "source": [
        "pythonic 的寫法，將 i += 1 改成 range(len(_))"
      ],
      "metadata": {
        "id": "ulFEmqBDZO-o"
      }
    },
    {
      "cell_type": "code",
      "source": [
        "for i in range(len(my_items)):\n",
        "  print(my_items[i])\n",
        "\n",
        "# a better way to iter in python\n",
        "for item in my_items:\n",
        "  print(item)"
      ],
      "metadata": {
        "colab": {
          "base_uri": "https://localhost:8080/"
        },
        "id": "HD6Cwq-UZSij",
        "outputId": "5ac356e9-bd99-45f7-88ee-dbc1a63d3dc0"
      },
      "execution_count": 2,
      "outputs": [
        {
          "output_type": "stream",
          "name": "stdout",
          "text": [
            "a\n",
            "b\n",
            "c\n",
            "a\n",
            "b\n",
            "c\n"
          ]
        }
      ]
    },
    {
      "cell_type": "markdown",
      "source": [
        "如果真的需要 index"
      ],
      "metadata": {
        "id": "Zxz2FNT4Zun6"
      }
    },
    {
      "cell_type": "code",
      "source": [
        "for i, item in enumerate(my_items):\n",
        "  print(f\"{i}: {item}\")"
      ],
      "metadata": {
        "colab": {
          "base_uri": "https://localhost:8080/"
        },
        "id": "Nnp3xLcCZzjY",
        "outputId": "8808ae4e-8867-4a40-f019-3595ec6af023"
      },
      "execution_count": 3,
      "outputs": [
        {
          "output_type": "stream",
          "name": "stdout",
          "text": [
            "0: a\n",
            "1: b\n",
            "2: c\n"
          ]
        }
      ]
    },
    {
      "cell_type": "markdown",
      "source": [
        "用於 dictionary 的迴圈"
      ],
      "metadata": {
        "id": "6YjBNWrNcAhX"
      }
    },
    {
      "cell_type": "code",
      "source": [
        "emails = {\n",
        "  'Bob': 'bob@example.com',\n",
        "  'Alice': 'alice@example.com',\n",
        "}\n",
        "\n",
        "for name, email in emails.items():\n",
        "  print(f\"{name} - {email}\")"
      ],
      "metadata": {
        "colab": {
          "base_uri": "https://localhost:8080/"
        },
        "id": "OPu3XDFLZ6_p",
        "outputId": "e0b6465d-259d-4c99-e63a-4a37ac4488e7"
      },
      "execution_count": 4,
      "outputs": [
        {
          "output_type": "stream",
          "name": "stdout",
          "text": [
            "Bob - bob@example.com\n",
            "Alice - alice@example.com\n"
          ]
        }
      ]
    },
    {
      "cell_type": "markdown",
      "source": [
        "需要間隔的迴圈使用以下寫法\n",
        "\n",
        "```c\n",
        "// c\n",
        "for (i=0;i<10;i+=2){\n",
        "  // do something\n",
        "}\n",
        "```\n",
        "\n",
        "```python\n",
        "# python\n",
        "for i in range(0,10,2):\n",
        "  pass\n",
        "```"
      ],
      "metadata": {
        "id": "UL05VnbmcDbI"
      }
    },
    {
      "cell_type": "markdown",
      "source": [
        "**Key Takeaways**\n",
        "+ Writing C-style loops in Python is considered unpythonic.\n",
        "Avoid managing **loop indexes** and stop conditions manually if\n",
        "possible.\n",
        "+ Python’s for-loops are really “for-each” loops that can iterate\n",
        "directly over items from a container or sequence."
      ],
      "metadata": {
        "id": "-lSE2GbWkzm2"
      }
    },
    {
      "cell_type": "markdown",
      "source": [
        "# 6.2 Comprehending Comprehensions\n",
        "list comprehensions 譯作列表推導式，是用於創建 list / set 的方法  \n",
        "   \n",
        "其中一種方式為  \n",
        "```python\n",
        "values = [expression for item in collection]\n",
        "```"
      ],
      "metadata": {
        "id": "IaN3hVzbomix"
      }
    },
    {
      "cell_type": "code",
      "source": [
        "squares = [x * x for x in range(10)]\n",
        "\n",
        "# The above list comprehension is equal to following plain for-loop\n",
        "squares = []\n",
        "for x in range(10):\n",
        "  squares.append(x * x)"
      ],
      "metadata": {
        "id": "RBMZVkHBonUq"
      },
      "execution_count": 5,
      "outputs": []
    },
    {
      "cell_type": "markdown",
      "source": [
        "在 list comprehensions 加入判斷條件\n",
        "\n",
        "```python\n",
        "values = [expression\n",
        "  for item in collection\n",
        "    if condition]\n",
        "```"
      ],
      "metadata": {
        "id": "Al38H72B8UmH"
      }
    },
    {
      "cell_type": "code",
      "source": [
        "even_squares = [ x * x for x in range(10) if x % 2 == 0]"
      ],
      "metadata": {
        "id": "wef0PTx1cnoN"
      },
      "execution_count": 6,
      "outputs": []
    },
    {
      "cell_type": "markdown",
      "source": [
        "**Key Takeaways**\n",
        "+ Comprehensions are a key feature in Python. Understanding\n",
        "and applying them will make your code much more Pythonic.\n",
        "+ Comprehensions are just fancy syntactic sugar for a simple forloop pattern. Once you understand the pattern, you’ll develop\n",
        "an intuitive understanding for comprehensions.\n",
        "+ There are more than just list comprehensions."
      ],
      "metadata": {
        "id": "BP4OaYnr9Enh"
      }
    },
    {
      "cell_type": "markdown",
      "source": [
        "# 6.3 List Slicing Tricks and the Sushi Operator\n",
        "\n",
        "可用 slicing 符號來存取元素\n",
        "\n",
        "```python\n",
        "# syntax\n",
        "lst[start:end:step]\n",
        "```"
      ],
      "metadata": {
        "id": "sm2gjW_hBLnQ"
      }
    },
    {
      "cell_type": "code",
      "source": [
        "lst = [1, 2, 3, 4, 5]\n",
        "\n",
        "# lst[start:end:step]\n",
        "lst[1:3:1]"
      ],
      "metadata": {
        "colab": {
          "base_uri": "https://localhost:8080/"
        },
        "id": "zQKZ7t-IuAFF",
        "outputId": "b3088429-33ca-4e95-cd37-e6f816fa25a2"
      },
      "execution_count": 7,
      "outputs": [
        {
          "output_type": "execute_result",
          "data": {
            "text/plain": [
              "[2, 3]"
            ]
          },
          "metadata": {},
          "execution_count": 7
        }
      ]
    },
    {
      "cell_type": "markdown",
      "source": [
        "反轉 list"
      ],
      "metadata": {
        "id": "H9dpAp0mBqqQ"
      }
    },
    {
      "cell_type": "code",
      "source": [
        "lst[::-1]"
      ],
      "metadata": {
        "colab": {
          "base_uri": "https://localhost:8080/"
        },
        "id": "o9lJGqnuBuVE",
        "outputId": "091685da-c314-47cc-c894-eca2bcd2d370"
      },
      "execution_count": 8,
      "outputs": [
        {
          "output_type": "execute_result",
          "data": {
            "text/plain": [
              "[5, 4, 3, 2, 1]"
            ]
          },
          "metadata": {},
          "execution_count": 8
        }
      ]
    },
    {
      "cell_type": "markdown",
      "source": [
        "清空 list 內的所有內容，但是保留 list，跟 list.clear (python3 才有)是一樣的事情"
      ],
      "metadata": {
        "id": "YXCCqZ3wB1wv"
      }
    },
    {
      "cell_type": "code",
      "source": [
        "lst = [1,2,3,4,5]\n",
        "del lst[:]\n",
        "\n",
        "lst"
      ],
      "metadata": {
        "colab": {
          "base_uri": "https://localhost:8080/"
        },
        "id": "foHlngyiB5EY",
        "outputId": "95dafd7a-33b5-4fdb-8fda-3a9597b16ebb"
      },
      "execution_count": 9,
      "outputs": [
        {
          "output_type": "execute_result",
          "data": {
            "text/plain": [
              "[]"
            ]
          },
          "metadata": {},
          "execution_count": 9
        }
      ]
    },
    {
      "cell_type": "markdown",
      "source": [
        "slice 同樣也能用於內容替換"
      ],
      "metadata": {
        "id": "r72KqNnRFKgF"
      }
    },
    {
      "cell_type": "code",
      "source": [
        "original_lst = lst\n",
        "lst[:] =[7, 8, 9]\n",
        "\n",
        "print(lst)\n",
        "print(original_lst)\n",
        "print(original_lst is lst)"
      ],
      "metadata": {
        "colab": {
          "base_uri": "https://localhost:8080/"
        },
        "id": "C7PN9ZmOFNe0",
        "outputId": "1757c746-5baf-4158-abcb-0bb2b0830f80"
      },
      "execution_count": 10,
      "outputs": [
        {
          "output_type": "stream",
          "name": "stdout",
          "text": [
            "[7, 8, 9]\n",
            "[7, 8, 9]\n",
            "True\n"
          ]
        }
      ]
    },
    {
      "cell_type": "markdown",
      "source": [
        "如果用等號的話仍指向相同object，slice 符號能建立 list 的 shallow copy"
      ],
      "metadata": {
        "id": "4hfD8h2mFsBA"
      }
    },
    {
      "cell_type": "code",
      "source": [
        "copied_lst = lst[:]\n",
        "\n",
        "copied_lst is list"
      ],
      "metadata": {
        "colab": {
          "base_uri": "https://localhost:8080/"
        },
        "id": "pCkmFqYVFyz7",
        "outputId": "f8769e59-dba1-4f0d-bf13-dc9ccf5c6844"
      },
      "execution_count": 11,
      "outputs": [
        {
          "output_type": "execute_result",
          "data": {
            "text/plain": [
              "False"
            ]
          },
          "metadata": {},
          "execution_count": 11
        }
      ]
    },
    {
      "cell_type": "markdown",
      "source": [
        "**Key Takeaways**\n",
        "+ The : “sushi operator” is not only useful for selecting sublists\n",
        "of elements within a list. It can also be used to clear, reverse,\n",
        "and copy lists.\n",
        "+ But be careful—this functionality borders on the arcane for\n",
        "many Python developers. Using it might make your code less\n",
        "maintainable for everyone else on your team"
      ],
      "metadata": {
        "id": "0PW5DZ8KGIsU"
      }
    },
    {
      "cell_type": "markdown",
      "source": [
        "# 6.4 Beautiful Iterators\n",
        "python iterator protocol:  只要實作 \\_\\_iter\\_\\_ and \\_\\_next\\_\\_ dunder 就能讓 class 在 for-loop 運作"
      ],
      "metadata": {
        "id": "5B7oDqs9GMgr"
      }
    },
    {
      "cell_type": "markdown",
      "source": [
        "## Iterating Forever\n",
        "這是一個會無限印出 hello 的程式碼"
      ],
      "metadata": {
        "id": "QgBrPa8B3uKL"
      }
    },
    {
      "cell_type": "code",
      "source": [
        "class RepeaterIterator:\n",
        "  def __init__(self, source):\n",
        "    self.source = source\n",
        "  def __next__(self):\n",
        "    return self.source.value"
      ],
      "metadata": {
        "id": "1CHcqA-t36hT"
      },
      "execution_count": 12,
      "outputs": []
    },
    {
      "cell_type": "code",
      "source": [
        "class Repeater:\n",
        "  def __init__(self, value):\n",
        "    self.value = value\n",
        "  \n",
        "  def __iter__(self):\n",
        "    return RepeaterIterator(self)"
      ],
      "metadata": {
        "id": "rrCvICX236mL"
      },
      "execution_count": 13,
      "outputs": []
    },
    {
      "cell_type": "code",
      "source": [
        "repeater = Repeater('Hello')\n",
        "\n",
        "for i, item in enumerate(repeater): # 呼叫 repeater.__iter__() 取得 iterator\n",
        "  # item = iterable_object.__next__()\n",
        "  if i>10:\n",
        "    break\n",
        "  print(i, item)\n",
        "  "
      ],
      "metadata": {
        "colab": {
          "base_uri": "https://localhost:8080/"
        },
        "id": "t-5tbVYsGjbz",
        "outputId": "f8757c29-3b4d-493a-a4b7-41f220e03d71"
      },
      "execution_count": 14,
      "outputs": [
        {
          "output_type": "stream",
          "name": "stdout",
          "text": [
            "0 Hello\n",
            "1 Hello\n",
            "2 Hello\n",
            "3 Hello\n",
            "4 Hello\n",
            "5 Hello\n",
            "6 Hello\n",
            "7 Hello\n",
            "8 Hello\n",
            "9 Hello\n",
            "10 Hello\n"
          ]
        }
      ]
    },
    {
      "cell_type": "markdown",
      "source": [
        "程式碼背後的運作\n",
        "+ 呼叫 `__iter__()` 來準備 iteration 所需要的 iterator object\n",
        "+ 在每次的 loop，呼叫 iterator object 的 `__next__()` 來取得下一個數值"
      ],
      "metadata": {
        "id": "fEs9jRy8pGSJ"
      }
    },
    {
      "cell_type": "code",
      "source": [
        "repeater = Repeater('Hello')\n",
        "iterator = repeater.__iter__()\n",
        "\n",
        "i=0\n",
        "while True:\n",
        "  item = iterator.__next__()\n",
        "  print(item)\n",
        "  \n",
        "  if i == 10:\n",
        "    break\n",
        "  i += 1"
      ],
      "metadata": {
        "id": "Tvnm5BUgGN56",
        "colab": {
          "base_uri": "https://localhost:8080/"
        },
        "outputId": "bb9c80d8-a215-4bc0-83c7-b8587ffe272a"
      },
      "execution_count": 15,
      "outputs": [
        {
          "output_type": "stream",
          "name": "stdout",
          "text": [
            "Hello\n",
            "Hello\n",
            "Hello\n",
            "Hello\n",
            "Hello\n",
            "Hello\n",
            "Hello\n",
            "Hello\n",
            "Hello\n",
            "Hello\n",
            "Hello\n"
          ]
        }
      ]
    },
    {
      "cell_type": "markdown",
      "source": [
        "你也可以模仿 loop 迴圈所做的事情來印出內容物"
      ],
      "metadata": {
        "id": "dFY6KBUVyYGA"
      }
    },
    {
      "cell_type": "code",
      "source": [
        "repeater = Repeater('Hello')\n",
        "iterator = iter(repeater)\n",
        "\n",
        "next(iterator)"
      ],
      "metadata": {
        "colab": {
          "base_uri": "https://localhost:8080/",
          "height": 36
        },
        "id": "0r6jgbRJyS1k",
        "outputId": "32357f64-1c03-4cc6-ab3a-cdc942da8d3a"
      },
      "execution_count": 16,
      "outputs": [
        {
          "output_type": "execute_result",
          "data": {
            "text/plain": [
              "'Hello'"
            ],
            "application/vnd.google.colaboratory.intrinsic+json": {
              "type": "string"
            }
          },
          "metadata": {},
          "execution_count": 16
        }
      ]
    },
    {
      "cell_type": "markdown",
      "source": [
        "## A Simpler Iterator Class\n",
        "我們的範例中包含了兩個物件 Reperter 和 RepeaterIterator，他們對應到 python 的兩個 iterator 機制。\n",
        "+ 透過 `iter()` 取得 iterator object\n",
        "+ 在迴圈重複呼叫 `next()` 取值\n",
        "\n",
        "在多數情況其實可以寫成同一個 class 來減少程式碼"
      ],
      "metadata": {
        "id": "PzSDFihEym7B"
      }
    },
    {
      "cell_type": "code",
      "source": [
        "class Repeater:\n",
        "  def __init__(self, value):\n",
        "    self.value = value\n",
        "  \n",
        "  def __iter__(self):\n",
        "    return self\n",
        "  \n",
        "  def __next__(self):\n",
        "    return self.value"
      ],
      "metadata": {
        "id": "HNryas4Zynfz"
      },
      "execution_count": 17,
      "outputs": []
    },
    {
      "cell_type": "markdown",
      "source": [
        "## Who Wants to Iterate Forever\n",
        "無限迴圈的 iterator 並不實用，我們希望設計出能離開迴圈的 iterator，  \n",
        "以下的 my_list 在印出內容後會 raise stop StopIteration ，這是 python 用於告知跳離迴圈的方式\n"
      ],
      "metadata": {
        "id": "j1IAEIGq6tce"
      }
    },
    {
      "cell_type": "code",
      "source": [
        "my_list = [1, 2, 3]\n",
        "\n",
        "iterator = iter(my_list)\n",
        "\n",
        "next(iterator)\n",
        "next(iterator)\n",
        "next(iterator)\n",
        "\n",
        "# StopIteration \n",
        "# next(iterator)"
      ],
      "metadata": {
        "colab": {
          "base_uri": "https://localhost:8080/"
        },
        "id": "Ruf5nk3I2AAi",
        "outputId": "72f1459c-b01b-45a7-9373-2c7377928bad"
      },
      "execution_count": 18,
      "outputs": [
        {
          "output_type": "execute_result",
          "data": {
            "text/plain": [
              "3"
            ]
          },
          "metadata": {},
          "execution_count": 18
        }
      ]
    },
    {
      "cell_type": "markdown",
      "source": [
        "於是有了以下的實作，執行達到 max_repeats 次數後 raise StopIteration "
      ],
      "metadata": {
        "id": "IKzN3zAq7_6O"
      }
    },
    {
      "cell_type": "code",
      "source": [
        "class BoundedRepeater:\n",
        "  def __init__(self, value, max_repeats):\n",
        "    self.value = value\n",
        "    self.max_repeats = max_repeats\n",
        "    self.count = 0\n",
        "\n",
        "  def __iter__(self):\n",
        "    return self\n",
        "    \n",
        "  def __next__(self):\n",
        "    if self.count >= self.max_repeats:\n",
        "      raise StopIteration\n",
        "    self.count += 1\n",
        "    return self.value"
      ],
      "metadata": {
        "id": "5CRx4KbKyniO"
      },
      "execution_count": 19,
      "outputs": []
    },
    {
      "cell_type": "code",
      "source": [
        "repeater = BoundedRepeater('hello', 3)\n",
        "\n",
        "for item in repeater:\n",
        "  print(item)"
      ],
      "metadata": {
        "colab": {
          "base_uri": "https://localhost:8080/"
        },
        "id": "5AT7W5iv9DAB",
        "outputId": "a1f48679-bc35-473d-82b6-196fc984082e"
      },
      "execution_count": 20,
      "outputs": [
        {
          "output_type": "stream",
          "name": "stdout",
          "text": [
            "hello\n",
            "hello\n",
            "hello\n"
          ]
        }
      ]
    },
    {
      "cell_type": "markdown",
      "source": [
        "**Key Takeaways**\n",
        "+ Iterators provide a sequence interface to Python objects that’s\n",
        "memory efficient and considered Pythonic. Behold the beauty\n",
        "of the for-in loop!\n",
        "+ To support iteration an object needs to implement the iterator protocol by providing the \\_\\_iter\\_\\_ and \\_\\_next\\_\\_ dunder\n",
        "methods.\n",
        "+ Class-based iterators are only one way to write iterable objects\n",
        "in Python. Also consider generators and generator expressions."
      ],
      "metadata": {
        "id": "eRT00X1990X1"
      }
    },
    {
      "cell_type": "markdown",
      "source": [
        "# 6.5 Generators Are Simplified Iterators\n",
        "如果你認為寫一堆的程式碼，就是為了重複輸出一句話有點大材小用，那麼 **generator** 將會是你的好夥伴\n"
      ],
      "metadata": {
        "id": "SwIvSXy1-AyO"
      }
    },
    {
      "cell_type": "code",
      "source": [
        "def repeater(value):\n",
        "  while True:\n",
        "    yield value"
      ],
      "metadata": {
        "id": "NkNZp7N-G_-w"
      },
      "execution_count": 21,
      "outputs": []
    },
    {
      "cell_type": "code",
      "source": [
        "i=0\n",
        "for x in repeater('Hi'):\n",
        "  print(x)\n",
        "  if i == 10:\n",
        "    break\n",
        "  i += 1"
      ],
      "metadata": {
        "colab": {
          "base_uri": "https://localhost:8080/"
        },
        "id": "ejK2u68dHAFf",
        "outputId": "b0bbddce-e3ac-4387-9e9a-3a6635ce416a"
      },
      "execution_count": 22,
      "outputs": [
        {
          "output_type": "stream",
          "name": "stdout",
          "text": [
            "Hi\n",
            "Hi\n",
            "Hi\n",
            "Hi\n",
            "Hi\n",
            "Hi\n",
            "Hi\n",
            "Hi\n",
            "Hi\n",
            "Hi\n",
            "Hi\n"
          ]
        }
      ]
    },
    {
      "cell_type": "markdown",
      "source": [
        "呼叫 repeater function ，實際上是建立並回傳了一個 generator object"
      ],
      "metadata": {
        "id": "sXyON8GwIYbU"
      }
    },
    {
      "cell_type": "code",
      "source": [
        "repeater('key')"
      ],
      "metadata": {
        "colab": {
          "base_uri": "https://localhost:8080/"
        },
        "id": "yGIq5FE-IZRC",
        "outputId": "0ac0913f-9e51-4e08-ee93-ef224da1a981"
      },
      "execution_count": 23,
      "outputs": [
        {
          "output_type": "execute_result",
          "data": {
            "text/plain": [
              "<generator object repeater at 0x7f52ab14d4d0>"
            ]
          },
          "metadata": {},
          "execution_count": 23
        }
      ]
    },
    {
      "cell_type": "markdown",
      "source": [
        "yield 的作用是暫停 function ，保留 local state 並回傳數值  \n",
        "隨時都能呼叫 `next` 來取得下一個狀態，這也使得 generator 符合 iterator protocal"
      ],
      "metadata": {
        "id": "m3D8GLWkJ66t"
      }
    },
    {
      "cell_type": "code",
      "source": [
        "iterator = repeater('Hi')\n",
        "next(iterator)"
      ],
      "metadata": {
        "colab": {
          "base_uri": "https://localhost:8080/",
          "height": 36
        },
        "id": "a1TSFZA8KLVR",
        "outputId": "98d4cec5-0280-4ce0-d095-1f322ef368d9"
      },
      "execution_count": 24,
      "outputs": [
        {
          "output_type": "execute_result",
          "data": {
            "text/plain": [
              "'Hi'"
            ],
            "application/vnd.google.colaboratory.intrinsic+json": {
              "type": "string"
            }
          },
          "metadata": {},
          "execution_count": 24
        }
      ]
    },
    {
      "cell_type": "markdown",
      "source": [
        "## Generators That Stop Generating\n",
        "讓我們來看一下把 while True 去掉會發生甚麼事情  \n",
        "+ 在每次的 yield 都會暫停狀態並回傳 local state，接著往下繼續執行"
      ],
      "metadata": {
        "id": "TpLzoRLGKeK3"
      }
    },
    {
      "cell_type": "code",
      "source": [
        "def repeat_three_times(value):\n",
        "  yield value\n",
        "  yield value\n",
        "  yield value"
      ],
      "metadata": {
        "id": "8OU4245DKi-X"
      },
      "execution_count": 25,
      "outputs": []
    },
    {
      "cell_type": "code",
      "source": [
        "for x in repeat_three_times('hello'):\n",
        "  print(x)"
      ],
      "metadata": {
        "colab": {
          "base_uri": "https://localhost:8080/"
        },
        "id": "XeMBNA8gLj3-",
        "outputId": "47b981b7-ba75-4186-cd6a-59b2c80ba761"
      },
      "execution_count": 26,
      "outputs": [
        {
          "output_type": "stream",
          "name": "stdout",
          "text": [
            "hello\n",
            "hello\n",
            "hello\n"
          ]
        }
      ]
    },
    {
      "cell_type": "markdown",
      "source": [
        "從範例得知，只要 function 結束就會終止迴圈  \n"
      ],
      "metadata": {
        "id": "BHyjbCbiZba6"
      }
    },
    {
      "cell_type": "code",
      "source": [
        "iterator = repeat_three_times('hello')\n",
        "next(iterator)\n",
        "next(iterator)\n",
        "next(iterator)\n",
        "\n",
        "# StopIteration\n",
        "# next(iterator)"
      ],
      "metadata": {
        "colab": {
          "base_uri": "https://localhost:8080/",
          "height": 36
        },
        "id": "GHc3qSHlWkOs",
        "outputId": "1ce3013f-be5d-4e19-fc11-3be0da880606"
      },
      "execution_count": 27,
      "outputs": [
        {
          "output_type": "execute_result",
          "data": {
            "text/plain": [
              "'hello'"
            ],
            "application/vnd.google.colaboratory.intrinsic+json": {
              "type": "string"
            }
          },
          "metadata": {},
          "execution_count": 27
        }
      ]
    },
    {
      "cell_type": "markdown",
      "source": [
        "我們能進一步把程式碼改進，超過次數就結束 function 停止迴圈"
      ],
      "metadata": {
        "id": "CknN3xZpZ82L"
      }
    },
    {
      "cell_type": "code",
      "source": [
        "def bounded_repeater(value, max_repeats):\n",
        "  for i in range(max_repeats):\n",
        "    yield value"
      ],
      "metadata": {
        "id": "2_ZB6h2UWkW6"
      },
      "execution_count": 28,
      "outputs": []
    },
    {
      "cell_type": "markdown",
      "source": [
        "**Key Takeaways**\n",
        "+ Generator functions are **syntactic sugar** for writing objects that\n",
        "support the iterator protocol. Generators abstract away much\n",
        "of the boilerplate code needed when writing class-based iterators.\n",
        "+ The yield statement allows you to temporarily suspend execution of a generator function and to pass back values from it.\n",
        "+ Generators start raising StopIteration exceptions after control flow leaves the generator function by any means other than\n",
        "a yield statement.\n"
      ],
      "metadata": {
        "id": "qjmHR7RUZ_vg"
      }
    },
    {
      "cell_type": "markdown",
      "source": [
        "# 6.6 Generator Expressions\n",
        "Generator expressions give you an even more **effective shortcut** for\n",
        "writing iterators. With a simple and concise syntax that looks like a\n",
        "list comprehension, you’ll be able to define iterators in a **single line** of\n",
        "code  \n"
      ],
      "metadata": {
        "id": "t2opvPm8dvrd"
      }
    },
    {
      "cell_type": "markdown",
      "source": [
        "以下的一行程式碼能直接取代第二個範例，感受到 generator expressions 的強大了嗎"
      ],
      "metadata": {
        "id": "4JCaHzZzpy5B"
      }
    },
    {
      "cell_type": "code",
      "source": [
        "iterator = ('hello' for i in range(3))"
      ],
      "metadata": {
        "id": "1lUfbdChZ0nl"
      },
      "execution_count": 29,
      "outputs": []
    },
    {
      "cell_type": "code",
      "source": [
        "def bounded_repeater(value, max_repeats):\n",
        "  for i in range(max_repeats):\n",
        "    yield value\n",
        "iterator = bounded_repeater('Hello', 3)"
      ],
      "metadata": {
        "id": "8s4pIPZopjsu"
      },
      "execution_count": 30,
      "outputs": []
    },
    {
      "cell_type": "markdown",
      "source": [
        "## Generator Expressions vs List Comprehensions\n",
        "generator object 跟 list 的創建手法非常相近，但他們是不同的東西  \n",
        "\n",
        "```python\n",
        "genexpr = (expression for item in collection)\n",
        "```\n",
        "上面的 template 對應到 generator function\n",
        "```python\n",
        "def generator():\n",
        "  for item in collection:\n",
        "    yield expression\n",
        "```"
      ],
      "metadata": {
        "id": "q8HclduUp6kf"
      }
    },
    {
      "cell_type": "code",
      "source": [
        "listcomp = ['Hello' for i in range(3)]\n",
        "genexpr = ('Hello' for i in range(3))"
      ],
      "metadata": {
        "id": "LzGy5SLFp7Of"
      },
      "execution_count": 31,
      "outputs": []
    },
    {
      "cell_type": "code",
      "source": [
        "listcomp"
      ],
      "metadata": {
        "colab": {
          "base_uri": "https://localhost:8080/"
        },
        "id": "zW8F-6H3rjoY",
        "outputId": "e6656248-e14b-436b-9e67-6ea5ff7121c7"
      },
      "execution_count": 32,
      "outputs": [
        {
          "output_type": "execute_result",
          "data": {
            "text/plain": [
              "['Hello', 'Hello', 'Hello']"
            ]
          },
          "metadata": {},
          "execution_count": 32
        }
      ]
    },
    {
      "cell_type": "code",
      "source": [
        "iterator"
      ],
      "metadata": {
        "colab": {
          "base_uri": "https://localhost:8080/"
        },
        "id": "ONfvXt00rjDj",
        "outputId": "6a3585c7-2f58-4922-8ac1-b1edee280984"
      },
      "execution_count": 33,
      "outputs": [
        {
          "output_type": "execute_result",
          "data": {
            "text/plain": [
              "<generator object bounded_repeater at 0x7f52ab14d750>"
            ]
          },
          "metadata": {},
          "execution_count": 33
        }
      ]
    },
    {
      "cell_type": "markdown",
      "source": [
        "generator object 能轉換成 list"
      ],
      "metadata": {
        "id": "cGQwY7-MrwzB"
      }
    },
    {
      "cell_type": "code",
      "source": [
        "list(iterator)"
      ],
      "metadata": {
        "colab": {
          "base_uri": "https://localhost:8080/"
        },
        "id": "uewHslZNrw5H",
        "outputId": "745ff56d-9088-416b-9b49-9322dfb0dd16"
      },
      "execution_count": 34,
      "outputs": [
        {
          "output_type": "execute_result",
          "data": {
            "text/plain": [
              "['Hello', 'Hello', 'Hello']"
            ]
          },
          "metadata": {},
          "execution_count": 34
        }
      ]
    },
    {
      "cell_type": "markdown",
      "source": [
        "## Filtering Values\n",
        "如同建立 list 一樣，你也能加入一些條件\n",
        "\n",
        "```python\n",
        "genexpr = (expression for item in collection\n",
        "      if condition)\n",
        "```\n",
        "對應\n",
        "```\n",
        "def generator():\n",
        "  for item in collection:\n",
        "    if condition:\n",
        "      yield expression\n",
        "```"
      ],
      "metadata": {
        "id": "FmvOrZS7siru"
      }
    },
    {
      "cell_type": "code",
      "source": [
        "even_squares = (x * x for x in range(10)\n",
        "          if x % 2 == 0)"
      ],
      "metadata": {
        "id": "CJr6xC4_sj3k"
      },
      "execution_count": 35,
      "outputs": []
    },
    {
      "cell_type": "markdown",
      "source": [
        "## In-line Generator Expressions\n",
        "由於 generator 是 expression，因此能用 in-line 方式使用"
      ],
      "metadata": {
        "id": "cHZNb-yQtGnb"
      }
    },
    {
      "cell_type": "code",
      "source": [
        "for x in ('Bom dia' for i in range(3)):\n",
        "  print(x)  "
      ],
      "metadata": {
        "colab": {
          "base_uri": "https://localhost:8080/"
        },
        "id": "cQ4M67-0tHQW",
        "outputId": "dc82bb3d-6716-478b-fa8c-4f298ac83eb4"
      },
      "execution_count": 36,
      "outputs": [
        {
          "output_type": "stream",
          "name": "stdout",
          "text": [
            "Bom dia\n",
            "Bom dia\n",
            "Bom dia\n"
          ]
        }
      ]
    },
    {
      "cell_type": "markdown",
      "source": [
        "能讓程式碼更簡潔的作法: 將 generator expression 的括號去除"
      ],
      "metadata": {
        "id": "GYqtJ8v5tzfP"
      }
    },
    {
      "cell_type": "code",
      "source": [
        "sum((x * 2 for x in range(10)))\n",
        "\n",
        "# Versus:\n",
        "\n",
        "sum(x * 2 for x in range(10))"
      ],
      "metadata": {
        "colab": {
          "base_uri": "https://localhost:8080/"
        },
        "id": "R1URsvHJtHUd",
        "outputId": "7edfe5fd-09c8-46e1-8c1b-cbaabff136c6"
      },
      "execution_count": 37,
      "outputs": [
        {
          "output_type": "execute_result",
          "data": {
            "text/plain": [
              "90"
            ]
          },
          "metadata": {},
          "execution_count": 37
        }
      ]
    },
    {
      "cell_type": "markdown",
      "source": [
        "## Too Much of a Good Thing…\n",
        "generator expressions 也允許巢狀迴圈，但這不利於維護，建議最多兩層就好\n",
        "\n",
        "```python\n",
        "(expr for x in xs if cond1\n",
        "  for y in ys if cond2\n",
        "  ...\n",
        "  for z in zs if condN)\n",
        "```\n",
        "對應到的邏輯\n",
        "```\n",
        "for x in xs:\n",
        "  if cond1:\n",
        "    for y in ys:\n",
        "      if cond2:\n",
        "      ...\n",
        "        for z in zs:\n",
        "          if condN:\n",
        "            yield expr\n",
        "```"
      ],
      "metadata": {
        "id": "rH5r88A2uC2O"
      }
    },
    {
      "cell_type": "markdown",
      "source": [
        "**Key Takeaways**\n",
        "+ Generator expressions are **similar to list comprehensions.**\n",
        "However, they don’t construct list objects. Instead, generator\n",
        "expressions generate values “just in time” like a class-based\n",
        "iterator or generator function would.\n",
        "+ Once a generator expression has been consumed, **it can’t be\n",
        "restarted or reused.**\n",
        "+ Generator expressions are best for implementing simple **“ad\n",
        "hoc” iterators.** For complex iterators, it’s better to write a generator function or a class-based iterator"
      ],
      "metadata": {
        "id": "agkXzmSvusLh"
      }
    },
    {
      "cell_type": "markdown",
      "source": [
        "# 6.7 Iterator Chains\n",
        "Here’s another great feature of iterators in Python:  \n",
        "By **chaining together multiple iterators** you can write highly efficient data processing “pipelines."
      ],
      "metadata": {
        "id": "T1OeqMeZvBIA"
      }
    },
    {
      "cell_type": "code",
      "source": [
        "def integers():\n",
        "  for i in range(1, 9):\n",
        "    yield i"
      ],
      "metadata": {
        "id": "0MRqtRZQ-NuW"
      },
      "execution_count": 38,
      "outputs": []
    },
    {
      "cell_type": "code",
      "source": [
        "def squared(seq):\n",
        "  for i in seq:\n",
        "    yield i * i"
      ],
      "metadata": {
        "id": "QUxg9rynuDem"
      },
      "execution_count": 39,
      "outputs": []
    },
    {
      "cell_type": "code",
      "source": [
        "def negated(seq):\n",
        "  for i in seq:\n",
        "    yield -i"
      ],
      "metadata": {
        "id": "z84kcHTw-m28"
      },
      "execution_count": 40,
      "outputs": []
    },
    {
      "cell_type": "code",
      "source": [
        "chain = squared(integers())\n",
        "list(chain)"
      ],
      "metadata": {
        "colab": {
          "base_uri": "https://localhost:8080/"
        },
        "id": "0583kPw5uDjj",
        "outputId": "2524ba5f-bb5b-4c93-adea-9d83f2e71965"
      },
      "execution_count": 41,
      "outputs": [
        {
          "output_type": "execute_result",
          "data": {
            "text/plain": [
              "[1, 4, 9, 16, 25, 36, 49, 64]"
            ]
          },
          "metadata": {},
          "execution_count": 41
        }
      ]
    },
    {
      "cell_type": "code",
      "source": [
        "list(negated(squared(integers())))"
      ],
      "metadata": {
        "colab": {
          "base_uri": "https://localhost:8080/"
        },
        "id": "j-wqPb4HuDmO",
        "outputId": "e2d5e512-5021-49ab-d23e-b00ca2d77eda"
      },
      "execution_count": 42,
      "outputs": [
        {
          "output_type": "execute_result",
          "data": {
            "text/plain": [
              "[-1, -4, -9, -16, -25, -36, -49, -64]"
            ]
          },
          "metadata": {},
          "execution_count": 42
        }
      ]
    },
    {
      "cell_type": "code",
      "source": [
        "integers = range(8)\n",
        "squared = (i * i for i in integers)\n",
        "negated = (-i for i in squared)\n",
        "\n",
        "negated"
      ],
      "metadata": {
        "colab": {
          "base_uri": "https://localhost:8080/"
        },
        "id": "R1JKJ0vy_YvD",
        "outputId": "f64e59cd-ab8e-412c-fc0e-c0dd2f4422f6"
      },
      "execution_count": 43,
      "outputs": [
        {
          "output_type": "execute_result",
          "data": {
            "text/plain": [
              "<generator object <genexpr> at 0x7f52ab14d350>"
            ]
          },
          "metadata": {},
          "execution_count": 43
        }
      ]
    },
    {
      "cell_type": "code",
      "source": [
        "list(negated)"
      ],
      "metadata": {
        "colab": {
          "base_uri": "https://localhost:8080/"
        },
        "id": "mGQlLEODAKrz",
        "outputId": "2d14689b-44a0-416f-dbc3-0097a973d5d9"
      },
      "execution_count": 44,
      "outputs": [
        {
          "output_type": "execute_result",
          "data": {
            "text/plain": [
              "[0, -1, -4, -9, -16, -25, -36, -49]"
            ]
          },
          "metadata": {},
          "execution_count": 44
        }
      ]
    },
    {
      "cell_type": "markdown",
      "source": [
        "**Key Takeaways**\n",
        "+ Generators can be chained together to form highly efficient and\n",
        "maintainable data processing pipelines.\n",
        "+ Chained generators process each element going through the\n",
        "chain individually.\n",
        "+ Generator expressions can be used to write concise pipeline definitions, but this can impact readability."
      ],
      "metadata": {
        "id": "5lNKxDMnAWFa"
      }
    }
  ]
}